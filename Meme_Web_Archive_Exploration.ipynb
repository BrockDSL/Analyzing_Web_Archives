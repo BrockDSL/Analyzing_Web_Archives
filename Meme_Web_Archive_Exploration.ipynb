{
  "nbformat": 4,
  "nbformat_minor": 0,
  "metadata": {
    "colab": {
      "name": "Meme Web Archive Exploration",
      "provenance": [],
      "collapsed_sections": [],
      "include_colab_link": true
    },
    "kernelspec": {
      "name": "python3",
      "display_name": "Python 3"
    },
    "language_info": {
      "name": "python"
    },
    "widgets": {
      "application/vnd.jupyter.widget-state+json": {
        "d30598a399d042f7ac88c7718f8baa39": {
          "model_module": "@jupyter-widgets/controls",
          "model_name": "VBoxModel",
          "model_module_version": "1.5.0",
          "state": {
            "_view_name": "VBoxView",
            "_dom_classes": [
              "widget-interact"
            ],
            "_model_name": "VBoxModel",
            "_view_module": "@jupyter-widgets/controls",
            "_model_module_version": "1.5.0",
            "_view_count": null,
            "_view_module_version": "1.5.0",
            "box_style": "",
            "layout": "IPY_MODEL_c2d11ef2cd4349b48db2874499be1ac2",
            "_model_module": "@jupyter-widgets/controls",
            "children": [
              "IPY_MODEL_8023e75642904cc3b3da51562d66e863",
              "IPY_MODEL_30ff7de5239c492db9804faac07a29c0",
              "IPY_MODEL_d65d3b30820d4b22ba8dedb907a2fbe7"
            ]
          }
        },
        "c2d11ef2cd4349b48db2874499be1ac2": {
          "model_module": "@jupyter-widgets/base",
          "model_name": "LayoutModel",
          "model_module_version": "1.2.0",
          "state": {
            "_view_name": "LayoutView",
            "grid_template_rows": null,
            "right": null,
            "justify_content": null,
            "_view_module": "@jupyter-widgets/base",
            "overflow": null,
            "_model_module_version": "1.2.0",
            "_view_count": null,
            "flex_flow": null,
            "width": null,
            "min_width": null,
            "border": null,
            "align_items": null,
            "bottom": null,
            "_model_module": "@jupyter-widgets/base",
            "top": null,
            "grid_column": null,
            "overflow_y": null,
            "overflow_x": null,
            "grid_auto_flow": null,
            "grid_area": null,
            "grid_template_columns": null,
            "flex": null,
            "_model_name": "LayoutModel",
            "justify_items": null,
            "grid_row": null,
            "max_height": null,
            "align_content": null,
            "visibility": null,
            "align_self": null,
            "height": null,
            "min_height": null,
            "padding": null,
            "grid_auto_rows": null,
            "grid_gap": null,
            "max_width": null,
            "order": null,
            "_view_module_version": "1.2.0",
            "grid_template_areas": null,
            "object_position": null,
            "object_fit": null,
            "grid_auto_columns": null,
            "margin": null,
            "display": null,
            "left": null
          }
        },
        "8023e75642904cc3b3da51562d66e863": {
          "model_module": "@jupyter-widgets/controls",
          "model_name": "TextModel",
          "model_module_version": "1.5.0",
          "state": {
            "_view_name": "TextView",
            "style": "IPY_MODEL_c83432e239584861a38465cf9807cf5d",
            "_dom_classes": [],
            "description": "Category",
            "_model_name": "TextModel",
            "placeholder": "​",
            "_view_module": "@jupyter-widgets/controls",
            "_model_module_version": "1.5.0",
            "value": "All the things",
            "_view_count": null,
            "disabled": false,
            "_view_module_version": "1.5.0",
            "continuous_update": true,
            "description_tooltip": null,
            "_model_module": "@jupyter-widgets/controls",
            "layout": "IPY_MODEL_5b4a3078b39c4fb88e6de8ca5b771ded"
          }
        },
        "30ff7de5239c492db9804faac07a29c0": {
          "model_module": "@jupyter-widgets/controls",
          "model_name": "ButtonModel",
          "model_module_version": "1.5.0",
          "state": {
            "_view_name": "ButtonView",
            "style": "IPY_MODEL_2dbc3011e7b74c8f8f4ffffd9decb44d",
            "_dom_classes": [],
            "description": "Show",
            "_model_name": "ButtonModel",
            "button_style": "",
            "_view_module": "@jupyter-widgets/controls",
            "_model_module_version": "1.5.0",
            "tooltip": "",
            "_view_count": null,
            "disabled": false,
            "_view_module_version": "1.5.0",
            "layout": "IPY_MODEL_f4a2e01639f743a49fc8a01614bfab4e",
            "_model_module": "@jupyter-widgets/controls",
            "icon": ""
          }
        },
        "d65d3b30820d4b22ba8dedb907a2fbe7": {
          "model_module": "@jupyter-widgets/output",
          "model_name": "OutputModel",
          "model_module_version": "1.0.0",
          "state": {
            "_view_name": "OutputView",
            "msg_id": "",
            "_dom_classes": [],
            "_model_name": "OutputModel",
            "outputs": [
              {
                "output_type": "stream",
                "name": "stdout",
                "text": [
                  "View on Memegenerator: \t http://memegenerator.net/instance/20578487\n",
                  "View on Archive: \t\t\t http://webarchive.loc.gov/all/0/http://cdn.meme.am/instances/250x250/20578487.jpg\n"
                ]
              },
              {
                "output_type": "display_data",
                "data": {
                  "text/html": "<img src=\"http://webarchive.loc.gov/all/0/http://cdn.meme.am/instances/250x250/20578487.jpg\"/>",
                  "text/plain": "<IPython.core.display.Image object>"
                },
                "metadata": {}
              },
              {
                "output_type": "display_data",
                "data": {
                  "text/html": "\n  <div id=\"df-c3e3a106-ab9b-4fa2-8fae-29bf5fc9b78b\">\n    <div class=\"colab-df-container\">\n      <div>\n<style scoped>\n    .dataframe tbody tr th:only-of-type {\n        vertical-align: middle;\n    }\n\n    .dataframe tbody tr th {\n        vertical-align: top;\n    }\n\n    .dataframe thead th {\n        text-align: right;\n    }\n</style>\n<table border=\"1\" class=\"dataframe\">\n  <thead>\n    <tr style=\"text-align: right;\">\n      <th></th>\n      <th>Meme ID</th>\n      <th>Archived URL</th>\n      <th>Base Meme Name</th>\n      <th>Meme Page URL</th>\n      <th>MD5 Hash</th>\n      <th>File Size (In Bytes)</th>\n      <th>Alternate Text</th>\n      <th>Display Name</th>\n      <th>Upper Text</th>\n      <th>Lower Text</th>\n    </tr>\n  </thead>\n  <tbody>\n    <tr>\n      <th>30773</th>\n      <td>20578487</td>\n      <td>http://webarchive.loc.gov/all/0/http://cdn.mem...</td>\n      <td>All the things</td>\n      <td>http://memegenerator.net/instance/20578487</td>\n      <td>bc494de6e4d4cc3d2166f5a102116329</td>\n      <td>42670</td>\n      <td>avoid all the work</td>\n      <td>All the things</td>\n      <td>avoid</td>\n      <td>all the work</td>\n    </tr>\n  </tbody>\n</table>\n</div>\n      <button class=\"colab-df-convert\" onclick=\"convertToInteractive('df-c3e3a106-ab9b-4fa2-8fae-29bf5fc9b78b')\"\n              title=\"Convert this dataframe to an interactive table.\"\n              style=\"display:none;\">\n        \n  <svg xmlns=\"http://www.w3.org/2000/svg\" height=\"24px\"viewBox=\"0 0 24 24\"\n       width=\"24px\">\n    <path d=\"M0 0h24v24H0V0z\" fill=\"none\"/>\n    <path d=\"M18.56 5.44l.94 2.06.94-2.06 2.06-.94-2.06-.94-.94-2.06-.94 2.06-2.06.94zm-11 1L8.5 8.5l.94-2.06 2.06-.94-2.06-.94L8.5 2.5l-.94 2.06-2.06.94zm10 10l.94 2.06.94-2.06 2.06-.94-2.06-.94-.94-2.06-.94 2.06-2.06.94z\"/><path d=\"M17.41 7.96l-1.37-1.37c-.4-.4-.92-.59-1.43-.59-.52 0-1.04.2-1.43.59L10.3 9.45l-7.72 7.72c-.78.78-.78 2.05 0 2.83L4 21.41c.39.39.9.59 1.41.59.51 0 1.02-.2 1.41-.59l7.78-7.78 2.81-2.81c.8-.78.8-2.07 0-2.86zM5.41 20L4 18.59l7.72-7.72 1.47 1.35L5.41 20z\"/>\n  </svg>\n      </button>\n      \n  <style>\n    .colab-df-container {\n      display:flex;\n      flex-wrap:wrap;\n      gap: 12px;\n    }\n\n    .colab-df-convert {\n      background-color: #E8F0FE;\n      border: none;\n      border-radius: 50%;\n      cursor: pointer;\n      display: none;\n      fill: #1967D2;\n      height: 32px;\n      padding: 0 0 0 0;\n      width: 32px;\n    }\n\n    .colab-df-convert:hover {\n      background-color: #E2EBFA;\n      box-shadow: 0px 1px 2px rgba(60, 64, 67, 0.3), 0px 1px 3px 1px rgba(60, 64, 67, 0.15);\n      fill: #174EA6;\n    }\n\n    [theme=dark] .colab-df-convert {\n      background-color: #3B4455;\n      fill: #D2E3FC;\n    }\n\n    [theme=dark] .colab-df-convert:hover {\n      background-color: #434B5C;\n      box-shadow: 0px 1px 3px 1px rgba(0, 0, 0, 0.15);\n      filter: drop-shadow(0px 1px 2px rgba(0, 0, 0, 0.3));\n      fill: #FFFFFF;\n    }\n  </style>\n\n      <script>\n        const buttonEl =\n          document.querySelector('#df-c3e3a106-ab9b-4fa2-8fae-29bf5fc9b78b button.colab-df-convert');\n        buttonEl.style.display =\n          google.colab.kernel.accessAllowed ? 'block' : 'none';\n\n        async function convertToInteractive(key) {\n          const element = document.querySelector('#df-c3e3a106-ab9b-4fa2-8fae-29bf5fc9b78b');\n          const dataTable =\n            await google.colab.kernel.invokeFunction('convertToInteractive',\n                                                     [key], {});\n          if (!dataTable) return;\n\n          const docLinkHtml = 'Like what you see? Visit the ' +\n            '<a target=\"_blank\" href=https://colab.research.google.com/notebooks/data_table.ipynb>data table notebook</a>'\n            + ' to learn more about interactive tables.';\n          element.innerHTML = '';\n          dataTable['output_type'] = 'display_data';\n          await google.colab.output.renderOutput(dataTable, element);\n          const docLink = document.createElement('div');\n          docLink.innerHTML = docLinkHtml;\n          element.appendChild(docLink);\n        }\n      </script>\n    </div>\n  </div>\n  ",
                  "text/plain": "        Meme ID  ...    Lower Text\n30773  20578487  ...  all the work\n\n[1 rows x 10 columns]"
                },
                "metadata": {}
              }
            ],
            "_view_module": "@jupyter-widgets/output",
            "_model_module_version": "1.0.0",
            "_view_count": null,
            "_view_module_version": "1.0.0",
            "layout": "IPY_MODEL_0f2cc3918951426895ff5c67991a5120",
            "_model_module": "@jupyter-widgets/output"
          }
        },
        "c83432e239584861a38465cf9807cf5d": {
          "model_module": "@jupyter-widgets/controls",
          "model_name": "DescriptionStyleModel",
          "model_module_version": "1.5.0",
          "state": {
            "_view_name": "StyleView",
            "_model_name": "DescriptionStyleModel",
            "description_width": "",
            "_view_module": "@jupyter-widgets/base",
            "_model_module_version": "1.5.0",
            "_view_count": null,
            "_view_module_version": "1.2.0",
            "_model_module": "@jupyter-widgets/controls"
          }
        },
        "5b4a3078b39c4fb88e6de8ca5b771ded": {
          "model_module": "@jupyter-widgets/base",
          "model_name": "LayoutModel",
          "model_module_version": "1.2.0",
          "state": {
            "_view_name": "LayoutView",
            "grid_template_rows": null,
            "right": null,
            "justify_content": null,
            "_view_module": "@jupyter-widgets/base",
            "overflow": null,
            "_model_module_version": "1.2.0",
            "_view_count": null,
            "flex_flow": null,
            "width": null,
            "min_width": null,
            "border": null,
            "align_items": null,
            "bottom": null,
            "_model_module": "@jupyter-widgets/base",
            "top": null,
            "grid_column": null,
            "overflow_y": null,
            "overflow_x": null,
            "grid_auto_flow": null,
            "grid_area": null,
            "grid_template_columns": null,
            "flex": null,
            "_model_name": "LayoutModel",
            "justify_items": null,
            "grid_row": null,
            "max_height": null,
            "align_content": null,
            "visibility": null,
            "align_self": null,
            "height": null,
            "min_height": null,
            "padding": null,
            "grid_auto_rows": null,
            "grid_gap": null,
            "max_width": null,
            "order": null,
            "_view_module_version": "1.2.0",
            "grid_template_areas": null,
            "object_position": null,
            "object_fit": null,
            "grid_auto_columns": null,
            "margin": null,
            "display": null,
            "left": null
          }
        },
        "2dbc3011e7b74c8f8f4ffffd9decb44d": {
          "model_module": "@jupyter-widgets/controls",
          "model_name": "ButtonStyleModel",
          "model_module_version": "1.5.0",
          "state": {
            "_view_name": "StyleView",
            "_model_name": "ButtonStyleModel",
            "_view_module": "@jupyter-widgets/base",
            "_model_module_version": "1.5.0",
            "_view_count": null,
            "button_color": null,
            "font_weight": "",
            "_view_module_version": "1.2.0",
            "_model_module": "@jupyter-widgets/controls"
          }
        },
        "f4a2e01639f743a49fc8a01614bfab4e": {
          "model_module": "@jupyter-widgets/base",
          "model_name": "LayoutModel",
          "model_module_version": "1.2.0",
          "state": {
            "_view_name": "LayoutView",
            "grid_template_rows": null,
            "right": null,
            "justify_content": null,
            "_view_module": "@jupyter-widgets/base",
            "overflow": null,
            "_model_module_version": "1.2.0",
            "_view_count": null,
            "flex_flow": null,
            "width": null,
            "min_width": null,
            "border": null,
            "align_items": null,
            "bottom": null,
            "_model_module": "@jupyter-widgets/base",
            "top": null,
            "grid_column": null,
            "overflow_y": null,
            "overflow_x": null,
            "grid_auto_flow": null,
            "grid_area": null,
            "grid_template_columns": null,
            "flex": null,
            "_model_name": "LayoutModel",
            "justify_items": null,
            "grid_row": null,
            "max_height": null,
            "align_content": null,
            "visibility": null,
            "align_self": null,
            "height": null,
            "min_height": null,
            "padding": null,
            "grid_auto_rows": null,
            "grid_gap": null,
            "max_width": null,
            "order": null,
            "_view_module_version": "1.2.0",
            "grid_template_areas": null,
            "object_position": null,
            "object_fit": null,
            "grid_auto_columns": null,
            "margin": null,
            "display": null,
            "left": null
          }
        },
        "0f2cc3918951426895ff5c67991a5120": {
          "model_module": "@jupyter-widgets/base",
          "model_name": "LayoutModel",
          "model_module_version": "1.2.0",
          "state": {
            "_view_name": "LayoutView",
            "grid_template_rows": null,
            "right": null,
            "justify_content": null,
            "_view_module": "@jupyter-widgets/base",
            "overflow": null,
            "_model_module_version": "1.2.0",
            "_view_count": null,
            "flex_flow": null,
            "width": null,
            "min_width": null,
            "border": null,
            "align_items": null,
            "bottom": null,
            "_model_module": "@jupyter-widgets/base",
            "top": null,
            "grid_column": null,
            "overflow_y": null,
            "overflow_x": null,
            "grid_auto_flow": null,
            "grid_area": null,
            "grid_template_columns": null,
            "flex": null,
            "_model_name": "LayoutModel",
            "justify_items": null,
            "grid_row": null,
            "max_height": null,
            "align_content": null,
            "visibility": null,
            "align_self": null,
            "height": null,
            "min_height": null,
            "padding": null,
            "grid_auto_rows": null,
            "grid_gap": null,
            "max_width": null,
            "order": null,
            "_view_module_version": "1.2.0",
            "grid_template_areas": null,
            "object_position": null,
            "object_fit": null,
            "grid_auto_columns": null,
            "margin": null,
            "display": null,
            "left": null
          }
        },
        "a58ad0705b6d415780364f72a261be67": {
          "model_module": "@jupyter-widgets/controls",
          "model_name": "VBoxModel",
          "model_module_version": "1.5.0",
          "state": {
            "_view_name": "VBoxView",
            "_dom_classes": [
              "widget-interact"
            ],
            "_model_name": "VBoxModel",
            "_view_module": "@jupyter-widgets/controls",
            "_model_module_version": "1.5.0",
            "_view_count": null,
            "_view_module_version": "1.5.0",
            "box_style": "",
            "layout": "IPY_MODEL_315e149a52b44feb8fa06130b505b4b0",
            "_model_module": "@jupyter-widgets/controls",
            "children": [
              "IPY_MODEL_12f0c2f04d494cd69c63937e5a215188",
              "IPY_MODEL_3e9fe2468e1842ecaccb352b2286a252",
              "IPY_MODEL_76c7edb8535147f491084bafe963e475"
            ]
          }
        },
        "315e149a52b44feb8fa06130b505b4b0": {
          "model_module": "@jupyter-widgets/base",
          "model_name": "LayoutModel",
          "model_module_version": "1.2.0",
          "state": {
            "_view_name": "LayoutView",
            "grid_template_rows": null,
            "right": null,
            "justify_content": null,
            "_view_module": "@jupyter-widgets/base",
            "overflow": null,
            "_model_module_version": "1.2.0",
            "_view_count": null,
            "flex_flow": null,
            "width": null,
            "min_width": null,
            "border": null,
            "align_items": null,
            "bottom": null,
            "_model_module": "@jupyter-widgets/base",
            "top": null,
            "grid_column": null,
            "overflow_y": null,
            "overflow_x": null,
            "grid_auto_flow": null,
            "grid_area": null,
            "grid_template_columns": null,
            "flex": null,
            "_model_name": "LayoutModel",
            "justify_items": null,
            "grid_row": null,
            "max_height": null,
            "align_content": null,
            "visibility": null,
            "align_self": null,
            "height": null,
            "min_height": null,
            "padding": null,
            "grid_auto_rows": null,
            "grid_gap": null,
            "max_width": null,
            "order": null,
            "_view_module_version": "1.2.0",
            "grid_template_areas": null,
            "object_position": null,
            "object_fit": null,
            "grid_auto_columns": null,
            "margin": null,
            "display": null,
            "left": null
          }
        },
        "12f0c2f04d494cd69c63937e5a215188": {
          "model_module": "@jupyter-widgets/controls",
          "model_name": "TextModel",
          "model_module_version": "1.5.0",
          "state": {
            "_view_name": "TextView",
            "style": "IPY_MODEL_1dc5b12a89d34e0bb1211bee6aa48e7d",
            "_dom_classes": [],
            "description": "Language",
            "_model_name": "TextModel",
            "placeholder": "​",
            "_view_module": "@jupyter-widgets/controls",
            "_model_module_version": "1.5.0",
            "value": "ru",
            "_view_count": null,
            "disabled": false,
            "_view_module_version": "1.5.0",
            "continuous_update": true,
            "description_tooltip": null,
            "_model_module": "@jupyter-widgets/controls",
            "layout": "IPY_MODEL_d2df1e3a25f5437d8b806622a66c11f9"
          }
        },
        "3e9fe2468e1842ecaccb352b2286a252": {
          "model_module": "@jupyter-widgets/controls",
          "model_name": "ButtonModel",
          "model_module_version": "1.5.0",
          "state": {
            "_view_name": "ButtonView",
            "style": "IPY_MODEL_15eb988e93b44ea79709aebbf5192e0a",
            "_dom_classes": [],
            "description": "Show",
            "_model_name": "ButtonModel",
            "button_style": "",
            "_view_module": "@jupyter-widgets/controls",
            "_model_module_version": "1.5.0",
            "tooltip": "",
            "_view_count": null,
            "disabled": false,
            "_view_module_version": "1.5.0",
            "layout": "IPY_MODEL_b33b81e6008b4e6f9d75c24372916a7c",
            "_model_module": "@jupyter-widgets/controls",
            "icon": ""
          }
        },
        "76c7edb8535147f491084bafe963e475": {
          "model_module": "@jupyter-widgets/output",
          "model_name": "OutputModel",
          "model_module_version": "1.0.0",
          "state": {
            "_view_name": "OutputView",
            "msg_id": "",
            "_dom_classes": [],
            "_model_name": "OutputModel",
            "outputs": [
              {
                "output_type": "display_data",
                "data": {
                  "text/html": "<img src=\"http://webarchive.loc.gov/all/0/http://cdn.meme.am/instances/250x250/10331864.jpg\"/>",
                  "text/plain": "<IPython.core.display.Image object>"
                },
                "metadata": {}
              },
              {
                "output_type": "display_data",
                "data": {
                  "text/html": "\n  <div id=\"df-804d2798-a360-49ba-a9ba-a1236156a818\">\n    <div class=\"colab-df-container\">\n      <div>\n<style scoped>\n    .dataframe tbody tr th:only-of-type {\n        vertical-align: middle;\n    }\n\n    .dataframe tbody tr th {\n        vertical-align: top;\n    }\n\n    .dataframe thead th {\n        text-align: right;\n    }\n</style>\n<table border=\"1\" class=\"dataframe\">\n  <thead>\n    <tr style=\"text-align: right;\">\n      <th></th>\n      <th>Meme ID</th>\n      <th>Archived URL</th>\n      <th>Base Meme Name</th>\n      <th>Meme Page URL</th>\n      <th>MD5 Hash</th>\n      <th>File Size (In Bytes)</th>\n      <th>Alternate Text</th>\n      <th>Display Name</th>\n      <th>Upper Text</th>\n      <th>Lower Text</th>\n      <th>Language</th>\n      <th>Score</th>\n    </tr>\n  </thead>\n  <tbody>\n    <tr>\n      <th>2841</th>\n      <td>10331864</td>\n      <td>http://webarchive.loc.gov/all/0/http://cdn.meme.am/instances/250x250/10331864.jpg</td>\n      <td>Historian</td>\n      <td>http://memegenerator.net/instance/10331864</td>\n      <td>cda663b52c89efda800cc07dbd2a0d9d</td>\n      <td>44333.0</td>\n      <td>Тебе тоже жаль византию?</td>\n      <td>Historian</td>\n      <td>Тебе тоже</td>\n      <td>жаль византию?</td>\n      <td>ru</td>\n      <td>200.0</td>\n    </tr>\n  </tbody>\n</table>\n</div>\n      <button class=\"colab-df-convert\" onclick=\"convertToInteractive('df-804d2798-a360-49ba-a9ba-a1236156a818')\"\n              title=\"Convert this dataframe to an interactive table.\"\n              style=\"display:none;\">\n        \n  <svg xmlns=\"http://www.w3.org/2000/svg\" height=\"24px\"viewBox=\"0 0 24 24\"\n       width=\"24px\">\n    <path d=\"M0 0h24v24H0V0z\" fill=\"none\"/>\n    <path d=\"M18.56 5.44l.94 2.06.94-2.06 2.06-.94-2.06-.94-.94-2.06-.94 2.06-2.06.94zm-11 1L8.5 8.5l.94-2.06 2.06-.94-2.06-.94L8.5 2.5l-.94 2.06-2.06.94zm10 10l.94 2.06.94-2.06 2.06-.94-2.06-.94-.94-2.06-.94 2.06-2.06.94z\"/><path d=\"M17.41 7.96l-1.37-1.37c-.4-.4-.92-.59-1.43-.59-.52 0-1.04.2-1.43.59L10.3 9.45l-7.72 7.72c-.78.78-.78 2.05 0 2.83L4 21.41c.39.39.9.59 1.41.59.51 0 1.02-.2 1.41-.59l7.78-7.78 2.81-2.81c.8-.78.8-2.07 0-2.86zM5.41 20L4 18.59l7.72-7.72 1.47 1.35L5.41 20z\"/>\n  </svg>\n      </button>\n      \n  <style>\n    .colab-df-container {\n      display:flex;\n      flex-wrap:wrap;\n      gap: 12px;\n    }\n\n    .colab-df-convert {\n      background-color: #E8F0FE;\n      border: none;\n      border-radius: 50%;\n      cursor: pointer;\n      display: none;\n      fill: #1967D2;\n      height: 32px;\n      padding: 0 0 0 0;\n      width: 32px;\n    }\n\n    .colab-df-convert:hover {\n      background-color: #E2EBFA;\n      box-shadow: 0px 1px 2px rgba(60, 64, 67, 0.3), 0px 1px 3px 1px rgba(60, 64, 67, 0.15);\n      fill: #174EA6;\n    }\n\n    [theme=dark] .colab-df-convert {\n      background-color: #3B4455;\n      fill: #D2E3FC;\n    }\n\n    [theme=dark] .colab-df-convert:hover {\n      background-color: #434B5C;\n      box-shadow: 0px 1px 3px 1px rgba(0, 0, 0, 0.15);\n      filter: drop-shadow(0px 1px 2px rgba(0, 0, 0, 0.3));\n      fill: #FFFFFF;\n    }\n  </style>\n\n      <script>\n        const buttonEl =\n          document.querySelector('#df-804d2798-a360-49ba-a9ba-a1236156a818 button.colab-df-convert');\n        buttonEl.style.display =\n          google.colab.kernel.accessAllowed ? 'block' : 'none';\n\n        async function convertToInteractive(key) {\n          const element = document.querySelector('#df-804d2798-a360-49ba-a9ba-a1236156a818');\n          const dataTable =\n            await google.colab.kernel.invokeFunction('convertToInteractive',\n                                                     [key], {});\n          if (!dataTable) return;\n\n          const docLinkHtml = 'Like what you see? Visit the ' +\n            '<a target=\"_blank\" href=https://colab.research.google.com/notebooks/data_table.ipynb>data table notebook</a>'\n            + ' to learn more about interactive tables.';\n          element.innerHTML = '';\n          dataTable['output_type'] = 'display_data';\n          await google.colab.output.renderOutput(dataTable, element);\n          const docLink = document.createElement('div');\n          docLink.innerHTML = docLinkHtml;\n          element.appendChild(docLink);\n        }\n      </script>\n    </div>\n  </div>\n  ",
                  "text/plain": "       Meme ID  ...  Score\n2841  10331864  ...  200.0\n\n[1 rows x 12 columns]"
                },
                "metadata": {}
              }
            ],
            "_view_module": "@jupyter-widgets/output",
            "_model_module_version": "1.0.0",
            "_view_count": null,
            "_view_module_version": "1.0.0",
            "layout": "IPY_MODEL_3df817385be94ad48e494596f5912d24",
            "_model_module": "@jupyter-widgets/output"
          }
        },
        "1dc5b12a89d34e0bb1211bee6aa48e7d": {
          "model_module": "@jupyter-widgets/controls",
          "model_name": "DescriptionStyleModel",
          "model_module_version": "1.5.0",
          "state": {
            "_view_name": "StyleView",
            "_model_name": "DescriptionStyleModel",
            "description_width": "",
            "_view_module": "@jupyter-widgets/base",
            "_model_module_version": "1.5.0",
            "_view_count": null,
            "_view_module_version": "1.2.0",
            "_model_module": "@jupyter-widgets/controls"
          }
        },
        "d2df1e3a25f5437d8b806622a66c11f9": {
          "model_module": "@jupyter-widgets/base",
          "model_name": "LayoutModel",
          "model_module_version": "1.2.0",
          "state": {
            "_view_name": "LayoutView",
            "grid_template_rows": null,
            "right": null,
            "justify_content": null,
            "_view_module": "@jupyter-widgets/base",
            "overflow": null,
            "_model_module_version": "1.2.0",
            "_view_count": null,
            "flex_flow": null,
            "width": null,
            "min_width": null,
            "border": null,
            "align_items": null,
            "bottom": null,
            "_model_module": "@jupyter-widgets/base",
            "top": null,
            "grid_column": null,
            "overflow_y": null,
            "overflow_x": null,
            "grid_auto_flow": null,
            "grid_area": null,
            "grid_template_columns": null,
            "flex": null,
            "_model_name": "LayoutModel",
            "justify_items": null,
            "grid_row": null,
            "max_height": null,
            "align_content": null,
            "visibility": null,
            "align_self": null,
            "height": null,
            "min_height": null,
            "padding": null,
            "grid_auto_rows": null,
            "grid_gap": null,
            "max_width": null,
            "order": null,
            "_view_module_version": "1.2.0",
            "grid_template_areas": null,
            "object_position": null,
            "object_fit": null,
            "grid_auto_columns": null,
            "margin": null,
            "display": null,
            "left": null
          }
        },
        "15eb988e93b44ea79709aebbf5192e0a": {
          "model_module": "@jupyter-widgets/controls",
          "model_name": "ButtonStyleModel",
          "model_module_version": "1.5.0",
          "state": {
            "_view_name": "StyleView",
            "_model_name": "ButtonStyleModel",
            "_view_module": "@jupyter-widgets/base",
            "_model_module_version": "1.5.0",
            "_view_count": null,
            "button_color": null,
            "font_weight": "",
            "_view_module_version": "1.2.0",
            "_model_module": "@jupyter-widgets/controls"
          }
        },
        "b33b81e6008b4e6f9d75c24372916a7c": {
          "model_module": "@jupyter-widgets/base",
          "model_name": "LayoutModel",
          "model_module_version": "1.2.0",
          "state": {
            "_view_name": "LayoutView",
            "grid_template_rows": null,
            "right": null,
            "justify_content": null,
            "_view_module": "@jupyter-widgets/base",
            "overflow": null,
            "_model_module_version": "1.2.0",
            "_view_count": null,
            "flex_flow": null,
            "width": null,
            "min_width": null,
            "border": null,
            "align_items": null,
            "bottom": null,
            "_model_module": "@jupyter-widgets/base",
            "top": null,
            "grid_column": null,
            "overflow_y": null,
            "overflow_x": null,
            "grid_auto_flow": null,
            "grid_area": null,
            "grid_template_columns": null,
            "flex": null,
            "_model_name": "LayoutModel",
            "justify_items": null,
            "grid_row": null,
            "max_height": null,
            "align_content": null,
            "visibility": null,
            "align_self": null,
            "height": null,
            "min_height": null,
            "padding": null,
            "grid_auto_rows": null,
            "grid_gap": null,
            "max_width": null,
            "order": null,
            "_view_module_version": "1.2.0",
            "grid_template_areas": null,
            "object_position": null,
            "object_fit": null,
            "grid_auto_columns": null,
            "margin": null,
            "display": null,
            "left": null
          }
        },
        "3df817385be94ad48e494596f5912d24": {
          "model_module": "@jupyter-widgets/base",
          "model_name": "LayoutModel",
          "model_module_version": "1.2.0",
          "state": {
            "_view_name": "LayoutView",
            "grid_template_rows": null,
            "right": null,
            "justify_content": null,
            "_view_module": "@jupyter-widgets/base",
            "overflow": null,
            "_model_module_version": "1.2.0",
            "_view_count": null,
            "flex_flow": null,
            "width": null,
            "min_width": null,
            "border": null,
            "align_items": null,
            "bottom": null,
            "_model_module": "@jupyter-widgets/base",
            "top": null,
            "grid_column": null,
            "overflow_y": null,
            "overflow_x": null,
            "grid_auto_flow": null,
            "grid_area": null,
            "grid_template_columns": null,
            "flex": null,
            "_model_name": "LayoutModel",
            "justify_items": null,
            "grid_row": null,
            "max_height": null,
            "align_content": null,
            "visibility": null,
            "align_self": null,
            "height": null,
            "min_height": null,
            "padding": null,
            "grid_auto_rows": null,
            "grid_gap": null,
            "max_width": null,
            "order": null,
            "_view_module_version": "1.2.0",
            "grid_template_areas": null,
            "object_position": null,
            "object_fit": null,
            "grid_auto_columns": null,
            "margin": null,
            "display": null,
            "left": null
          }
        }
      }
    }
  },
  "cells": [
    {
      "cell_type": "markdown",
      "metadata": {
        "id": "view-in-github",
        "colab_type": "text"
      },
      "source": [
        "<a href=\"https://colab.research.google.com/github/BrockDSL/Analyzing_Web_Archives/blob/main/Meme_Web_Archive_Exploration.ipynb\" target=\"_parent\"><img src=\"https://colab.research.google.com/assets/colab-badge.svg\" alt=\"Open In Colab\"/></a>"
      ]
    },
    {
      "cell_type": "markdown",
      "source": [
        "![dsl_logo.png](https://raw.githubusercontent.com/BrockDSL/Analyzing_Web_Archives/main/dsl_logo.png)\n",
        "\n",
        "# Analyzing Web Archives\n",
        "\n",
        "Welcome to the Digital Scholarship Lab Level Analyzing Web Archives workshop. The following notebook provides an investigation into the [Meme Generator dataset](https://www.loc.gov/item/2018655320/)\n",
        "\n",
        "\n",
        "## How this notebook works\n",
        "\n",
        "This webpage is a Google Colab notebook and is comprised of different *cells*. Some are code cells that run Python snippets. To works through these cells simply click on the triangle _run_ button in each cell. Click in the cell below to see the play button, then click on it."
      ],
      "metadata": {
        "id": "7MDVEzH37J1m"
      }
    },
    {
      "cell_type": "code",
      "execution_count": null,
      "metadata": {
        "id": "zUSj3buK7GgK",
        "colab": {
          "base_uri": "https://localhost:8080/"
        },
        "outputId": "6ccfa58e-ea60-458c-f828-dfe173177018"
      },
      "outputs": [
        {
          "output_type": "stream",
          "name": "stdout",
          "text": [
            "Requirement already satisfied: langdetect in /usr/local/lib/python3.7/dist-packages (1.0.9)\n",
            "Requirement already satisfied: six in /usr/local/lib/python3.7/dist-packages (from langdetect) (1.15.0)\n",
            "Requirement already satisfied: pandas in /usr/local/lib/python3.7/dist-packages (1.1.5)\n",
            "Requirement already satisfied: python-dateutil>=2.7.3 in /usr/local/lib/python3.7/dist-packages (from pandas) (2.8.2)\n",
            "Requirement already satisfied: numpy>=1.15.4 in /usr/local/lib/python3.7/dist-packages (from pandas) (1.19.5)\n",
            "Requirement already satisfied: pytz>=2017.2 in /usr/local/lib/python3.7/dist-packages (from pandas) (2018.9)\n",
            "Requirement already satisfied: six>=1.5 in /usr/local/lib/python3.7/dist-packages (from python-dateutil>=2.7.3->pandas) (1.15.0)\n",
            "Requirement already satisfied: matplotlib in /usr/local/lib/python3.7/dist-packages (3.2.2)\n",
            "Requirement already satisfied: numpy>=1.11 in /usr/local/lib/python3.7/dist-packages (from matplotlib) (1.19.5)\n",
            "Requirement already satisfied: kiwisolver>=1.0.1 in /usr/local/lib/python3.7/dist-packages (from matplotlib) (1.3.2)\n",
            "Requirement already satisfied: pyparsing!=2.0.4,!=2.1.2,!=2.1.6,>=2.0.1 in /usr/local/lib/python3.7/dist-packages (from matplotlib) (3.0.6)\n",
            "Requirement already satisfied: python-dateutil>=2.1 in /usr/local/lib/python3.7/dist-packages (from matplotlib) (2.8.2)\n",
            "Requirement already satisfied: cycler>=0.10 in /usr/local/lib/python3.7/dist-packages (from matplotlib) (0.11.0)\n",
            "Requirement already satisfied: six>=1.5 in /usr/local/lib/python3.7/dist-packages (from python-dateutil>=2.1->matplotlib) (1.15.0)\n",
            "\n",
            "Libraries loaded, and ready to run!\n"
          ]
        }
      ],
      "source": [
        "!pip install langdetect\n",
        "!pip install pandas\n",
        "!pip install matplotlib\n",
        "\n",
        "import pandas as pd\n",
        "import matplotlib.pyplot as plt\n",
        "from IPython.display import Image,display,IFrame\n",
        "from ipywidgets import widgets,interact,interact_manual\n",
        "from langdetect import detect\n",
        "import matplotlib.pyplot as plt\n",
        "\n",
        "global rando\n",
        "\n",
        "%matplotlib inline\n",
        "print(\"\\nLibraries loaded, and ready to run!\")"
      ]
    },
    {
      "cell_type": "markdown",
      "source": [
        "# Loading our data set\n",
        "\n",
        "The information from this archive is saved in a _CSV_ file. Or put in otherwords, something like a spreadsheet. In the next cell we will load this file into something call a dataframe and we'll look at the first 5 entries by looking at the **head**."
      ],
      "metadata": {
        "id": "KSZ93LCjA8NB"
      }
    },
    {
      "cell_type": "code",
      "source": [
        "meme_data = pd.read_csv(\"https://raw.githubusercontent.com/BrockDSL/Analyzing_Web_Archives/main/memegenerator.csv\", sep=\",\")\n",
        "meme_data[\"Meme ID\"] = meme_data[\"Meme ID\"].astype(str)\n",
        "\n",
        "meme_data.head(5)"
      ],
      "metadata": {
        "id": "pD7R7tpLBXok",
        "colab": {
          "base_uri": "https://localhost:8080/",
          "height": 407
        },
        "outputId": "3a310ac8-8e3f-4dd6-a3f1-7dc931b35ed7"
      },
      "execution_count": null,
      "outputs": [
        {
          "output_type": "execute_result",
          "data": {
            "text/html": [
              "\n",
              "  <div id=\"df-7aa64f51-b215-4d66-87d0-aa6a2954f1a7\">\n",
              "    <div class=\"colab-df-container\">\n",
              "      <div>\n",
              "<style scoped>\n",
              "    .dataframe tbody tr th:only-of-type {\n",
              "        vertical-align: middle;\n",
              "    }\n",
              "\n",
              "    .dataframe tbody tr th {\n",
              "        vertical-align: top;\n",
              "    }\n",
              "\n",
              "    .dataframe thead th {\n",
              "        text-align: right;\n",
              "    }\n",
              "</style>\n",
              "<table border=\"1\" class=\"dataframe\">\n",
              "  <thead>\n",
              "    <tr style=\"text-align: right;\">\n",
              "      <th></th>\n",
              "      <th>Meme ID</th>\n",
              "      <th>Archived URL</th>\n",
              "      <th>Base Meme Name</th>\n",
              "      <th>Meme Page URL</th>\n",
              "      <th>MD5 Hash</th>\n",
              "      <th>File Size (In Bytes)</th>\n",
              "      <th>Alternate Text</th>\n",
              "      <th>Display Name</th>\n",
              "      <th>Upper Text</th>\n",
              "      <th>Lower Text</th>\n",
              "    </tr>\n",
              "  </thead>\n",
              "  <tbody>\n",
              "    <tr>\n",
              "      <th>0</th>\n",
              "      <td>10509464</td>\n",
              "      <td>http://webarchive.loc.gov/all/0/http://cdn.mem...</td>\n",
              "      <td>Spiderman Approves</td>\n",
              "      <td>http://memegenerator.net/instance/10509464</td>\n",
              "      <td>91eee1453f2b66b4b0d662476bf630d8</td>\n",
              "      <td>87868</td>\n",
              "      <td>seems legit</td>\n",
              "      <td>Spiderman Approves</td>\n",
              "      <td>seems</td>\n",
              "      <td>legit</td>\n",
              "    </tr>\n",
              "    <tr>\n",
              "      <th>1</th>\n",
              "      <td>12285257</td>\n",
              "      <td>http://webarchive.loc.gov/all/0/http://cdn.mem...</td>\n",
              "      <td>Alright Then Business Kid</td>\n",
              "      <td>http://memegenerator.net/instance/12285257</td>\n",
              "      <td>96a3aa60c0f3a5ffb027e8977f23b2cc</td>\n",
              "      <td>110242</td>\n",
              "      <td>Fret not I stayed at a Holiday Inn Express las...</td>\n",
              "      <td>Alright Then Business Kid</td>\n",
              "      <td>Fret not</td>\n",
              "      <td>I stayed at a Holiday Inn Express last night</td>\n",
              "    </tr>\n",
              "    <tr>\n",
              "      <th>2</th>\n",
              "      <td>20612245</td>\n",
              "      <td>http://webarchive.loc.gov/all/0/https://cdn.me...</td>\n",
              "      <td>Archer</td>\n",
              "      <td>http://memegenerator.net/instance/20612245</td>\n",
              "      <td>1b84704851704a2dc366768a2210d659</td>\n",
              "      <td>125963</td>\n",
              "      <td>hello airplanes? yeah, this is blimps. Yeah, y...</td>\n",
              "      <td>Archer</td>\n",
              "      <td>hello airplanes? yeah, this is blimps.</td>\n",
              "      <td>Yeah, you win.</td>\n",
              "    </tr>\n",
              "    <tr>\n",
              "      <th>3</th>\n",
              "      <td>20614628</td>\n",
              "      <td>http://webarchive.loc.gov/all/0/http://cdn.mem...</td>\n",
              "      <td>Futurama Fry</td>\n",
              "      <td>http://memegenerator.net/instance/20614628</td>\n",
              "      <td>448f5d4a15f5c90ce4d64c75013c8e9a</td>\n",
              "      <td>161623</td>\n",
              "      <td>LEGS IN COVER. TOO HOT. LEGS OUT OF COVER. TOO...</td>\n",
              "      <td>Futurama Fry</td>\n",
              "      <td>LEGS IN COVER. TOO HOT. LEGS OUT OF COVER. TOO...</td>\n",
              "      <td>BUt Scared monster under the bed will eat me</td>\n",
              "    </tr>\n",
              "    <tr>\n",
              "      <th>4</th>\n",
              "      <td>24194267</td>\n",
              "      <td>http://webarchive.loc.gov/all/0/https://cdn.me...</td>\n",
              "      <td>One Does Not Simply</td>\n",
              "      <td>http://memegenerator.net/instance/24194267</td>\n",
              "      <td>37feb180a0e7660e360ed94380b39f60</td>\n",
              "      <td>92866</td>\n",
              "      <td>one does not simply  put toothpaste back in th...</td>\n",
              "      <td>One Does Not Simply</td>\n",
              "      <td>one does not simply</td>\n",
              "      <td>put toothpaste back in the tube</td>\n",
              "    </tr>\n",
              "  </tbody>\n",
              "</table>\n",
              "</div>\n",
              "      <button class=\"colab-df-convert\" onclick=\"convertToInteractive('df-7aa64f51-b215-4d66-87d0-aa6a2954f1a7')\"\n",
              "              title=\"Convert this dataframe to an interactive table.\"\n",
              "              style=\"display:none;\">\n",
              "        \n",
              "  <svg xmlns=\"http://www.w3.org/2000/svg\" height=\"24px\"viewBox=\"0 0 24 24\"\n",
              "       width=\"24px\">\n",
              "    <path d=\"M0 0h24v24H0V0z\" fill=\"none\"/>\n",
              "    <path d=\"M18.56 5.44l.94 2.06.94-2.06 2.06-.94-2.06-.94-.94-2.06-.94 2.06-2.06.94zm-11 1L8.5 8.5l.94-2.06 2.06-.94-2.06-.94L8.5 2.5l-.94 2.06-2.06.94zm10 10l.94 2.06.94-2.06 2.06-.94-2.06-.94-.94-2.06-.94 2.06-2.06.94z\"/><path d=\"M17.41 7.96l-1.37-1.37c-.4-.4-.92-.59-1.43-.59-.52 0-1.04.2-1.43.59L10.3 9.45l-7.72 7.72c-.78.78-.78 2.05 0 2.83L4 21.41c.39.39.9.59 1.41.59.51 0 1.02-.2 1.41-.59l7.78-7.78 2.81-2.81c.8-.78.8-2.07 0-2.86zM5.41 20L4 18.59l7.72-7.72 1.47 1.35L5.41 20z\"/>\n",
              "  </svg>\n",
              "      </button>\n",
              "      \n",
              "  <style>\n",
              "    .colab-df-container {\n",
              "      display:flex;\n",
              "      flex-wrap:wrap;\n",
              "      gap: 12px;\n",
              "    }\n",
              "\n",
              "    .colab-df-convert {\n",
              "      background-color: #E8F0FE;\n",
              "      border: none;\n",
              "      border-radius: 50%;\n",
              "      cursor: pointer;\n",
              "      display: none;\n",
              "      fill: #1967D2;\n",
              "      height: 32px;\n",
              "      padding: 0 0 0 0;\n",
              "      width: 32px;\n",
              "    }\n",
              "\n",
              "    .colab-df-convert:hover {\n",
              "      background-color: #E2EBFA;\n",
              "      box-shadow: 0px 1px 2px rgba(60, 64, 67, 0.3), 0px 1px 3px 1px rgba(60, 64, 67, 0.15);\n",
              "      fill: #174EA6;\n",
              "    }\n",
              "\n",
              "    [theme=dark] .colab-df-convert {\n",
              "      background-color: #3B4455;\n",
              "      fill: #D2E3FC;\n",
              "    }\n",
              "\n",
              "    [theme=dark] .colab-df-convert:hover {\n",
              "      background-color: #434B5C;\n",
              "      box-shadow: 0px 1px 3px 1px rgba(0, 0, 0, 0.15);\n",
              "      filter: drop-shadow(0px 1px 2px rgba(0, 0, 0, 0.3));\n",
              "      fill: #FFFFFF;\n",
              "    }\n",
              "  </style>\n",
              "\n",
              "      <script>\n",
              "        const buttonEl =\n",
              "          document.querySelector('#df-7aa64f51-b215-4d66-87d0-aa6a2954f1a7 button.colab-df-convert');\n",
              "        buttonEl.style.display =\n",
              "          google.colab.kernel.accessAllowed ? 'block' : 'none';\n",
              "\n",
              "        async function convertToInteractive(key) {\n",
              "          const element = document.querySelector('#df-7aa64f51-b215-4d66-87d0-aa6a2954f1a7');\n",
              "          const dataTable =\n",
              "            await google.colab.kernel.invokeFunction('convertToInteractive',\n",
              "                                                     [key], {});\n",
              "          if (!dataTable) return;\n",
              "\n",
              "          const docLinkHtml = 'Like what you see? Visit the ' +\n",
              "            '<a target=\"_blank\" href=https://colab.research.google.com/notebooks/data_table.ipynb>data table notebook</a>'\n",
              "            + ' to learn more about interactive tables.';\n",
              "          element.innerHTML = '';\n",
              "          dataTable['output_type'] = 'display_data';\n",
              "          await google.colab.output.renderOutput(dataTable, element);\n",
              "          const docLink = document.createElement('div');\n",
              "          docLink.innerHTML = docLinkHtml;\n",
              "          element.appendChild(docLink);\n",
              "        }\n",
              "      </script>\n",
              "    </div>\n",
              "  </div>\n",
              "  "
            ],
            "text/plain": [
              "    Meme ID  ...                                    Lower Text\n",
              "0  10509464  ...                                         legit\n",
              "1  12285257  ...  I stayed at a Holiday Inn Express last night\n",
              "2  20612245  ...                                Yeah, you win.\n",
              "3  20614628  ...  BUt Scared monster under the bed will eat me\n",
              "4  24194267  ...               put toothpaste back in the tube\n",
              "\n",
              "[5 rows x 10 columns]"
            ]
          },
          "metadata": {},
          "execution_count": 107
        }
      ]
    },
    {
      "cell_type": "markdown",
      "source": [
        "\n",
        "\n",
        "---\n",
        "\n",
        "\n",
        "# Some General Data Exploration\n"
      ],
      "metadata": {
        "id": "vfrbcPB3G0iS"
      }
    },
    {
      "cell_type": "markdown",
      "source": [
        "### How much data?\n",
        "\n",
        "We can count the **length** of our data frame to see how many entries we have using thing len() function.\n"
      ],
      "metadata": {
        "id": "BJMUZ14FGYdt"
      }
    },
    {
      "cell_type": "markdown",
      "source": [
        ""
      ],
      "metadata": {
        "id": "3zgObrRj-Rtf"
      }
    },
    {
      "cell_type": "code",
      "source": [
        "\n",
        "print(\"We have this many memes to look at: \",len(meme_data))\n"
      ],
      "metadata": {
        "id": "3OzCSdRnGjLT",
        "colab": {
          "base_uri": "https://localhost:8080/"
        },
        "outputId": "e0a93b3d-26d9-4adc-c143-c16a1b5f7ba7"
      },
      "execution_count": null,
      "outputs": [
        {
          "output_type": "stream",
          "name": "stdout",
          "text": [
            "We have this many memes to look at:  57687\n"
          ]
        }
      ]
    },
    {
      "cell_type": "markdown",
      "source": [
        "### Random Entry\n",
        "\n",
        "To get a better sense of what is in our dataset let's look at a random entry by using **sample** with a value of 1. Click the below button a few times to get a few different options."
      ],
      "metadata": {
        "id": "g9c1piJ1FPPC"
      }
    },
    {
      "cell_type": "code",
      "source": [
        "rando = meme_data.sample(1)\n",
        "display(Image(url=rando['Archived URL'].values[0], format='jpg'))\n",
        "print(\"View on Memegenerator: \\t\",rando['Meme Page URL'].values[0])\n",
        "print(\"View on Archive: \\t\\t\\t\",rando['Archived URL'].values[0])\n",
        "rando"
      ],
      "metadata": {
        "id": "tkAfcLogFYru",
        "colab": {
          "base_uri": "https://localhost:8080/",
          "height": 469
        },
        "outputId": "6cb85ed3-2a20-43a2-85b5-7d81309905a2"
      },
      "execution_count": null,
      "outputs": [
        {
          "output_type": "display_data",
          "data": {
            "text/html": [
              "<img src=\"http://webarchive.loc.gov/all/0/http://cdn.meme.am/instances/250x250/10692507.jpg\"/>"
            ],
            "text/plain": [
              "<IPython.core.display.Image object>"
            ]
          },
          "metadata": {}
        },
        {
          "output_type": "stream",
          "name": "stdout",
          "text": [
            "View on Memegenerator: \t http://memegenerator.net/instance/10692507\n",
            "View on Archive: \t\t\t http://webarchive.loc.gov/all/0/http://cdn.meme.am/instances/250x250/10692507.jpg\n"
          ]
        },
        {
          "output_type": "execute_result",
          "data": {
            "text/html": [
              "\n",
              "  <div id=\"df-b8057ee5-9299-486a-bfb8-6d919f08b3e6\">\n",
              "    <div class=\"colab-df-container\">\n",
              "      <div>\n",
              "<style scoped>\n",
              "    .dataframe tbody tr th:only-of-type {\n",
              "        vertical-align: middle;\n",
              "    }\n",
              "\n",
              "    .dataframe tbody tr th {\n",
              "        vertical-align: top;\n",
              "    }\n",
              "\n",
              "    .dataframe thead th {\n",
              "        text-align: right;\n",
              "    }\n",
              "</style>\n",
              "<table border=\"1\" class=\"dataframe\">\n",
              "  <thead>\n",
              "    <tr style=\"text-align: right;\">\n",
              "      <th></th>\n",
              "      <th>Meme ID</th>\n",
              "      <th>Archived URL</th>\n",
              "      <th>Base Meme Name</th>\n",
              "      <th>Meme Page URL</th>\n",
              "      <th>MD5 Hash</th>\n",
              "      <th>File Size (In Bytes)</th>\n",
              "      <th>Alternate Text</th>\n",
              "      <th>Display Name</th>\n",
              "      <th>Upper Text</th>\n",
              "      <th>Lower Text</th>\n",
              "    </tr>\n",
              "  </thead>\n",
              "  <tbody>\n",
              "    <tr>\n",
              "      <th>6922</th>\n",
              "      <td>10692507</td>\n",
              "      <td>http://webarchive.loc.gov/all/0/http://cdn.mem...</td>\n",
              "      <td>Socially Awkward Penguin</td>\n",
              "      <td>http://memegenerator.net/instance/10692507</td>\n",
              "      <td>a076fe234e464a820d4af5982ae722d2</td>\n",
              "      <td>38822</td>\n",
              "      <td>mistakenly exit crowded elevator on wrong floo...</td>\n",
              "      <td>Socially Awkward Penguin</td>\n",
              "      <td>mistakenly exit crowded elevator on wrong floor</td>\n",
              "      <td>use stairs</td>\n",
              "    </tr>\n",
              "  </tbody>\n",
              "</table>\n",
              "</div>\n",
              "      <button class=\"colab-df-convert\" onclick=\"convertToInteractive('df-b8057ee5-9299-486a-bfb8-6d919f08b3e6')\"\n",
              "              title=\"Convert this dataframe to an interactive table.\"\n",
              "              style=\"display:none;\">\n",
              "        \n",
              "  <svg xmlns=\"http://www.w3.org/2000/svg\" height=\"24px\"viewBox=\"0 0 24 24\"\n",
              "       width=\"24px\">\n",
              "    <path d=\"M0 0h24v24H0V0z\" fill=\"none\"/>\n",
              "    <path d=\"M18.56 5.44l.94 2.06.94-2.06 2.06-.94-2.06-.94-.94-2.06-.94 2.06-2.06.94zm-11 1L8.5 8.5l.94-2.06 2.06-.94-2.06-.94L8.5 2.5l-.94 2.06-2.06.94zm10 10l.94 2.06.94-2.06 2.06-.94-2.06-.94-.94-2.06-.94 2.06-2.06.94z\"/><path d=\"M17.41 7.96l-1.37-1.37c-.4-.4-.92-.59-1.43-.59-.52 0-1.04.2-1.43.59L10.3 9.45l-7.72 7.72c-.78.78-.78 2.05 0 2.83L4 21.41c.39.39.9.59 1.41.59.51 0 1.02-.2 1.41-.59l7.78-7.78 2.81-2.81c.8-.78.8-2.07 0-2.86zM5.41 20L4 18.59l7.72-7.72 1.47 1.35L5.41 20z\"/>\n",
              "  </svg>\n",
              "      </button>\n",
              "      \n",
              "  <style>\n",
              "    .colab-df-container {\n",
              "      display:flex;\n",
              "      flex-wrap:wrap;\n",
              "      gap: 12px;\n",
              "    }\n",
              "\n",
              "    .colab-df-convert {\n",
              "      background-color: #E8F0FE;\n",
              "      border: none;\n",
              "      border-radius: 50%;\n",
              "      cursor: pointer;\n",
              "      display: none;\n",
              "      fill: #1967D2;\n",
              "      height: 32px;\n",
              "      padding: 0 0 0 0;\n",
              "      width: 32px;\n",
              "    }\n",
              "\n",
              "    .colab-df-convert:hover {\n",
              "      background-color: #E2EBFA;\n",
              "      box-shadow: 0px 1px 2px rgba(60, 64, 67, 0.3), 0px 1px 3px 1px rgba(60, 64, 67, 0.15);\n",
              "      fill: #174EA6;\n",
              "    }\n",
              "\n",
              "    [theme=dark] .colab-df-convert {\n",
              "      background-color: #3B4455;\n",
              "      fill: #D2E3FC;\n",
              "    }\n",
              "\n",
              "    [theme=dark] .colab-df-convert:hover {\n",
              "      background-color: #434B5C;\n",
              "      box-shadow: 0px 1px 3px 1px rgba(0, 0, 0, 0.15);\n",
              "      filter: drop-shadow(0px 1px 2px rgba(0, 0, 0, 0.3));\n",
              "      fill: #FFFFFF;\n",
              "    }\n",
              "  </style>\n",
              "\n",
              "      <script>\n",
              "        const buttonEl =\n",
              "          document.querySelector('#df-b8057ee5-9299-486a-bfb8-6d919f08b3e6 button.colab-df-convert');\n",
              "        buttonEl.style.display =\n",
              "          google.colab.kernel.accessAllowed ? 'block' : 'none';\n",
              "\n",
              "        async function convertToInteractive(key) {\n",
              "          const element = document.querySelector('#df-b8057ee5-9299-486a-bfb8-6d919f08b3e6');\n",
              "          const dataTable =\n",
              "            await google.colab.kernel.invokeFunction('convertToInteractive',\n",
              "                                                     [key], {});\n",
              "          if (!dataTable) return;\n",
              "\n",
              "          const docLinkHtml = 'Like what you see? Visit the ' +\n",
              "            '<a target=\"_blank\" href=https://colab.research.google.com/notebooks/data_table.ipynb>data table notebook</a>'\n",
              "            + ' to learn more about interactive tables.';\n",
              "          element.innerHTML = '';\n",
              "          dataTable['output_type'] = 'display_data';\n",
              "          await google.colab.output.renderOutput(dataTable, element);\n",
              "          const docLink = document.createElement('div');\n",
              "          docLink.innerHTML = docLinkHtml;\n",
              "          element.appendChild(docLink);\n",
              "        }\n",
              "      </script>\n",
              "    </div>\n",
              "  </div>\n",
              "  "
            ],
            "text/plain": [
              "       Meme ID  ...  Lower Text\n",
              "6922  10692507  ...  use stairs\n",
              "\n",
              "[1 rows x 10 columns]"
            ]
          },
          "metadata": {},
          "execution_count": 109
        }
      ]
    },
    {
      "cell_type": "markdown",
      "source": [
        "**Q1** Have a look at the data that is associated with a random record. In the chat box suggest some things you might want to explore with this data? Share your reponse in the chat box."
      ],
      "metadata": {
        "id": "OA30QAkAfZ0w"
      }
    },
    {
      "cell_type": "markdown",
      "source": [
        ""
      ],
      "metadata": {
        "id": "m69mlazEgFo-"
      }
    },
    {
      "cell_type": "markdown",
      "source": [
        "## Category of memes?\n",
        "\n",
        "As you might know, memes come in many different flavours. Let's see if we can find out how many types there are? We'll do this by **grouping** our _Base Meme Name_ column and **counting** how many entries are in each."
      ],
      "metadata": {
        "id": "D3bk4rXDFBVZ"
      }
    },
    {
      "cell_type": "code",
      "source": [
        "meme_data.groupby([\"Base Meme Name\"]).count()"
      ],
      "metadata": {
        "id": "keJ_eKyaE_SR",
        "colab": {
          "base_uri": "https://localhost:8080/",
          "height": 455
        },
        "outputId": "0adc3861-eec4-49ea-91ed-18cb5bc7b9f9"
      },
      "execution_count": null,
      "outputs": [
        {
          "output_type": "execute_result",
          "data": {
            "text/html": [
              "\n",
              "  <div id=\"df-c23f7182-afd2-415d-b8e9-aeb0cb3ae7ac\">\n",
              "    <div class=\"colab-df-container\">\n",
              "      <div>\n",
              "<style scoped>\n",
              "    .dataframe tbody tr th:only-of-type {\n",
              "        vertical-align: middle;\n",
              "    }\n",
              "\n",
              "    .dataframe tbody tr th {\n",
              "        vertical-align: top;\n",
              "    }\n",
              "\n",
              "    .dataframe thead th {\n",
              "        text-align: right;\n",
              "    }\n",
              "</style>\n",
              "<table border=\"1\" class=\"dataframe\">\n",
              "  <thead>\n",
              "    <tr style=\"text-align: right;\">\n",
              "      <th></th>\n",
              "      <th>Meme ID</th>\n",
              "      <th>Archived URL</th>\n",
              "      <th>Meme Page URL</th>\n",
              "      <th>MD5 Hash</th>\n",
              "      <th>File Size (In Bytes)</th>\n",
              "      <th>Alternate Text</th>\n",
              "      <th>Display Name</th>\n",
              "      <th>Upper Text</th>\n",
              "      <th>Lower Text</th>\n",
              "    </tr>\n",
              "    <tr>\n",
              "      <th>Base Meme Name</th>\n",
              "      <th></th>\n",
              "      <th></th>\n",
              "      <th></th>\n",
              "      <th></th>\n",
              "      <th></th>\n",
              "      <th></th>\n",
              "      <th></th>\n",
              "      <th></th>\n",
              "      <th></th>\n",
              "    </tr>\n",
              "  </thead>\n",
              "  <tbody>\n",
              "    <tr>\n",
              "      <th>-</th>\n",
              "      <td>70</td>\n",
              "      <td>70</td>\n",
              "      <td>70</td>\n",
              "      <td>70</td>\n",
              "      <td>70</td>\n",
              "      <td>70</td>\n",
              "      <td>70</td>\n",
              "      <td>70</td>\n",
              "      <td>70</td>\n",
              "    </tr>\n",
              "    <tr>\n",
              "      <th>10guy</th>\n",
              "      <td>1</td>\n",
              "      <td>1</td>\n",
              "      <td>1</td>\n",
              "      <td>1</td>\n",
              "      <td>1</td>\n",
              "      <td>1</td>\n",
              "      <td>1</td>\n",
              "      <td>1</td>\n",
              "      <td>1</td>\n",
              "    </tr>\n",
              "    <tr>\n",
              "      <th>12 oz mouse</th>\n",
              "      <td>9</td>\n",
              "      <td>9</td>\n",
              "      <td>9</td>\n",
              "      <td>9</td>\n",
              "      <td>9</td>\n",
              "      <td>9</td>\n",
              "      <td>9</td>\n",
              "      <td>9</td>\n",
              "      <td>9</td>\n",
              "    </tr>\n",
              "    <tr>\n",
              "      <th>158</th>\n",
              "      <td>66</td>\n",
              "      <td>66</td>\n",
              "      <td>66</td>\n",
              "      <td>66</td>\n",
              "      <td>66</td>\n",
              "      <td>66</td>\n",
              "      <td>66</td>\n",
              "      <td>66</td>\n",
              "      <td>66</td>\n",
              "    </tr>\n",
              "    <tr>\n",
              "      <th>1889 [10] guy</th>\n",
              "      <td>52</td>\n",
              "      <td>52</td>\n",
              "      <td>52</td>\n",
              "      <td>52</td>\n",
              "      <td>52</td>\n",
              "      <td>52</td>\n",
              "      <td>52</td>\n",
              "      <td>52</td>\n",
              "      <td>52</td>\n",
              "    </tr>\n",
              "    <tr>\n",
              "      <th>...</th>\n",
              "      <td>...</td>\n",
              "      <td>...</td>\n",
              "      <td>...</td>\n",
              "      <td>...</td>\n",
              "      <td>...</td>\n",
              "      <td>...</td>\n",
              "      <td>...</td>\n",
              "      <td>...</td>\n",
              "      <td>...</td>\n",
              "    </tr>\n",
              "    <tr>\n",
              "      <th>ТИПИЧНАЯ DIVA</th>\n",
              "      <td>45</td>\n",
              "      <td>45</td>\n",
              "      <td>45</td>\n",
              "      <td>45</td>\n",
              "      <td>45</td>\n",
              "      <td>45</td>\n",
              "      <td>45</td>\n",
              "      <td>45</td>\n",
              "      <td>45</td>\n",
              "    </tr>\n",
              "    <tr>\n",
              "      <th>ТИПИЧНЫЙ JONGHYUN</th>\n",
              "      <td>1</td>\n",
              "      <td>1</td>\n",
              "      <td>1</td>\n",
              "      <td>1</td>\n",
              "      <td>1</td>\n",
              "      <td>1</td>\n",
              "      <td>1</td>\n",
              "      <td>1</td>\n",
              "      <td>1</td>\n",
              "    </tr>\n",
              "    <tr>\n",
              "      <th>ТИПИЧНЫЙ ONEW</th>\n",
              "      <td>1</td>\n",
              "      <td>1</td>\n",
              "      <td>1</td>\n",
              "      <td>1</td>\n",
              "      <td>1</td>\n",
              "      <td>1</td>\n",
              "      <td>1</td>\n",
              "      <td>1</td>\n",
              "      <td>1</td>\n",
              "    </tr>\n",
              "    <tr>\n",
              "      <th>ТИПИЧНЫЙ TAEMIN</th>\n",
              "      <td>1</td>\n",
              "      <td>1</td>\n",
              "      <td>1</td>\n",
              "      <td>1</td>\n",
              "      <td>1</td>\n",
              "      <td>1</td>\n",
              "      <td>1</td>\n",
              "      <td>1</td>\n",
              "      <td>1</td>\n",
              "    </tr>\n",
              "    <tr>\n",
              "      <th>Типичная Эля Чавес/Typical Elya Chavez</th>\n",
              "      <td>1</td>\n",
              "      <td>1</td>\n",
              "      <td>1</td>\n",
              "      <td>1</td>\n",
              "      <td>1</td>\n",
              "      <td>1</td>\n",
              "      <td>1</td>\n",
              "      <td>1</td>\n",
              "      <td>1</td>\n",
              "    </tr>\n",
              "  </tbody>\n",
              "</table>\n",
              "<p>1651 rows × 9 columns</p>\n",
              "</div>\n",
              "      <button class=\"colab-df-convert\" onclick=\"convertToInteractive('df-c23f7182-afd2-415d-b8e9-aeb0cb3ae7ac')\"\n",
              "              title=\"Convert this dataframe to an interactive table.\"\n",
              "              style=\"display:none;\">\n",
              "        \n",
              "  <svg xmlns=\"http://www.w3.org/2000/svg\" height=\"24px\"viewBox=\"0 0 24 24\"\n",
              "       width=\"24px\">\n",
              "    <path d=\"M0 0h24v24H0V0z\" fill=\"none\"/>\n",
              "    <path d=\"M18.56 5.44l.94 2.06.94-2.06 2.06-.94-2.06-.94-.94-2.06-.94 2.06-2.06.94zm-11 1L8.5 8.5l.94-2.06 2.06-.94-2.06-.94L8.5 2.5l-.94 2.06-2.06.94zm10 10l.94 2.06.94-2.06 2.06-.94-2.06-.94-.94-2.06-.94 2.06-2.06.94z\"/><path d=\"M17.41 7.96l-1.37-1.37c-.4-.4-.92-.59-1.43-.59-.52 0-1.04.2-1.43.59L10.3 9.45l-7.72 7.72c-.78.78-.78 2.05 0 2.83L4 21.41c.39.39.9.59 1.41.59.51 0 1.02-.2 1.41-.59l7.78-7.78 2.81-2.81c.8-.78.8-2.07 0-2.86zM5.41 20L4 18.59l7.72-7.72 1.47 1.35L5.41 20z\"/>\n",
              "  </svg>\n",
              "      </button>\n",
              "      \n",
              "  <style>\n",
              "    .colab-df-container {\n",
              "      display:flex;\n",
              "      flex-wrap:wrap;\n",
              "      gap: 12px;\n",
              "    }\n",
              "\n",
              "    .colab-df-convert {\n",
              "      background-color: #E8F0FE;\n",
              "      border: none;\n",
              "      border-radius: 50%;\n",
              "      cursor: pointer;\n",
              "      display: none;\n",
              "      fill: #1967D2;\n",
              "      height: 32px;\n",
              "      padding: 0 0 0 0;\n",
              "      width: 32px;\n",
              "    }\n",
              "\n",
              "    .colab-df-convert:hover {\n",
              "      background-color: #E2EBFA;\n",
              "      box-shadow: 0px 1px 2px rgba(60, 64, 67, 0.3), 0px 1px 3px 1px rgba(60, 64, 67, 0.15);\n",
              "      fill: #174EA6;\n",
              "    }\n",
              "\n",
              "    [theme=dark] .colab-df-convert {\n",
              "      background-color: #3B4455;\n",
              "      fill: #D2E3FC;\n",
              "    }\n",
              "\n",
              "    [theme=dark] .colab-df-convert:hover {\n",
              "      background-color: #434B5C;\n",
              "      box-shadow: 0px 1px 3px 1px rgba(0, 0, 0, 0.15);\n",
              "      filter: drop-shadow(0px 1px 2px rgba(0, 0, 0, 0.3));\n",
              "      fill: #FFFFFF;\n",
              "    }\n",
              "  </style>\n",
              "\n",
              "      <script>\n",
              "        const buttonEl =\n",
              "          document.querySelector('#df-c23f7182-afd2-415d-b8e9-aeb0cb3ae7ac button.colab-df-convert');\n",
              "        buttonEl.style.display =\n",
              "          google.colab.kernel.accessAllowed ? 'block' : 'none';\n",
              "\n",
              "        async function convertToInteractive(key) {\n",
              "          const element = document.querySelector('#df-c23f7182-afd2-415d-b8e9-aeb0cb3ae7ac');\n",
              "          const dataTable =\n",
              "            await google.colab.kernel.invokeFunction('convertToInteractive',\n",
              "                                                     [key], {});\n",
              "          if (!dataTable) return;\n",
              "\n",
              "          const docLinkHtml = 'Like what you see? Visit the ' +\n",
              "            '<a target=\"_blank\" href=https://colab.research.google.com/notebooks/data_table.ipynb>data table notebook</a>'\n",
              "            + ' to learn more about interactive tables.';\n",
              "          element.innerHTML = '';\n",
              "          dataTable['output_type'] = 'display_data';\n",
              "          await google.colab.output.renderOutput(dataTable, element);\n",
              "          const docLink = document.createElement('div');\n",
              "          docLink.innerHTML = docLinkHtml;\n",
              "          element.appendChild(docLink);\n",
              "        }\n",
              "      </script>\n",
              "    </div>\n",
              "  </div>\n",
              "  "
            ],
            "text/plain": [
              "                                        Meme ID  ...  Lower Text\n",
              "Base Meme Name                                   ...            \n",
              "-                                            70  ...          70\n",
              "10guy                                         1  ...           1\n",
              "12 oz mouse                                   9  ...           9\n",
              "158                                          66  ...          66\n",
              "1889 [10] guy                                52  ...          52\n",
              "...                                         ...  ...         ...\n",
              "ТИПИЧНАЯ DIVA                                45  ...          45\n",
              "ТИПИЧНЫЙ JONGHYUN                             1  ...           1\n",
              "ТИПИЧНЫЙ ONEW                                 1  ...           1\n",
              "ТИПИЧНЫЙ TAEMIN                               1  ...           1\n",
              "Типичная Эля Чавес/Typical Elya Chavez        1  ...           1\n",
              "\n",
              "[1651 rows x 9 columns]"
            ]
          },
          "metadata": {},
          "execution_count": 110
        }
      ]
    },
    {
      "cell_type": "markdown",
      "source": [
        "**Q2** Based on the above summary how many different type so memes we have? Share your response in the chat box."
      ],
      "metadata": {
        "id": "Jeh2fR1eHDlc"
      }
    },
    {
      "cell_type": "markdown",
      "source": [
        ""
      ],
      "metadata": {
        "id": "roCbVFJpgKjo"
      }
    },
    {
      "cell_type": "markdown",
      "source": [
        "Yikes! That looks like a lot. Let's just keep the top **25** entries. We'll do this by **sorting**."
      ],
      "metadata": {
        "id": "zubnxndqFuQ-"
      }
    },
    {
      "cell_type": "code",
      "source": [
        "\n",
        "top_25_cat = pd.DataFrame(meme_data.groupby([\"Base Meme Name\"]).count().sort_values(by=\"Meme ID\",ascending=False)[\"Meme ID\"][0:25])\n",
        "top_25_cat"
      ],
      "metadata": {
        "id": "tl9azoXCF35p",
        "colab": {
          "base_uri": "https://localhost:8080/",
          "height": 865
        },
        "outputId": "0a0b3d39-32e8-4051-fd2d-90cfeefd105b"
      },
      "execution_count": 333,
      "outputs": [
        {
          "output_type": "execute_result",
          "data": {
            "text/html": [
              "\n",
              "  <div id=\"df-67221e00-e1cc-448b-9508-e072ad929610\">\n",
              "    <div class=\"colab-df-container\">\n",
              "      <div>\n",
              "<style scoped>\n",
              "    .dataframe tbody tr th:only-of-type {\n",
              "        vertical-align: middle;\n",
              "    }\n",
              "\n",
              "    .dataframe tbody tr th {\n",
              "        vertical-align: top;\n",
              "    }\n",
              "\n",
              "    .dataframe thead th {\n",
              "        text-align: right;\n",
              "    }\n",
              "</style>\n",
              "<table border=\"1\" class=\"dataframe\">\n",
              "  <thead>\n",
              "    <tr style=\"text-align: right;\">\n",
              "      <th></th>\n",
              "      <th>Meme ID</th>\n",
              "    </tr>\n",
              "    <tr>\n",
              "      <th>Base Meme Name</th>\n",
              "      <th></th>\n",
              "    </tr>\n",
              "  </thead>\n",
              "  <tbody>\n",
              "    <tr>\n",
              "      <th>Y U No</th>\n",
              "      <td>766</td>\n",
              "    </tr>\n",
              "    <tr>\n",
              "      <th>Futurama Fry</th>\n",
              "      <td>663</td>\n",
              "    </tr>\n",
              "    <tr>\n",
              "      <th>Insanity Wolf</th>\n",
              "      <td>612</td>\n",
              "    </tr>\n",
              "    <tr>\n",
              "      <th>Philosoraptor</th>\n",
              "      <td>531</td>\n",
              "    </tr>\n",
              "    <tr>\n",
              "      <th>The Most Interesting Man In The World</th>\n",
              "      <td>511</td>\n",
              "    </tr>\n",
              "    <tr>\n",
              "      <th>Success Kid</th>\n",
              "      <td>510</td>\n",
              "    </tr>\n",
              "    <tr>\n",
              "      <th>Foul Bachelor Frog</th>\n",
              "      <td>469</td>\n",
              "    </tr>\n",
              "    <tr>\n",
              "      <th>Socially Awkward Penguin</th>\n",
              "      <td>446</td>\n",
              "    </tr>\n",
              "    <tr>\n",
              "      <th>Advice Yoda Gives</th>\n",
              "      <td>420</td>\n",
              "    </tr>\n",
              "    <tr>\n",
              "      <th>Joseph Ducreux</th>\n",
              "      <td>415</td>\n",
              "    </tr>\n",
              "    <tr>\n",
              "      <th>Forever Alone</th>\n",
              "      <td>414</td>\n",
              "    </tr>\n",
              "    <tr>\n",
              "      <th>Slowpoke</th>\n",
              "      <td>400</td>\n",
              "    </tr>\n",
              "    <tr>\n",
              "      <th>Good Guy Greg</th>\n",
              "      <td>387</td>\n",
              "    </tr>\n",
              "    <tr>\n",
              "      <th>we got a badass over here</th>\n",
              "      <td>381</td>\n",
              "    </tr>\n",
              "    <tr>\n",
              "      <th>Courage Wolf</th>\n",
              "      <td>375</td>\n",
              "    </tr>\n",
              "    <tr>\n",
              "      <th>Butthurt Dweller</th>\n",
              "      <td>365</td>\n",
              "    </tr>\n",
              "    <tr>\n",
              "      <th>Yo Dawg</th>\n",
              "      <td>363</td>\n",
              "    </tr>\n",
              "    <tr>\n",
              "      <th>Willy Wonka</th>\n",
              "      <td>356</td>\n",
              "    </tr>\n",
              "    <tr>\n",
              "      <th>success baby</th>\n",
              "      <td>345</td>\n",
              "    </tr>\n",
              "    <tr>\n",
              "      <th>Chuck Norris</th>\n",
              "      <td>344</td>\n",
              "    </tr>\n",
              "    <tr>\n",
              "      <th>Conspiracy Keanu</th>\n",
              "      <td>340</td>\n",
              "    </tr>\n",
              "    <tr>\n",
              "      <th>Annoying Gamer Kid</th>\n",
              "      <td>332</td>\n",
              "    </tr>\n",
              "    <tr>\n",
              "      <th>Trollface</th>\n",
              "      <td>308</td>\n",
              "    </tr>\n",
              "    <tr>\n",
              "      <th>Me Gusta</th>\n",
              "      <td>299</td>\n",
              "    </tr>\n",
              "    <tr>\n",
              "      <th>All the things</th>\n",
              "      <td>297</td>\n",
              "    </tr>\n",
              "  </tbody>\n",
              "</table>\n",
              "</div>\n",
              "      <button class=\"colab-df-convert\" onclick=\"convertToInteractive('df-67221e00-e1cc-448b-9508-e072ad929610')\"\n",
              "              title=\"Convert this dataframe to an interactive table.\"\n",
              "              style=\"display:none;\">\n",
              "        \n",
              "  <svg xmlns=\"http://www.w3.org/2000/svg\" height=\"24px\"viewBox=\"0 0 24 24\"\n",
              "       width=\"24px\">\n",
              "    <path d=\"M0 0h24v24H0V0z\" fill=\"none\"/>\n",
              "    <path d=\"M18.56 5.44l.94 2.06.94-2.06 2.06-.94-2.06-.94-.94-2.06-.94 2.06-2.06.94zm-11 1L8.5 8.5l.94-2.06 2.06-.94-2.06-.94L8.5 2.5l-.94 2.06-2.06.94zm10 10l.94 2.06.94-2.06 2.06-.94-2.06-.94-.94-2.06-.94 2.06-2.06.94z\"/><path d=\"M17.41 7.96l-1.37-1.37c-.4-.4-.92-.59-1.43-.59-.52 0-1.04.2-1.43.59L10.3 9.45l-7.72 7.72c-.78.78-.78 2.05 0 2.83L4 21.41c.39.39.9.59 1.41.59.51 0 1.02-.2 1.41-.59l7.78-7.78 2.81-2.81c.8-.78.8-2.07 0-2.86zM5.41 20L4 18.59l7.72-7.72 1.47 1.35L5.41 20z\"/>\n",
              "  </svg>\n",
              "      </button>\n",
              "      \n",
              "  <style>\n",
              "    .colab-df-container {\n",
              "      display:flex;\n",
              "      flex-wrap:wrap;\n",
              "      gap: 12px;\n",
              "    }\n",
              "\n",
              "    .colab-df-convert {\n",
              "      background-color: #E8F0FE;\n",
              "      border: none;\n",
              "      border-radius: 50%;\n",
              "      cursor: pointer;\n",
              "      display: none;\n",
              "      fill: #1967D2;\n",
              "      height: 32px;\n",
              "      padding: 0 0 0 0;\n",
              "      width: 32px;\n",
              "    }\n",
              "\n",
              "    .colab-df-convert:hover {\n",
              "      background-color: #E2EBFA;\n",
              "      box-shadow: 0px 1px 2px rgba(60, 64, 67, 0.3), 0px 1px 3px 1px rgba(60, 64, 67, 0.15);\n",
              "      fill: #174EA6;\n",
              "    }\n",
              "\n",
              "    [theme=dark] .colab-df-convert {\n",
              "      background-color: #3B4455;\n",
              "      fill: #D2E3FC;\n",
              "    }\n",
              "\n",
              "    [theme=dark] .colab-df-convert:hover {\n",
              "      background-color: #434B5C;\n",
              "      box-shadow: 0px 1px 3px 1px rgba(0, 0, 0, 0.15);\n",
              "      filter: drop-shadow(0px 1px 2px rgba(0, 0, 0, 0.3));\n",
              "      fill: #FFFFFF;\n",
              "    }\n",
              "  </style>\n",
              "\n",
              "      <script>\n",
              "        const buttonEl =\n",
              "          document.querySelector('#df-67221e00-e1cc-448b-9508-e072ad929610 button.colab-df-convert');\n",
              "        buttonEl.style.display =\n",
              "          google.colab.kernel.accessAllowed ? 'block' : 'none';\n",
              "\n",
              "        async function convertToInteractive(key) {\n",
              "          const element = document.querySelector('#df-67221e00-e1cc-448b-9508-e072ad929610');\n",
              "          const dataTable =\n",
              "            await google.colab.kernel.invokeFunction('convertToInteractive',\n",
              "                                                     [key], {});\n",
              "          if (!dataTable) return;\n",
              "\n",
              "          const docLinkHtml = 'Like what you see? Visit the ' +\n",
              "            '<a target=\"_blank\" href=https://colab.research.google.com/notebooks/data_table.ipynb>data table notebook</a>'\n",
              "            + ' to learn more about interactive tables.';\n",
              "          element.innerHTML = '';\n",
              "          dataTable['output_type'] = 'display_data';\n",
              "          await google.colab.output.renderOutput(dataTable, element);\n",
              "          const docLink = document.createElement('div');\n",
              "          docLink.innerHTML = docLinkHtml;\n",
              "          element.appendChild(docLink);\n",
              "        }\n",
              "      </script>\n",
              "    </div>\n",
              "  </div>\n",
              "  "
            ],
            "text/plain": [
              "                                       Meme ID\n",
              "Base Meme Name                                \n",
              "Y U No                                     766\n",
              "Futurama Fry                               663\n",
              "Insanity Wolf                              612\n",
              "Philosoraptor                              531\n",
              "The Most Interesting Man In The World      511\n",
              "Success Kid                                510\n",
              "Foul Bachelor Frog                         469\n",
              "Socially Awkward Penguin                   446\n",
              "Advice Yoda Gives                          420\n",
              "Joseph Ducreux                             415\n",
              "Forever Alone                              414\n",
              "Slowpoke                                   400\n",
              "Good Guy Greg                              387\n",
              "we got a badass over here                  381\n",
              "Courage Wolf                               375\n",
              "Butthurt Dweller                           365\n",
              "Yo Dawg                                    363\n",
              "Willy Wonka                                356\n",
              "success baby                               345\n",
              "Chuck Norris                               344\n",
              "Conspiracy Keanu                           340\n",
              "Annoying Gamer Kid                         332\n",
              "Trollface                                  308\n",
              "Me Gusta                                   299\n",
              "All the things                             297"
            ]
          },
          "metadata": {},
          "execution_count": 333
        }
      ]
    },
    {
      "cell_type": "markdown",
      "source": [
        "## A Random Entry by Meme Category\n"
      ],
      "metadata": {
        "id": "CwJMCi2d8gRG"
      }
    },
    {
      "cell_type": "code",
      "source": [
        "#Random Entry Form\n",
        "def show_random(choice):\n",
        "  rando = meme_data[meme_data[\"Base Meme Name\"] == str(choice)].sample(1)\n",
        "  print(\"View on Memegenerator: \\t\",rando['Meme Page URL'].values[0])\n",
        "  print(\"View on Archive: \\t\\t\\t\",rando['Archived URL'].values[0])\n",
        "  display(Image(url=rando['Archived URL'].values[0], format='jpg'))\n",
        "  display(rando)\n",
        "\n",
        "\n",
        "title_textbox = widgets.Text(\n",
        "    value='Me Gusta',\n",
        "    description='Category',\n",
        ")\n",
        "print(\"Enter a meme category from the list above to see a random entry in that category\")\n",
        "print(\"Click 'Show' to display\\n\")\n",
        "show_random_control = interact_manual.options(manual_name=\"Show\")\n",
        "show_random_control(show_random,choice=title_textbox);\n"
      ],
      "metadata": {
        "id": "VgEuYlY6bSqE",
        "colab": {
          "base_uri": "https://localhost:8080/",
          "height": 527,
          "referenced_widgets": [
            "d30598a399d042f7ac88c7718f8baa39",
            "c2d11ef2cd4349b48db2874499be1ac2",
            "8023e75642904cc3b3da51562d66e863",
            "30ff7de5239c492db9804faac07a29c0",
            "d65d3b30820d4b22ba8dedb907a2fbe7",
            "c83432e239584861a38465cf9807cf5d",
            "5b4a3078b39c4fb88e6de8ca5b771ded",
            "2dbc3011e7b74c8f8f4ffffd9decb44d",
            "f4a2e01639f743a49fc8a01614bfab4e",
            "0f2cc3918951426895ff5c67991a5120"
          ]
        },
        "outputId": "4b17ca20-8dc6-49da-d769-e9bc601fde44"
      },
      "execution_count": null,
      "outputs": [
        {
          "output_type": "stream",
          "name": "stdout",
          "text": [
            "Enter a meme category from the list above to see a random entry in that category\n",
            "Click 'Show' to display\n",
            "\n"
          ]
        },
        {
          "output_type": "display_data",
          "data": {
            "application/vnd.jupyter.widget-view+json": {
              "model_id": "d30598a399d042f7ac88c7718f8baa39",
              "version_minor": 0,
              "version_major": 2
            },
            "text/plain": [
              "interactive(children=(Text(value='Me Gusta', description='Category'), Button(description='Show', style=ButtonS…"
            ]
          },
          "metadata": {}
        }
      ]
    },
    {
      "cell_type": "markdown",
      "source": [
        "Let's know look at how the meme is displayed as a table"
      ],
      "metadata": {
        "id": "RHvToPQC19Yg"
      }
    },
    {
      "cell_type": "markdown",
      "source": [
        "What's the **average** number of memes in each type?\n",
        "\n"
      ],
      "metadata": {
        "id": "b_BrvuMfN8rd"
      }
    },
    {
      "cell_type": "code",
      "source": [
        "meme_type_average = meme_data.groupby([\"Base Meme Name\"])[\"Meme ID\"].count().mean()\n",
        "print(\"Average number of entries per meme category: \",meme_type_average)"
      ],
      "metadata": {
        "id": "x27KK6YLOGpd",
        "colab": {
          "base_uri": "https://localhost:8080/"
        },
        "outputId": "144d07ba-2a86-4f2d-8fa4-49de01bc483c"
      },
      "execution_count": null,
      "outputs": [
        {
          "output_type": "stream",
          "name": "stdout",
          "text": [
            "Average number of entries per meme category:  34.940642035130224\n"
          ]
        }
      ]
    },
    {
      "cell_type": "markdown",
      "source": [
        "The average might be a little misleading. Let's also check what the median number is for each base meme. The code chunk below is incomplete. Can you resolve the error?"
      ],
      "metadata": {
        "id": "wTSbEZ7zC6SD"
      }
    },
    {
      "cell_type": "code",
      "source": [
        "meme_type_median = meme_data.groupby([\"Base Meme Name\"])[\"Meme ID\"].count().()\n",
        "print(\"The median number of entires per base meme is: \",meme_type_median)"
      ],
      "metadata": {
        "id": "6DKeHnnFC5dF"
      },
      "execution_count": null,
      "outputs": []
    },
    {
      "cell_type": "markdown",
      "source": [
        "As you can see, the difference between the mean and the median is significant. This is because there's a skewed distribution in our dataset. Do you have any guesses as to why this might be the case? Share your thoughts in the chat!\n",
        "\n",
        "Let's visualize this skewed distribution by drawing a **histogram**."
      ],
      "metadata": {
        "id": "o3YoM9_scv8I"
      }
    },
    {
      "cell_type": "code",
      "source": [
        "bins = 150\n",
        "\n",
        "plt.hist(meme_data.groupby([\"Base Meme Name\"]).count().sort_values(by=\"Meme ID\",ascending=False)[\"Meme ID\"],bins)\n",
        "\n",
        "plt.title(\"Category Frequency\")\n",
        "plt.xlabel(\"Number of Entries\")\n",
        "plt.ylabel(\"Number of Categories\")\n",
        "plt.show()"
      ],
      "metadata": {
        "id": "IJBzAe84d6y6"
      },
      "execution_count": null,
      "outputs": []
    },
    {
      "cell_type": "markdown",
      "source": [
        "**Q3** Can you describe this graph? What is the biggest value that it is showing?"
      ],
      "metadata": {
        "id": "booB-XZJfvib"
      }
    },
    {
      "cell_type": "markdown",
      "source": [
        "\n",
        "\n",
        "---\n",
        "\n",
        "\n",
        "# Enriching the Data\n",
        "\n",
        "We've had some fun looking at different components of the data, but let's see if we an **enrich** the data by adding more columns of information to it."
      ],
      "metadata": {
        "id": "QyQjKP6cKY9H"
      }
    },
    {
      "cell_type": "markdown",
      "source": [
        "# Language info\n",
        "\n",
        "As we've seen in our examples there are many different languages represented in our dataset. Let's see if we can **enrich** our dataset by automatically detecting what language it is and adding that as a new column. We'll use the [langdetect](https://pypi.org/project/langdetect/) library to do this. We can use the text in the _Alternate Text_ column."
      ],
      "metadata": {
        "id": "XhH97IFLhdoB"
      }
    },
    {
      "cell_type": "code",
      "source": [
        "#Let's look at our random item again\n",
        "rando"
      ],
      "metadata": {
        "id": "ECsGpyPHknSl"
      },
      "execution_count": null,
      "outputs": []
    },
    {
      "cell_type": "code",
      "source": [
        "# Let's the language of the random entry from earlier\n",
        "# We'll get a two letter languge code that represents one of the languages in the list of ISO 639-1 codes (https://en.wikipedia.org/wiki/List_of_ISO_639-1_codes). \n",
        "print(detect(str(rando[\"Alternate Text\"])))"
      ],
      "metadata": {
        "id": "1ezA2eAbjsAP"
      },
      "execution_count": null,
      "outputs": []
    },
    {
      "cell_type": "markdown",
      "source": [
        "It would take to long to calculate all these values now for all of the entries in the dataset. So the next cell will just add a new column to our dataset of pre-calculated values. (It took 8 minutes for language detection code to run on the original dataset)\n",
        "\n",
        "Have a look at the new column _Language_ that was added."
      ],
      "metadata": {
        "id": "ceDW1-LmvMbl"
      }
    },
    {
      "cell_type": "code",
      "source": [
        "#reload original dataset\n",
        "meme_data = pd.read_csv(\"https://raw.githubusercontent.com/BrockDSL/Analyzing_Web_Archives/main/memegenerator.csv\", sep=\",\")\n",
        "meme_data[\"Meme ID\"] = meme_data[\"Meme ID\"].astype(str)\n",
        "\n",
        "#load and merge language info\n",
        "lang_data = pd.read_csv(\"https://raw.githubusercontent.com/BrockDSL/Analyzing_Web_Archives/main/language_data.csv\")\n",
        "lang_data[\"Meme ID\"] = lang_data[\"Meme ID\"].astype(str)\n",
        "meme_data = pd.merge(meme_data,lang_data,on=\"Meme ID\", how = \"outer\")"
      ],
      "metadata": {
        "id": "krcyF-bfvnuF"
      },
      "execution_count": 282,
      "outputs": []
    },
    {
      "cell_type": "markdown",
      "source": [
        "\n",
        "## How Effective was Language Detection?\n",
        "\n",
        "Since the language detection was an automated process there might be some problems with results. As described in the [notebook](https://github.com/BrockDSL/Analyzing_Web_Archives/blob/main/Meme_Language_Detection.ipynb) that generates the data, if a match can't be found it adds `Could Not Detect` to the instead of a language code. Let's see how many couldn't be detected:"
      ],
      "metadata": {
        "id": "G4nH1SavBqTx"
      }
    },
    {
      "cell_type": "code",
      "source": [
        "meme_data[meme_data[\"Language\"] == \"Could Not Detect\"][\"Meme ID\"].count()"
      ],
      "metadata": {
        "id": "2VN_z0nlCK9Y"
      },
      "execution_count": null,
      "outputs": []
    },
    {
      "cell_type": "markdown",
      "source": [
        "How many languages are there in the data set. (Including our `Could not detect` entries)"
      ],
      "metadata": {
        "id": "xg5OOn96Lshg"
      }
    },
    {
      "cell_type": "markdown",
      "source": [
        "Yikes! Let's see what happened here by looking a couple or random entries with that value. If were were going to do some serious analysis we would have to correct those, probably with a manual process."
      ],
      "metadata": {
        "id": "ZycwuAgbCT_P"
      }
    },
    {
      "cell_type": "code",
      "source": [
        "meme_data[meme_data[\"Language\"] == \"Could Not Detect\"].sample(5)"
      ],
      "metadata": {
        "id": "0bfLO608CkrN"
      },
      "execution_count": null,
      "outputs": []
    },
    {
      "cell_type": "markdown",
      "source": [
        "For now let's just proceed by keeping them in the data set."
      ],
      "metadata": {
        "id": "obVBfS_1Ctvt"
      }
    },
    {
      "cell_type": "markdown",
      "source": [
        "\n",
        "## Summary of Language Information\n",
        "\n",
        "Run the next cell to generate a pie graph of the top 10 languages seen in the memes."
      ],
      "metadata": {
        "id": "ADzD1K2H-Kmi"
      }
    },
    {
      "cell_type": "code",
      "source": [
        "pie_data = meme_data.groupby([\"Language\"]).count().sort_values(by=\"Meme ID\",ascending=False)[0:10][\"Meme ID\"]\n",
        "plt.pie(pie_data, labels = pie_data.keys())\n",
        "plt.title(\"Top 10 Languages in the Memes\")\n",
        "plt.show()"
      ],
      "metadata": {
        "id": "c50-lZ6E20DK"
      },
      "execution_count": null,
      "outputs": []
    },
    {
      "cell_type": "markdown",
      "source": [
        "Is that how you thought the languages would be distributed?"
      ],
      "metadata": {
        "id": "um-YP0h7-eaY"
      }
    },
    {
      "cell_type": "markdown",
      "source": [
        "# Meme Scores!\n",
        "\n",
        "Memegenerator has voting capability. By clicking the up or down arrow users can increase / descrease this score. Let's see this for our random meme. Run the next cell to generate the preview"
      ],
      "metadata": {
        "id": "FZmcRBx99yiX"
      }
    },
    {
      "cell_type": "code",
      "source": [
        "preview_url = str(rando['Meme Page URL'].values[0])\n",
        "preview_url = preview_url.replace(\"http:\",\"https:\")\n",
        "\n",
        "IFrame(preview_url,width=1000, height=700)"
      ],
      "metadata": {
        "id": "V6jFu3cu-JuJ"
      },
      "execution_count": null,
      "outputs": []
    },
    {
      "cell_type": "markdown",
      "source": [
        "To enrich our dataset even more we found the scores of all of the memes in dataset. We did this by **downloading** all 60000 meme webpages and screen scrapping to find the score that was presented on the page. This took about **4 Hours** so we won't recreate this here. We will however open a CSV file of these scores and add them to our dataset, just like we did with the language information. In this case for memes we could not find the score for (because there were deleted from the site for example) we just use the place holder value `NaN` instead.\n",
        "\n",
        "\n",
        "\n",
        "Run the next cell to do this and preview a few random scores."
      ],
      "metadata": {
        "id": "-YOZ69DHBPoI"
      }
    },
    {
      "cell_type": "code",
      "source": [
        "#Lets open the file and have a peak.\n",
        "meme_scores = pd.read_csv(\"https://raw.githubusercontent.com/BrockDSL/Analyzing_Web_Archives/main/meme_scores.csv\",dtype={'Meme ID': object})\n",
        "meme_scores[\"Meme ID\"] = meme_scores[\"Meme ID\"].astype(str)\n",
        "meme_scores.sample(5)"
      ],
      "metadata": {
        "id": "EwXj1N3uB2tW",
        "colab": {
          "base_uri": "https://localhost:8080/",
          "height": 206
        },
        "outputId": "78b29d55-9ac5-48cd-8124-908e251307ca"
      },
      "execution_count": null,
      "outputs": [
        {
          "output_type": "execute_result",
          "data": {
            "text/html": [
              "\n",
              "  <div id=\"df-34f90efa-4152-44ab-a94d-ae214c48cc67\">\n",
              "    <div class=\"colab-df-container\">\n",
              "      <div>\n",
              "<style scoped>\n",
              "    .dataframe tbody tr th:only-of-type {\n",
              "        vertical-align: middle;\n",
              "    }\n",
              "\n",
              "    .dataframe tbody tr th {\n",
              "        vertical-align: top;\n",
              "    }\n",
              "\n",
              "    .dataframe thead th {\n",
              "        text-align: right;\n",
              "    }\n",
              "</style>\n",
              "<table border=\"1\" class=\"dataframe\">\n",
              "  <thead>\n",
              "    <tr style=\"text-align: right;\">\n",
              "      <th></th>\n",
              "      <th>Meme ID</th>\n",
              "      <th>Score</th>\n",
              "    </tr>\n",
              "  </thead>\n",
              "  <tbody>\n",
              "    <tr>\n",
              "      <th>33013</th>\n",
              "      <td>11221348</td>\n",
              "      <td>0</td>\n",
              "    </tr>\n",
              "    <tr>\n",
              "      <th>46234</th>\n",
              "      <td>12192029</td>\n",
              "      <td>2</td>\n",
              "    </tr>\n",
              "    <tr>\n",
              "      <th>8148</th>\n",
              "      <td>24587370</td>\n",
              "      <td>2</td>\n",
              "    </tr>\n",
              "    <tr>\n",
              "      <th>16507</th>\n",
              "      <td>10483615</td>\n",
              "      <td>2</td>\n",
              "    </tr>\n",
              "    <tr>\n",
              "      <th>15758</th>\n",
              "      <td>20734494</td>\n",
              "      <td>2</td>\n",
              "    </tr>\n",
              "  </tbody>\n",
              "</table>\n",
              "</div>\n",
              "      <button class=\"colab-df-convert\" onclick=\"convertToInteractive('df-34f90efa-4152-44ab-a94d-ae214c48cc67')\"\n",
              "              title=\"Convert this dataframe to an interactive table.\"\n",
              "              style=\"display:none;\">\n",
              "        \n",
              "  <svg xmlns=\"http://www.w3.org/2000/svg\" height=\"24px\"viewBox=\"0 0 24 24\"\n",
              "       width=\"24px\">\n",
              "    <path d=\"M0 0h24v24H0V0z\" fill=\"none\"/>\n",
              "    <path d=\"M18.56 5.44l.94 2.06.94-2.06 2.06-.94-2.06-.94-.94-2.06-.94 2.06-2.06.94zm-11 1L8.5 8.5l.94-2.06 2.06-.94-2.06-.94L8.5 2.5l-.94 2.06-2.06.94zm10 10l.94 2.06.94-2.06 2.06-.94-2.06-.94-.94-2.06-.94 2.06-2.06.94z\"/><path d=\"M17.41 7.96l-1.37-1.37c-.4-.4-.92-.59-1.43-.59-.52 0-1.04.2-1.43.59L10.3 9.45l-7.72 7.72c-.78.78-.78 2.05 0 2.83L4 21.41c.39.39.9.59 1.41.59.51 0 1.02-.2 1.41-.59l7.78-7.78 2.81-2.81c.8-.78.8-2.07 0-2.86zM5.41 20L4 18.59l7.72-7.72 1.47 1.35L5.41 20z\"/>\n",
              "  </svg>\n",
              "      </button>\n",
              "      \n",
              "  <style>\n",
              "    .colab-df-container {\n",
              "      display:flex;\n",
              "      flex-wrap:wrap;\n",
              "      gap: 12px;\n",
              "    }\n",
              "\n",
              "    .colab-df-convert {\n",
              "      background-color: #E8F0FE;\n",
              "      border: none;\n",
              "      border-radius: 50%;\n",
              "      cursor: pointer;\n",
              "      display: none;\n",
              "      fill: #1967D2;\n",
              "      height: 32px;\n",
              "      padding: 0 0 0 0;\n",
              "      width: 32px;\n",
              "    }\n",
              "\n",
              "    .colab-df-convert:hover {\n",
              "      background-color: #E2EBFA;\n",
              "      box-shadow: 0px 1px 2px rgba(60, 64, 67, 0.3), 0px 1px 3px 1px rgba(60, 64, 67, 0.15);\n",
              "      fill: #174EA6;\n",
              "    }\n",
              "\n",
              "    [theme=dark] .colab-df-convert {\n",
              "      background-color: #3B4455;\n",
              "      fill: #D2E3FC;\n",
              "    }\n",
              "\n",
              "    [theme=dark] .colab-df-convert:hover {\n",
              "      background-color: #434B5C;\n",
              "      box-shadow: 0px 1px 3px 1px rgba(0, 0, 0, 0.15);\n",
              "      filter: drop-shadow(0px 1px 2px rgba(0, 0, 0, 0.3));\n",
              "      fill: #FFFFFF;\n",
              "    }\n",
              "  </style>\n",
              "\n",
              "      <script>\n",
              "        const buttonEl =\n",
              "          document.querySelector('#df-34f90efa-4152-44ab-a94d-ae214c48cc67 button.colab-df-convert');\n",
              "        buttonEl.style.display =\n",
              "          google.colab.kernel.accessAllowed ? 'block' : 'none';\n",
              "\n",
              "        async function convertToInteractive(key) {\n",
              "          const element = document.querySelector('#df-34f90efa-4152-44ab-a94d-ae214c48cc67');\n",
              "          const dataTable =\n",
              "            await google.colab.kernel.invokeFunction('convertToInteractive',\n",
              "                                                     [key], {});\n",
              "          if (!dataTable) return;\n",
              "\n",
              "          const docLinkHtml = 'Like what you see? Visit the ' +\n",
              "            '<a target=\"_blank\" href=https://colab.research.google.com/notebooks/data_table.ipynb>data table notebook</a>'\n",
              "            + ' to learn more about interactive tables.';\n",
              "          element.innerHTML = '';\n",
              "          dataTable['output_type'] = 'display_data';\n",
              "          await google.colab.output.renderOutput(dataTable, element);\n",
              "          const docLink = document.createElement('div');\n",
              "          docLink.innerHTML = docLinkHtml;\n",
              "          element.appendChild(docLink);\n",
              "        }\n",
              "      </script>\n",
              "    </div>\n",
              "  </div>\n",
              "  "
            ],
            "text/plain": [
              "        Meme ID  Score\n",
              "33013  11221348      0\n",
              "46234  12192029      2\n",
              "8148   24587370      2\n",
              "16507  10483615      2\n",
              "15758  20734494      2"
            ]
          },
          "metadata": {},
          "execution_count": 168
        }
      ]
    },
    {
      "cell_type": "markdown",
      "source": [
        "## Constructing the Final Data Set"
      ],
      "metadata": {
        "id": "d_DhgAOQKyUd"
      }
    },
    {
      "cell_type": "markdown",
      "source": [
        "Let's add this data to our original dataset by matching on the **Meme ID** column. Then let's look at a couple of random entries of our newly enriched completed dataset. For memes that we couldn't get a score for, we drop from the dataset. (We missed some scores because the memes were deleted from the website) Run the next cell to create our final version of the dataset with all of enriched data and display a few random entries. Notice how we add a column called _Score_.\n"
      ],
      "metadata": {
        "id": "ft0tgjFmKavX"
      }
    },
    {
      "cell_type": "code",
      "source": [
        "#Original Dataset\n",
        "meme_data = pd.read_csv(\"https://raw.githubusercontent.com/BrockDSL/Analyzing_Web_Archives/main/memegenerator.csv\", sep=\",\")\n",
        "meme_data[\"Meme ID\"] = meme_data[\"Meme ID\"].astype(str)\n",
        "\n",
        "#open CSV of language info and create a dataframe\n",
        "lang_data = pd.read_csv(\"https://raw.githubusercontent.com/BrockDSL/Analyzing_Web_Archives/main/language_data.csv\")\n",
        "lang_data[\"Meme ID\"] = lang_data[\"Meme ID\"].astype(str)\n",
        "\n",
        "#merge language data to meme data frame\n",
        "meme_data = pd.merge(meme_data,lang_data,on=\"Meme ID\", how = \"outer\")\n",
        "\n",
        "#Meme Score Added\n",
        "meme_scores = pd.read_csv(\"https://raw.githubusercontent.com/BrockDSL/Analyzing_Web_Archives/main/meme_scores.csv\",dtype={'Meme ID': object})\n",
        "meme_scores[\"Meme ID\"] = meme_scores[\"Meme ID\"].astype(str)\n",
        "meme_data = pd.merge(meme_data,meme_scores,on=\"Meme ID\", how = \"outer\")\n",
        "meme_data.dropna(thresh=8,inplace=True)\n",
        "\n",
        "#set our random item to be from our new dataframe\n",
        "rando = meme_data.sample(1)\n",
        "#meme_data.sample(5)\n"
      ],
      "metadata": {
        "id": "cVyweUDGFInr"
      },
      "execution_count": 305,
      "outputs": []
    },
    {
      "cell_type": "markdown",
      "source": [
        "\n",
        "\n",
        "---\n",
        "\n",
        "\n",
        "# The Final Analysis: Scores\n",
        "\n",
        "\n",
        "Let's take a look at some aspects of our data now that we have enriched it with all the extra pieces:\n",
        "\n",
        "- Language \n",
        "- Scores\n",
        "\n",
        "First our average score..."
      ],
      "metadata": {
        "id": "4Jo6tagSOFfZ"
      }
    },
    {
      "cell_type": "code",
      "source": [
        "print(\"Average score of memes: \",meme_data[\"Score\"].mean())"
      ],
      "metadata": {
        "id": "7mUKduJiOxod"
      },
      "execution_count": null,
      "outputs": []
    },
    {
      "cell_type": "markdown",
      "source": [
        "## Average Scores by Language\n",
        "\n",
        "Let's see what our averages scores are for all of the languages in our dataset."
      ],
      "metadata": {
        "id": "8lna3w2OAk5y"
      }
    },
    {
      "cell_type": "code",
      "source": [
        "print(\"Average score by languages, top 10 only: \")\n",
        "top_by_language = pd.DataFrame(meme_data.groupby(\"Language\").mean()[\"Score\"].sort_values(ascending=False))\n",
        "top_by_language"
      ],
      "metadata": {
        "id": "QmhQeA8RO_Cp"
      },
      "execution_count": null,
      "outputs": []
    },
    {
      "cell_type": "markdown",
      "source": [
        "\n",
        "## Top Score by Language\n",
        "\n",
        "Run the cell below and add the two letter code of a _Language_ in the box below to see the highest scoring meme in that category. Click the **Show** button to retrieve the top meme."
      ],
      "metadata": {
        "id": "Uy5gaYE-H_Pk"
      }
    },
    {
      "cell_type": "code",
      "source": [
        "def show_top_by_language(language_choice):\n",
        "  top_lang_score = pd.DataFrame(meme_data[meme_data[\"Language\"] == language_choice])\n",
        "  top_lang_score = top_lang_score.sort_values(by=\"Score\",ascending=False).head(1)\n",
        "  display(Image(url=top_lang_score['Archived URL'].values[0], format='jpg'))\n",
        "  display(top_lang_score)\n",
        "\n",
        "language_textbox = widgets.Text(\n",
        "    value = 'de',\n",
        "    description = 'Language'\n",
        "\n",
        ")\n",
        "\n",
        "print(\"Type in any two letter language code to see the top scoring meme in that language\")\n",
        "show_top_lang_control = interact_manual.options(manual_name=\"Show\")\n",
        "show_top_lang_control(show_top_by_language,language_choice=language_textbox);\n",
        "\n",
        "\n"
      ],
      "metadata": {
        "id": "w8fomuG5IZam",
        "colab": {
          "base_uri": "https://localhost:8080/",
          "height": 454,
          "referenced_widgets": [
            "a58ad0705b6d415780364f72a261be67",
            "315e149a52b44feb8fa06130b505b4b0",
            "12f0c2f04d494cd69c63937e5a215188",
            "3e9fe2468e1842ecaccb352b2286a252",
            "76c7edb8535147f491084bafe963e475",
            "1dc5b12a89d34e0bb1211bee6aa48e7d",
            "d2df1e3a25f5437d8b806622a66c11f9",
            "15eb988e93b44ea79709aebbf5192e0a",
            "b33b81e6008b4e6f9d75c24372916a7c",
            "3df817385be94ad48e494596f5912d24"
          ]
        },
        "outputId": "04f93888-42e4-4c70-9258-ea543093026a"
      },
      "execution_count": 318,
      "outputs": [
        {
          "output_type": "stream",
          "name": "stdout",
          "text": [
            "Type in any two letter language code to see the top scoring meme in that language\n"
          ]
        },
        {
          "output_type": "display_data",
          "data": {
            "application/vnd.jupyter.widget-view+json": {
              "model_id": "a58ad0705b6d415780364f72a261be67",
              "version_minor": 0,
              "version_major": 2
            },
            "text/plain": [
              "interactive(children=(Text(value='de', description='Language'), Button(description='Show', style=ButtonStyle()…"
            ]
          },
          "metadata": {}
        }
      ]
    },
    {
      "cell_type": "markdown",
      "source": [
        "Let's see what our averages scores are for the top 25 Base Memes in our dataset."
      ],
      "metadata": {
        "id": "YoNvQoXiIUdA"
      }
    },
    {
      "cell_type": "code",
      "source": [
        "print(\"Average score by base memes, top 25 only: \")\n",
        "top_by_category = pd.DataFrame(meme_data.groupby(\"Base Meme Name\").mean()[\"Score\"].sort_values(ascending=False)[0:25])\n",
        "top_by_category"
      ],
      "metadata": {
        "id": "qLqdB5CMPjCT"
      },
      "execution_count": null,
      "outputs": []
    },
    {
      "cell_type": "markdown",
      "source": [
        "## Highest Scoring Meme by Meme Catgory\n",
        "\n",
        "Run the cell below and dd the name of a _Base Meme Name_ in the box below to see the highest scoring meme in that category. Click the **Show** button to retrieve the top meme. But first, let's remind ourselves of the top 25 meme categories in the data set."
      ],
      "metadata": {
        "id": "5DCMw8ta_50t"
      }
    },
    {
      "cell_type": "code",
      "source": [
        "top_25_cat"
      ],
      "metadata": {
        "id": "Hrnv3bhXdoZg"
      },
      "execution_count": null,
      "outputs": []
    },
    {
      "cell_type": "code",
      "source": [
        "#Run this cell to load the previewer\n",
        "def show_top_by_category(category_choice):\n",
        "  top_cat_score = pd.DataFrame(meme_data[meme_data[\"Base Meme Name\"] == category_choice])\n",
        "  top_cat_score = top_cat_score.sort_values(by=\"Score\",ascending=False).head(1)\n",
        "  display(Image(url=top_cat_score['Archived URL'].values[0], format='jpg'))\n",
        "  display(top_cat_score)\n",
        " \n",
        "category_textbox = widgets.Text(\n",
        "    value = 'Sudden Clarity Clarence',\n",
        "    description = 'Category'\n",
        "\n",
        ")\n",
        "print(\"Copy/Paste a Meme Category from above to see the top scoring meme in that Category.\")\n",
        "show_top_cat_control = interact_manual.options(manual_name=\"Show\")\n",
        "show_top_cat_control(show_top_by_category,category_choice=category_textbox);"
      ],
      "metadata": {
        "id": "c85Eu4flBTNU"
      },
      "execution_count": null,
      "outputs": []
    },
    {
      "cell_type": "markdown",
      "source": [
        "## Highest Scoring Meme in the dataset!\n",
        "\n",
        "\n",
        "Now that we've explored some different dimensions of the data let's take a look at the hightest scoring meme in the whole data set. Run the final code cell below to find out what it is."
      ],
      "metadata": {
        "id": "irr39pmDQyIe"
      }
    },
    {
      "cell_type": "code",
      "source": [
        "display(Image(url=meme_data[meme_data['Score'] == meme_data['Score'].max()]['Archived URL'].values[0], format='jpg'))\n",
        "meme_data[meme_data['Score'] == meme_data['Score'].max()]"
      ],
      "metadata": {
        "id": "1JictNgsQBnX"
      },
      "execution_count": null,
      "outputs": []
    },
    {
      "cell_type": "markdown",
      "source": [
        "\n",
        "# Congratulations\n",
        "\n",
        "You've now had a tour of the Memegenerator dataset and found some interesting results."
      ],
      "metadata": {
        "id": "EcWm-GOCaE9Q"
      }
    }
  ]
}