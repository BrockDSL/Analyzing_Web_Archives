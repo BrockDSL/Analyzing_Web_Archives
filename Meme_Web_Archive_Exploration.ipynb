{
  "nbformat": 4,
  "nbformat_minor": 0,
  "metadata": {
    "colab": {
      "name": "Meme Web Archive Exploration",
      "provenance": [],
      "collapsed_sections": [],
      "include_colab_link": true
    },
    "kernelspec": {
      "name": "python3",
      "display_name": "Python 3"
    },
    "language_info": {
      "name": "python"
    }
  },
  "cells": [
    {
      "cell_type": "markdown",
      "metadata": {
        "id": "view-in-github",
        "colab_type": "text"
      },
      "source": [
        "<a href=\"https://colab.research.google.com/github/BrockDSL/Analyzing_Web_Archives/blob/main/Meme_Web_Archive_Exploration.ipynb\" target=\"_parent\"><img src=\"https://colab.research.google.com/assets/colab-badge.svg\" alt=\"Open In Colab\"/></a>"
      ]
    },
    {
      "cell_type": "markdown",
      "source": [
        "![dsl_logo.png](https://raw.githubusercontent.com/BrockDSL/Analyzing_Web_Archives/main/dsl_logo.png)\n",
        "\n",
        "# Analyzing Web Archives\n",
        "\n",
        "Welcome to the Digital Scholarship Lab Level Analyzing Web Archives workshop. The following notebook provides an investigation into the [Meme Generator dataset](https://www.loc.gov/item/2018655320/) from the Library of Congress in the United States. It shows us how we can use a derivative, and the Python programming language, to come up some interesting results.\n",
        "\n",
        "\n",
        "## How this notebook works\n",
        "\n",
        "This webpage is a Google Colab notebook and is comprised of different *cells*. Some are code cells that run Python snippets. To works through these cells simply click on the triangle _run_ button in each cell. Click in the cell below to see the play button, then click on it to begin."
      ],
      "metadata": {
        "id": "7MDVEzH37J1m"
      }
    },
    {
      "cell_type": "code",
      "execution_count": null,
      "metadata": {
        "id": "zUSj3buK7GgK"
      },
      "outputs": [],
      "source": [
        "!pip install langdetect\n",
        "!pip install pandas\n",
        "!pip install matplotlib\n",
        "\n",
        "import pandas as pd\n",
        "import matplotlib.pyplot as plt\n",
        "from IPython.display import Image,display,IFrame\n",
        "from ipywidgets import widgets,interact,interact_manual\n",
        "from langdetect import detect\n",
        "import matplotlib.pyplot as plt\n",
        "\n",
        "global rando\n",
        "\n",
        "%matplotlib inline\n",
        "print(\"\\nLibraries loaded, and ready to run!\")"
      ]
    },
    {
      "cell_type": "markdown",
      "source": [
        "The workshop will proceed as follows, we'll explain a few concepts, run a few cells and then ask you to do the same. We'll then ask for your feedback in the chatbox or over the microphone."
      ],
      "metadata": {
        "id": "q1A8A70qREZb"
      }
    },
    {
      "cell_type": "markdown",
      "source": [
        "# Loading our data set\n",
        "\n",
        "We'll be using the [Pandas](https://pandas.pydata.org/) Python Library to analyze our dataset and we'll do our best to describe what is going on in the code with comments and descriptions.\n",
        "\n",
        "The information from this archive is saved in a _CSV_ file. Bascially something similar to a spreadsheet. In the next cell we will load this file into something call a Panda's dataframe and we'll look at the first 5 entries by using the **head(5)** function call."
      ],
      "metadata": {
        "id": "KSZ93LCjA8NB"
      }
    },
    {
      "cell_type": "code",
      "source": [
        "#Open up the CSV file and put it in a Pandas Dataframe variable\n",
        "meme_data = pd.read_csv(\"https://raw.githubusercontent.com/BrockDSL/Analyzing_Web_Archives/main/memegenerator.csv\", sep=\",\")\n",
        "meme_data[\"Meme ID\"] = meme_data[\"Meme ID\"].astype(str)\n",
        "\n",
        "meme_data.head(5)"
      ],
      "metadata": {
        "id": "pD7R7tpLBXok"
      },
      "execution_count": null,
      "outputs": []
    },
    {
      "cell_type": "markdown",
      "source": [
        "\n",
        "\n",
        "---\n",
        "\n",
        "\n",
        "# Some General Data Exploration\n"
      ],
      "metadata": {
        "id": "vfrbcPB3G0iS"
      }
    },
    {
      "cell_type": "markdown",
      "source": [
        "### How much data?\n",
        "\n",
        "We find out how many data points we have by counting the number of rows in our  dataframe. We do this using the **len()** function.\n"
      ],
      "metadata": {
        "id": "BJMUZ14FGYdt"
      }
    },
    {
      "cell_type": "code",
      "source": [
        "\n",
        "print(\"We have this many memes to look at: \",len(meme_data))\n"
      ],
      "metadata": {
        "id": "3OzCSdRnGjLT"
      },
      "execution_count": null,
      "outputs": []
    },
    {
      "cell_type": "markdown",
      "source": [
        "### Random Entry\n",
        "\n",
        "To get a better sense of what is in our dataset let's look at a random entry by using **sample(1)**. Click the below button a few times to get a few different options. The meme image might take a few seconds to load."
      ],
      "metadata": {
        "id": "g9c1piJ1FPPC"
      }
    },
    {
      "cell_type": "code",
      "source": [
        "rando = meme_data.sample(1)\n",
        "#find the URL of the picture file and display it\n",
        "display(Image(url=rando['Archived URL'].values[0], format='jpg'))\n",
        "print(\"View on Memegenerator: \\t\",rando['Meme Page URL'].values[0])\n",
        "print(\"View on Archive: \\t\\t\\t\",rando['Archived URL'].values[0])\n",
        "rando"
      ],
      "metadata": {
        "id": "tkAfcLogFYru"
      },
      "execution_count": null,
      "outputs": []
    },
    {
      "cell_type": "markdown",
      "source": [
        "## Question 1 ##\n",
        "\n",
        "Have a look at the data that is associated with the random record. In the chat box suggest some things you might want to explore with this data?"
      ],
      "metadata": {
        "id": "OA30QAkAfZ0w"
      }
    },
    {
      "cell_type": "markdown",
      "source": [
        "## Category of memes?\n",
        "\n",
        "As you might know, memes come in many different flavours. Let's see if we can find out how many types there are? We'll do this by **grouping** our _Base Meme Name_ column and **counting** how many entries are in each."
      ],
      "metadata": {
        "id": "D3bk4rXDFBVZ"
      }
    },
    {
      "cell_type": "code",
      "source": [
        "# Count works by showing us how many rows have values for your search criteria\n",
        "# it does this for each column that has numeric data, that is why we have so\n",
        "# many columns in our result\n",
        "\n",
        "meme_data.groupby([\"Base Meme Name\"]).count()"
      ],
      "metadata": {
        "id": "keJ_eKyaE_SR"
      },
      "execution_count": null,
      "outputs": []
    },
    {
      "cell_type": "markdown",
      "source": [
        "## Question 2 ## \n",
        "\n",
        "Based on the above summary how many different type so memes we have? Share your response in the chat box."
      ],
      "metadata": {
        "id": "Jeh2fR1eHDlc"
      }
    },
    {
      "cell_type": "markdown",
      "source": [
        "Yikes! That looks like a lot. Let's just keep the top **25** entries. We'll do this by **sorting**."
      ],
      "metadata": {
        "id": "zubnxndqFuQ-"
      }
    },
    {
      "cell_type": "code",
      "source": [
        "# Since the memes are sorted from biggest to smallest we can use the \n",
        "# slice operator with [0:25] to only show the top 25 memes\n",
        "# slice operator - https://www.w3schools.com/python/ref_func_slice.asp\n",
        "\n",
        "top_25_cat = pd.DataFrame(meme_data.groupby([\"Base Meme Name\"]).count().sort_values(by=\"Meme ID\",ascending=False)[\"Meme ID\"][0:25])\n",
        "top_25_cat"
      ],
      "metadata": {
        "id": "tl9azoXCF35p"
      },
      "execution_count": null,
      "outputs": []
    },
    {
      "cell_type": "markdown",
      "source": [
        "## A Random Entry by Meme Category\n",
        "\n",
        "\n",
        "Let's create an interactive form that will allow us to pick a category to see a random entry. Please click the run button in the cell below to show the form. Copy/Paste the name of a meme category from above in the text box below and click **Show**. \n",
        "\n",
        "(BTW, if you choose something that isn't in the category list it will show an error, no matter, just type in something else and run the cell again)\n"
      ],
      "metadata": {
        "id": "CwJMCi2d8gRG"
      }
    },
    {
      "cell_type": "code",
      "source": [
        "#Random Entry Form\n",
        "def show_random(choice):\n",
        "  rando = meme_data[meme_data[\"Base Meme Name\"] == str(choice)].sample(1)\n",
        "  print(\"View on Memegenerator: \\t\",rando['Meme Page URL'].values[0])\n",
        "  print(\"View on Archive: \\t\\t\\t\",rando['Archived URL'].values[0])\n",
        "  display(Image(url=rando['Archived URL'].values[0], format='jpg'))\n",
        "  display(rando)\n",
        "\n",
        "\n",
        "title_textbox = widgets.Text(\n",
        "    value='Me Gusta',\n",
        "    description='Category',\n",
        ")\n",
        "print(\"Enter a meme category from the list above to see a random entry in that category\")\n",
        "print(\"Click 'Show' to display\\n\")\n",
        "show_random_control = interact_manual.options(manual_name=\"Show\")\n",
        "show_random_control(show_random,choice=title_textbox);\n"
      ],
      "metadata": {
        "id": "VgEuYlY6bSqE"
      },
      "execution_count": null,
      "outputs": []
    },
    {
      "cell_type": "markdown",
      "source": [
        "\n",
        "\n",
        "## Now, a (bit) of Math\n",
        "\n",
        "Let's do a touch of analysis on the categories of memes..."
      ],
      "metadata": {
        "id": "RHvToPQC19Yg"
      }
    },
    {
      "cell_type": "markdown",
      "source": [
        "What's the **average** number of memes in each type?\n",
        "\n"
      ],
      "metadata": {
        "id": "b_BrvuMfN8rd"
      }
    },
    {
      "cell_type": "code",
      "source": [
        "# We group the data again by 'Base Meme Name' then we apply count() to see\n",
        "#how many items fall within that category\n",
        "#finally we apply the mean() function to calculate the mean average\n",
        "meme_type_mean = meme_data.groupby([\"Base Meme Name\"])[\"Meme ID\"].count().mean()\n",
        "print(\"Average number of entries per meme category: \",meme_type_average)"
      ],
      "metadata": {
        "id": "x27KK6YLOGpd"
      },
      "execution_count": null,
      "outputs": []
    },
    {
      "cell_type": "markdown",
      "source": [
        "## Question 3 ##\n",
        "\n",
        "We are going to ask you to modify the code of the following cell to modify our running analysis.\n",
        "\n",
        "The _mean_ average might be a little misleading. Let's also check what the median number is for each base meme. The code chunk below is incomplete. Can you resolve the error?"
      ],
      "metadata": {
        "id": "wTSbEZ7zC6SD"
      }
    },
    {
      "cell_type": "code",
      "source": [
        "# We group the data again by 'Base Meme Name' then we apply count() to see\n",
        "#how many items fall within that category\n",
        "#modify the line below to complete this cell\n",
        "meme_type_median = meme_data.groupby([\"Base Meme Name\"])[\"Meme ID\"].count().()\n",
        "print(\"The median number of entries per base meme is: \",meme_type_median)"
      ],
      "metadata": {
        "id": "6DKeHnnFC5dF"
      },
      "execution_count": null,
      "outputs": []
    },
    {
      "cell_type": "markdown",
      "source": [
        "As you can see, the difference between the mean and the median is significant. This is because there's a skewed distribution in our dataset. \n",
        "\n",
        "Do you have any guesses as to why this might be the case? Share your thoughts in the chat!\n",
        "\n"
      ],
      "metadata": {
        "id": "o3YoM9_scv8I"
      }
    },
    {
      "cell_type": "markdown",
      "source": [
        "## Huh, that's weird\n",
        "\n",
        "Let's visualize our lopsided distribution by drawing a **histogram**. We shows the frequency distribution in our datae. We will use the [Matplotlib](https://matplotlib.org/) library to do this. Run the cell below to do this. (You don't need to modify anything)"
      ],
      "metadata": {
        "id": "QQQjyCIJ9TaU"
      }
    },
    {
      "cell_type": "code",
      "source": [
        "bins = 150\n",
        "\n",
        "plt.hist(meme_data.groupby([\"Base Meme Name\"]).count().sort_values(by=\"Meme ID\",ascending=False)[\"Meme ID\"],bins)\n",
        "\n",
        "plt.title(\"Category Frequency\")\n",
        "plt.xlabel(\"Number of Entries\")\n",
        "plt.ylabel(\"Number of Categories\")\n",
        "plt.show()"
      ],
      "metadata": {
        "id": "IJBzAe84d6y6"
      },
      "execution_count": null,
      "outputs": []
    },
    {
      "cell_type": "markdown",
      "source": [
        "## Question 4 ##\n",
        "\n",
        "\n",
        "Can you describe this graph? What is the biggest value that it is showing? Share your thoughts in the chat box."
      ],
      "metadata": {
        "id": "booB-XZJfvib"
      }
    },
    {
      "cell_type": "markdown",
      "source": [
        "\n",
        "\n",
        "---\n",
        "\n",
        "\n",
        "# Enriching the Data\n",
        "\n",
        "We've had some fun looking at different components of the data, but let's see if we an **enrich** the data by adding more columns of information to it."
      ],
      "metadata": {
        "id": "QyQjKP6cKY9H"
      }
    },
    {
      "cell_type": "markdown",
      "source": [
        "# Language info\n",
        "\n",
        "As we've seen in our examples there are many different languages represented in our dataset. Let's see if we can **enrich** our dataset by automatically detecting what language it is and adding that as a new column. We'll use the [langdetect](https://pypi.org/project/langdetect/) library to do this. We can use the text in the _Alternate Text_ column."
      ],
      "metadata": {
        "id": "XhH97IFLhdoB"
      }
    },
    {
      "cell_type": "code",
      "source": [
        "#Let's look at our random item again\n",
        "rando"
      ],
      "metadata": {
        "id": "ECsGpyPHknSl"
      },
      "execution_count": null,
      "outputs": []
    },
    {
      "cell_type": "code",
      "source": [
        "# Let's the language of the random entry from earlier\n",
        "# We'll use the 'Alternate Text' Column to detect the language\n",
        "# We'll get a two letter languge code that represents one of the languages in the list of ISO 639-1 codes (https://en.wikipedia.org/wiki/List_of_ISO_639-1_codes). \n",
        "print(detect(str(rando[\"Alternate Text\"])))"
      ],
      "metadata": {
        "id": "1ezA2eAbjsAP"
      },
      "execution_count": null,
      "outputs": []
    },
    {
      "cell_type": "markdown",
      "source": [
        "## Question 5\n",
        "\n",
        "Why do you think we used the _Alternate Text_ column instead of any others for the language detection?"
      ],
      "metadata": {
        "id": "rKn6ktnZ-S6c"
      }
    },
    {
      "cell_type": "markdown",
      "source": [
        "\n",
        "## Don't look behind the curtain\n",
        "\n",
        "It would take too long to calculate all these langauge value now for all of the entries in the dataset. So the next cell will just add a new column to our dataset. (It took 8 minutes for language detection code to run on the original dataset)\n",
        "\n",
        "Have a look at the new column _Language_ that was added."
      ],
      "metadata": {
        "id": "ceDW1-LmvMbl"
      }
    },
    {
      "cell_type": "code",
      "source": [
        "#We build our dataset from scratch so that the cells in this notebook will\n",
        "#always work as expected\n",
        "\n",
        "#reload original dataset\n",
        "meme_data = pd.read_csv(\"https://raw.githubusercontent.com/BrockDSL/Analyzing_Web_Archives/main/memegenerator.csv\", sep=\",\")\n",
        "meme_data[\"Meme ID\"] = meme_data[\"Meme ID\"].astype(str)\n",
        "\n",
        "#load and merge language info\n",
        "lang_data = pd.read_csv(\"https://raw.githubusercontent.com/BrockDSL/Analyzing_Web_Archives/main/language_data.csv\")\n",
        "lang_data[\"Meme ID\"] = lang_data[\"Meme ID\"].astype(str)\n",
        "meme_data = pd.merge(meme_data,lang_data,on=\"Meme ID\", how = \"outer\")\n",
        "\n",
        "\n",
        "print(\"Language Information added to the dataset!\")"
      ],
      "metadata": {
        "id": "krcyF-bfvnuF"
      },
      "execution_count": null,
      "outputs": []
    },
    {
      "cell_type": "markdown",
      "source": [
        "\n",
        "## How Effective was Language Detection?\n",
        "\n",
        "Since the language detection was an automated process there might be some problems with results. As described in the [notebook](https://github.com/BrockDSL/Analyzing_Web_Archives/blob/main/Meme_Language_Detection.ipynb) that generates the data, if a match can't be found it adds `Could Not Detect` to the column instead of a language code. \n",
        "\n",
        "## Question 6\n",
        "\n",
        "What % of languages were successfully matched? Share a number in the chat box before running the below cells.\n",
        "\n",
        "\n",
        "Let's see how many couldn't be detected:"
      ],
      "metadata": {
        "id": "G4nH1SavBqTx"
      }
    },
    {
      "cell_type": "code",
      "source": [
        "mismatches = meme_data[meme_data[\"Language\"] == \"Could Not Detect\"][\"Meme ID\"].count()\n",
        "print(\"Total number of mismatches: \",mismatches)\n",
        "#Order of operations just like in algebra class\n",
        "print(\"Successful languages looked up: \", (1 - (mismatches/len(meme_data))) * 100,\"%\")"
      ],
      "metadata": {
        "id": "2VN_z0nlCK9Y"
      },
      "execution_count": null,
      "outputs": []
    },
    {
      "cell_type": "markdown",
      "source": [
        "Yikes! Let's see what happened here by looking a couple or random entries with that value. If were were going to do some serious analysis we would have to correct those, probably with a manual process."
      ],
      "metadata": {
        "id": "ZycwuAgbCT_P"
      }
    },
    {
      "cell_type": "code",
      "source": [
        "meme_data[meme_data[\"Language\"] == \"Could Not Detect\"].sample(5)"
      ],
      "metadata": {
        "id": "0bfLO608CkrN"
      },
      "execution_count": null,
      "outputs": []
    },
    {
      "cell_type": "markdown",
      "source": [
        "Yuck. We've found some memes without good _Alternate Text_ values. For now let's just proceed by keeping them in the data set. Depending on what yoru analysis needs to do you might want to delete them from the dataset."
      ],
      "metadata": {
        "id": "obVBfS_1Ctvt"
      }
    },
    {
      "cell_type": "markdown",
      "source": [
        "\n",
        "## Summary of Language Information\n",
        "\n",
        "Run the next cell to generate a pie graph of the top 10 languages seen in the memes."
      ],
      "metadata": {
        "id": "ADzD1K2H-Kmi"
      }
    },
    {
      "cell_type": "code",
      "source": [
        "#We group, count, & sort\n",
        "#We then use that slice operator again to only get the top 10 values.\n",
        "pie_data = meme_data.groupby([\"Language\"]).count().sort_values(by=\"Meme ID\",ascending=False)[0:10][\"Meme ID\"]\n",
        "plt.pie(pie_data, labels = pie_data.keys())\n",
        "plt.title(\"Top 10 Languages in the Memes\")\n",
        "plt.show()"
      ],
      "metadata": {
        "id": "c50-lZ6E20DK"
      },
      "execution_count": null,
      "outputs": []
    },
    {
      "cell_type": "markdown",
      "source": [
        "## Question 7 ##\n",
        "\n",
        "Is that how you thought the languages would be distributed? Share your thoughts in the chat box."
      ],
      "metadata": {
        "id": "um-YP0h7-eaY"
      }
    },
    {
      "cell_type": "markdown",
      "source": [
        "# Meme Scores!\n",
        "\n",
        "Memegenerator has voting capability. By clicking the up or down arrow users can increase / descrease this score. Let's see this for our random meme. Run the next cell to generate the preview"
      ],
      "metadata": {
        "id": "FZmcRBx99yiX"
      }
    },
    {
      "cell_type": "code",
      "source": [
        "preview_url = str(rando['Meme Page URL'].values[0])\n",
        "preview_url = preview_url.replace(\"http:\",\"https:\")\n",
        "\n",
        "IFrame(preview_url,width=1000, height=700)"
      ],
      "metadata": {
        "id": "V6jFu3cu-JuJ"
      },
      "execution_count": null,
      "outputs": []
    },
    {
      "cell_type": "markdown",
      "source": [
        "To enrich our dataset even more we found the scores of all of the memes in dataset. \n",
        "\n",
        "We did this by **downloading** all 60000 meme webpages and screen scrapping to find the score that was presented on the page. Downloading the information  took about **4 Hours** so we won't try to do that again. We will however open a CSV file of these scores and add them to our dataset, just like we did with the language information. In this case for memes we could not find the score for (because there were deleted from the site for example) we just use the place holder value `NaN` instead.\n",
        "\n",
        "\n",
        "\n",
        "Run the next cell to do this and preview a few random scores. Feel free to run it a few times."
      ],
      "metadata": {
        "id": "-YOZ69DHBPoI"
      }
    },
    {
      "cell_type": "code",
      "source": [
        "#Lets open the file and have a peak.\n",
        "meme_scores = pd.read_csv(\"https://raw.githubusercontent.com/BrockDSL/Analyzing_Web_Archives/main/meme_scores.csv\",dtype={'Meme ID': object})\n",
        "meme_scores[\"Meme ID\"] = meme_scores[\"Meme ID\"].astype(str)\n",
        "meme_scores.sample(5)"
      ],
      "metadata": {
        "id": "EwXj1N3uB2tW"
      },
      "execution_count": null,
      "outputs": []
    },
    {
      "cell_type": "markdown",
      "source": [
        "\n",
        "\n",
        "\n",
        "---\n",
        "\n",
        "\n",
        "## Constructing the Final Data Set"
      ],
      "metadata": {
        "id": "d_DhgAOQKyUd"
      }
    },
    {
      "cell_type": "markdown",
      "source": [
        "Let's add this data to our original dataset by matching on the **Meme ID** column. Then let's look at a couple of random entries of our newly enriched completed dataset. \n",
        "\n",
        "\n",
        "For memes that we couldn't get a score for, we drop from the dataset. This is usually a good strategy but for your research projects you will need to decide what is right for what you are investigating.\n",
        "\n",
        "Run the next cell to create our final version of the dataset with all of enriched data and display a few random entries. Notice how we add a column called _Score_.\n"
      ],
      "metadata": {
        "id": "ft0tgjFmKavX"
      }
    },
    {
      "cell_type": "code",
      "source": [
        "#This cell will build the whole dataset from scratch. ie all 3 steps\n",
        "#this is necessary so that if your run the cells out of order everything \n",
        "#will still work as expected\n",
        "\n",
        "#Original Dataset\n",
        "meme_data = pd.read_csv(\"https://raw.githubusercontent.com/BrockDSL/Analyzing_Web_Archives/main/memegenerator.csv\", sep=\",\")\n",
        "meme_data[\"Meme ID\"] = meme_data[\"Meme ID\"].astype(str)\n",
        "\n",
        "#open CSV of language info and create a dataframe\n",
        "lang_data = pd.read_csv(\"https://raw.githubusercontent.com/BrockDSL/Analyzing_Web_Archives/main/language_data.csv\")\n",
        "lang_data[\"Meme ID\"] = lang_data[\"Meme ID\"].astype(str)\n",
        "\n",
        "#merge language data to meme data frame\n",
        "meme_data = pd.merge(meme_data,lang_data,on=\"Meme ID\", how = \"outer\")\n",
        "\n",
        "#Meme Score Added\n",
        "meme_scores = pd.read_csv(\"https://raw.githubusercontent.com/BrockDSL/Analyzing_Web_Archives/main/meme_scores.csv\",dtype={'Meme ID': object})\n",
        "meme_scores[\"Meme ID\"] = meme_scores[\"Meme ID\"].astype(str)\n",
        "meme_data = pd.merge(meme_data,meme_scores,on=\"Meme ID\", how = \"outer\")\n",
        "\n",
        "#Any meme that has a NaN value in 8 or more columns gets dropped\n",
        "meme_data.dropna(thresh=8,inplace=True)\n",
        "\n",
        "#set our random item to be from our new dataframe\n",
        "rando = meme_data.sample(1)\n",
        "\n",
        "print(\"\\nFinal Dataset built and ready to go.\")\n",
        "\n",
        "meme_data.sample(5)"
      ],
      "metadata": {
        "id": "cVyweUDGFInr"
      },
      "execution_count": null,
      "outputs": []
    },
    {
      "cell_type": "markdown",
      "source": [
        "## Another Random Entry\n",
        "\n",
        "As we've been doing let's take a look at the another random entry, this time with all information that we are going to add.\n",
        "\n",
        "Feel free to run this cell a few times. Remember, it might take a few moments for the image to load."
      ],
      "metadata": {
        "id": "_t2xtWYJAj0w"
      }
    },
    {
      "cell_type": "code",
      "source": [
        "rando = meme_data.sample(1)\n",
        "display(Image(url=rando['Archived URL'].values[0], format='jpg'))\n",
        "rando"
      ],
      "metadata": {
        "id": "D71Y_tBBATQS"
      },
      "execution_count": null,
      "outputs": []
    },
    {
      "cell_type": "markdown",
      "source": [
        "## Question 8\n",
        "\n",
        "What kinds of questions can we ask and answer with this new enriched dataset. Feel free to share some thoughts in the chat box or over the microphone."
      ],
      "metadata": {
        "id": "T-zTlb-KNu82"
      }
    },
    {
      "cell_type": "markdown",
      "source": [
        "\n",
        "\n",
        "---\n",
        "\n",
        "\n",
        "# The Final Analysis: Scores\n",
        "\n",
        "Let's try looking at some trends in our final dataset. First our average meme score..."
      ],
      "metadata": {
        "id": "4Jo6tagSOFfZ"
      }
    },
    {
      "cell_type": "code",
      "source": [
        "print(\"Average score of memes: \",meme_data[\"Score\"].mean())"
      ],
      "metadata": {
        "id": "7mUKduJiOxod"
      },
      "execution_count": null,
      "outputs": []
    },
    {
      "cell_type": "markdown",
      "source": [
        "## Average Scores by Language\n",
        "\n",
        "Let's see what our averages scores are for all of the languages in our dataset."
      ],
      "metadata": {
        "id": "8lna3w2OAk5y"
      }
    },
    {
      "cell_type": "code",
      "source": [
        "print(\"Average score by languages: \")\n",
        "top_by_language = pd.DataFrame(meme_data.groupby(\"Language\").mean()[\"Score\"].sort_values(ascending=False))\n",
        "top_by_language"
      ],
      "metadata": {
        "id": "QmhQeA8RO_Cp"
      },
      "execution_count": null,
      "outputs": []
    },
    {
      "cell_type": "markdown",
      "source": [
        "\n",
        "## Displaying Top Score by Language\n",
        "\n",
        "Run the cell below and add the two letter code of a _Language_ in the box below to see the highest scoring meme in that category. Click the **Show** button to retrieve the top meme. If you put in a code that it can't find, it will give you an error. It's ok just add a different value in the text box and try again."
      ],
      "metadata": {
        "id": "Uy5gaYE-H_Pk"
      }
    },
    {
      "cell_type": "code",
      "source": [
        "def show_top_by_language(language_choice):\n",
        "  top_lang_score = pd.DataFrame(meme_data[meme_data[\"Language\"] == language_choice])\n",
        "  top_lang_score = top_lang_score.sort_values(by=\"Score\",ascending=False).head(1)\n",
        "  display(Image(url=top_lang_score['Archived URL'].values[0], format='jpg'))\n",
        "  display(top_lang_score)\n",
        "\n",
        "language_textbox = widgets.Text(\n",
        "    value = 'de',\n",
        "    description = 'Language'\n",
        "\n",
        ")\n",
        "\n",
        "print(\"Type in any two letter language code to see the top scoring meme in that language\")\n",
        "show_top_lang_control = interact_manual.options(manual_name=\"Show\")\n",
        "show_top_lang_control(show_top_by_language,language_choice=language_textbox);\n",
        "\n",
        "\n"
      ],
      "metadata": {
        "id": "w8fomuG5IZam"
      },
      "execution_count": null,
      "outputs": []
    },
    {
      "cell_type": "markdown",
      "source": [
        "## Question 9\n",
        "\n",
        "Try some different language codes in the form above. Share any interesting results you find in the chat box."
      ],
      "metadata": {
        "id": "BX3KcQErOtvP"
      }
    },
    {
      "cell_type": "markdown",
      "source": [
        "## Top Score by Category (via Mean)\n",
        "\n",
        "Let's see what our averages scores are for the top 25 Meme Categories in our dataset."
      ],
      "metadata": {
        "id": "gkdD3-u-O5m4"
      }
    },
    {
      "cell_type": "code",
      "source": [
        "print(\"Average Mean score by base memes, top 25 only: \")\n",
        "#we group, find the mean and then sort our results\n",
        "#we use slice to only show the top 25\n",
        "top_by_category_mean = pd.DataFrame(meme_data.groupby(\"Base Meme Name\").mean()[\"Score\"].sort_values(ascending=False)[0:25])\n",
        "top_by_category_mean"
      ],
      "metadata": {
        "id": "qLqdB5CMPjCT"
      },
      "execution_count": null,
      "outputs": []
    },
    {
      "cell_type": "markdown",
      "source": [
        "## Top Score by Category (via Mediaan)\n",
        "\n",
        "We saw before that if we used **median** instead of **mean** we got different results. See if you can modify the code in the next cell to have it calculate median instead of mean. "
      ],
      "metadata": {
        "id": "ISS0UWQajGFa"
      }
    },
    {
      "cell_type": "code",
      "source": [
        "print(\"Average Median score by base memes, top 25 only: \")\n",
        "#we group, find the mean and then sort our results\n",
        "#we use slice to only show the top 25\n",
        "top_by_category_median = pd.DataFrame(meme_data.groupby(\"Base Meme Name\").()[\"Score\"].sort_values(ascending=False)[0:25])\n",
        "top_by_category_median"
      ],
      "metadata": {
        "id": "bpWtjk1wjdkC"
      },
      "execution_count": null,
      "outputs": []
    },
    {
      "cell_type": "markdown",
      "source": [
        "## Displaying Highest Scoring Meme by Meme Catgory\n",
        "\n",
        "Run the cell below and dd the name of a _Base Meme Name_ in the box below to see the highest scoring meme in that category. Click the **Show** button to retrieve the top meme. You can copy/paste from the list above. If you type in a value that it doesn't find it will cause an error message, that' ok, just try it again with a different category."
      ],
      "metadata": {
        "id": "5DCMw8ta_50t"
      }
    },
    {
      "cell_type": "code",
      "source": [
        "#Run this cell to load the previewer\n",
        "def show_top_by_category(category_choice):\n",
        "  top_cat_score = pd.DataFrame(meme_data[meme_data[\"Base Meme Name\"] == category_choice])\n",
        "  top_cat_score = top_cat_score.sort_values(by=\"Score\",ascending=False).head(1)\n",
        "  display(Image(url=top_cat_score['Archived URL'].values[0], format='jpg'))\n",
        "  display(top_cat_score)\n",
        " \n",
        "category_textbox = widgets.Text(\n",
        "    value = 'Sudden Clarity Clarence',\n",
        "    description = 'Category'\n",
        "\n",
        ")\n",
        "print(\"Copy/Paste a Meme Category from above to see the top scoring meme in that Category.\")\n",
        "show_top_cat_control = interact_manual.options(manual_name=\"Show\")\n",
        "show_top_cat_control(show_top_by_category,category_choice=category_textbox);"
      ],
      "metadata": {
        "id": "c85Eu4flBTNU"
      },
      "execution_count": null,
      "outputs": []
    },
    {
      "cell_type": "markdown",
      "source": [
        "## Question 10\n",
        "\n",
        "Trying experimenting with different meme categories and share any interesting results in the chat box."
      ],
      "metadata": {
        "id": "gEj1wH71PdNo"
      }
    },
    {
      "cell_type": "markdown",
      "source": [
        "\n",
        "\n",
        "---\n",
        "\n",
        "\n",
        "\n",
        "## Highest Scoring Meme in the dataset!\n",
        "\n",
        "\n",
        "Now that we've explored some different dimensions of the data let's take a look at the hightest scoring meme in the whole data set. Run the final code cell below to find out what it is."
      ],
      "metadata": {
        "id": "irr39pmDQyIe"
      }
    },
    {
      "cell_type": "code",
      "source": [
        "display(Image(url=meme_data[meme_data['Score'] == meme_data['Score'].max()]['Archived URL'].values[0], format='jpg'))\n",
        "meme_data[meme_data['Score'] == meme_data['Score'].max()]"
      ],
      "metadata": {
        "id": "1JictNgsQBnX"
      },
      "execution_count": null,
      "outputs": []
    },
    {
      "cell_type": "markdown",
      "source": [
        "\n",
        "# Congratulations\n",
        "\n",
        "You've now had a tour of the Memegenerator dataset! This notebook showed us how to load the original dataset, augment it with additional information, and run some interesting analysis. With luck it has given you some ideas on how you can use web archives & the Python programming language to conduct some interesting research.\n",
        "\n",
        "We're happy to answer questions in the chat box or please send us a message at: **dsl @ brocku.ca**"
      ],
      "metadata": {
        "id": "EcWm-GOCaE9Q"
      }
    }
  ]
}