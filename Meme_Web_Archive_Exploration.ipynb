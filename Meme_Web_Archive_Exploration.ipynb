{
  "nbformat": 4,
  "nbformat_minor": 0,
  "metadata": {
    "colab": {
      "name": "Meme Web Archive Exploration",
      "provenance": [],
      "collapsed_sections": [],
      "include_colab_link": true
    },
    "kernelspec": {
      "name": "python3",
      "display_name": "Python 3"
    },
    "language_info": {
      "name": "python"
    },
    "widgets": {
      "application/vnd.jupyter.widget-state+json": {
        "9b833ca642e344748897f394dabd42d2": {
          "model_module": "@jupyter-widgets/controls",
          "model_name": "VBoxModel",
          "model_module_version": "1.5.0",
          "state": {
            "_view_name": "VBoxView",
            "_dom_classes": [
              "widget-interact"
            ],
            "_model_name": "VBoxModel",
            "_view_module": "@jupyter-widgets/controls",
            "_model_module_version": "1.5.0",
            "_view_count": null,
            "_view_module_version": "1.5.0",
            "box_style": "",
            "layout": "IPY_MODEL_d4b0ebc608bd44ecb46e69eb5b340974",
            "_model_module": "@jupyter-widgets/controls",
            "children": [
              "IPY_MODEL_4580406ef8a74a52b378d6f5fb9dab50",
              "IPY_MODEL_1a50892a17a845c0a848db9e1c004baf",
              "IPY_MODEL_05925c350a0e43228dac3e7613df8eee"
            ]
          }
        },
        "d4b0ebc608bd44ecb46e69eb5b340974": {
          "model_module": "@jupyter-widgets/base",
          "model_name": "LayoutModel",
          "model_module_version": "1.2.0",
          "state": {
            "_view_name": "LayoutView",
            "grid_template_rows": null,
            "right": null,
            "justify_content": null,
            "_view_module": "@jupyter-widgets/base",
            "overflow": null,
            "_model_module_version": "1.2.0",
            "_view_count": null,
            "flex_flow": null,
            "width": null,
            "min_width": null,
            "border": null,
            "align_items": null,
            "bottom": null,
            "_model_module": "@jupyter-widgets/base",
            "top": null,
            "grid_column": null,
            "overflow_y": null,
            "overflow_x": null,
            "grid_auto_flow": null,
            "grid_area": null,
            "grid_template_columns": null,
            "flex": null,
            "_model_name": "LayoutModel",
            "justify_items": null,
            "grid_row": null,
            "max_height": null,
            "align_content": null,
            "visibility": null,
            "align_self": null,
            "height": null,
            "min_height": null,
            "padding": null,
            "grid_auto_rows": null,
            "grid_gap": null,
            "max_width": null,
            "order": null,
            "_view_module_version": "1.2.0",
            "grid_template_areas": null,
            "object_position": null,
            "object_fit": null,
            "grid_auto_columns": null,
            "margin": null,
            "display": null,
            "left": null
          }
        },
        "4580406ef8a74a52b378d6f5fb9dab50": {
          "model_module": "@jupyter-widgets/controls",
          "model_name": "TextModel",
          "model_module_version": "1.5.0",
          "state": {
            "_view_name": "TextView",
            "style": "IPY_MODEL_e193898f987d4dd3b22585dc07b40b7d",
            "_dom_classes": [],
            "description": "Category",
            "_model_name": "TextModel",
            "placeholder": "​",
            "_view_module": "@jupyter-widgets/controls",
            "_model_module_version": "1.5.0",
            "value": "success baby",
            "_view_count": null,
            "disabled": false,
            "_view_module_version": "1.5.0",
            "continuous_update": true,
            "description_tooltip": null,
            "_model_module": "@jupyter-widgets/controls",
            "layout": "IPY_MODEL_be6dc2391ca34c6dbf66bbe32d406767"
          }
        },
        "1a50892a17a845c0a848db9e1c004baf": {
          "model_module": "@jupyter-widgets/controls",
          "model_name": "ButtonModel",
          "model_module_version": "1.5.0",
          "state": {
            "_view_name": "ButtonView",
            "style": "IPY_MODEL_ed147d819a7947f79bf0aa828e62c1b4",
            "_dom_classes": [],
            "description": "Show Random",
            "_model_name": "ButtonModel",
            "button_style": "",
            "_view_module": "@jupyter-widgets/controls",
            "_model_module_version": "1.5.0",
            "tooltip": "",
            "_view_count": null,
            "disabled": false,
            "_view_module_version": "1.5.0",
            "layout": "IPY_MODEL_648c794b9ed4477491409baef2a606ab",
            "_model_module": "@jupyter-widgets/controls",
            "icon": ""
          }
        },
        "05925c350a0e43228dac3e7613df8eee": {
          "model_module": "@jupyter-widgets/output",
          "model_name": "OutputModel",
          "model_module_version": "1.0.0",
          "state": {
            "_view_name": "OutputView",
            "msg_id": "",
            "_dom_classes": [],
            "_model_name": "OutputModel",
            "outputs": [],
            "_view_module": "@jupyter-widgets/output",
            "_model_module_version": "1.0.0",
            "_view_count": null,
            "_view_module_version": "1.0.0",
            "layout": "IPY_MODEL_0d7ceed18fc04761be9c99869dc73e38",
            "_model_module": "@jupyter-widgets/output"
          }
        },
        "e193898f987d4dd3b22585dc07b40b7d": {
          "model_module": "@jupyter-widgets/controls",
          "model_name": "DescriptionStyleModel",
          "model_module_version": "1.5.0",
          "state": {
            "_view_name": "StyleView",
            "_model_name": "DescriptionStyleModel",
            "description_width": "",
            "_view_module": "@jupyter-widgets/base",
            "_model_module_version": "1.5.0",
            "_view_count": null,
            "_view_module_version": "1.2.0",
            "_model_module": "@jupyter-widgets/controls"
          }
        },
        "be6dc2391ca34c6dbf66bbe32d406767": {
          "model_module": "@jupyter-widgets/base",
          "model_name": "LayoutModel",
          "model_module_version": "1.2.0",
          "state": {
            "_view_name": "LayoutView",
            "grid_template_rows": null,
            "right": null,
            "justify_content": null,
            "_view_module": "@jupyter-widgets/base",
            "overflow": null,
            "_model_module_version": "1.2.0",
            "_view_count": null,
            "flex_flow": null,
            "width": null,
            "min_width": null,
            "border": null,
            "align_items": null,
            "bottom": null,
            "_model_module": "@jupyter-widgets/base",
            "top": null,
            "grid_column": null,
            "overflow_y": null,
            "overflow_x": null,
            "grid_auto_flow": null,
            "grid_area": null,
            "grid_template_columns": null,
            "flex": null,
            "_model_name": "LayoutModel",
            "justify_items": null,
            "grid_row": null,
            "max_height": null,
            "align_content": null,
            "visibility": null,
            "align_self": null,
            "height": null,
            "min_height": null,
            "padding": null,
            "grid_auto_rows": null,
            "grid_gap": null,
            "max_width": null,
            "order": null,
            "_view_module_version": "1.2.0",
            "grid_template_areas": null,
            "object_position": null,
            "object_fit": null,
            "grid_auto_columns": null,
            "margin": null,
            "display": null,
            "left": null
          }
        },
        "ed147d819a7947f79bf0aa828e62c1b4": {
          "model_module": "@jupyter-widgets/controls",
          "model_name": "ButtonStyleModel",
          "model_module_version": "1.5.0",
          "state": {
            "_view_name": "StyleView",
            "_model_name": "ButtonStyleModel",
            "_view_module": "@jupyter-widgets/base",
            "_model_module_version": "1.5.0",
            "_view_count": null,
            "button_color": null,
            "font_weight": "",
            "_view_module_version": "1.2.0",
            "_model_module": "@jupyter-widgets/controls"
          }
        },
        "648c794b9ed4477491409baef2a606ab": {
          "model_module": "@jupyter-widgets/base",
          "model_name": "LayoutModel",
          "model_module_version": "1.2.0",
          "state": {
            "_view_name": "LayoutView",
            "grid_template_rows": null,
            "right": null,
            "justify_content": null,
            "_view_module": "@jupyter-widgets/base",
            "overflow": null,
            "_model_module_version": "1.2.0",
            "_view_count": null,
            "flex_flow": null,
            "width": null,
            "min_width": null,
            "border": null,
            "align_items": null,
            "bottom": null,
            "_model_module": "@jupyter-widgets/base",
            "top": null,
            "grid_column": null,
            "overflow_y": null,
            "overflow_x": null,
            "grid_auto_flow": null,
            "grid_area": null,
            "grid_template_columns": null,
            "flex": null,
            "_model_name": "LayoutModel",
            "justify_items": null,
            "grid_row": null,
            "max_height": null,
            "align_content": null,
            "visibility": null,
            "align_self": null,
            "height": null,
            "min_height": null,
            "padding": null,
            "grid_auto_rows": null,
            "grid_gap": null,
            "max_width": null,
            "order": null,
            "_view_module_version": "1.2.0",
            "grid_template_areas": null,
            "object_position": null,
            "object_fit": null,
            "grid_auto_columns": null,
            "margin": null,
            "display": null,
            "left": null
          }
        },
        "0d7ceed18fc04761be9c99869dc73e38": {
          "model_module": "@jupyter-widgets/base",
          "model_name": "LayoutModel",
          "model_module_version": "1.2.0",
          "state": {
            "_view_name": "LayoutView",
            "grid_template_rows": null,
            "right": null,
            "justify_content": null,
            "_view_module": "@jupyter-widgets/base",
            "overflow": null,
            "_model_module_version": "1.2.0",
            "_view_count": null,
            "flex_flow": null,
            "width": null,
            "min_width": null,
            "border": null,
            "align_items": null,
            "bottom": null,
            "_model_module": "@jupyter-widgets/base",
            "top": null,
            "grid_column": null,
            "overflow_y": null,
            "overflow_x": null,
            "grid_auto_flow": null,
            "grid_area": null,
            "grid_template_columns": null,
            "flex": null,
            "_model_name": "LayoutModel",
            "justify_items": null,
            "grid_row": null,
            "max_height": null,
            "align_content": null,
            "visibility": null,
            "align_self": null,
            "height": null,
            "min_height": null,
            "padding": null,
            "grid_auto_rows": null,
            "grid_gap": null,
            "max_width": null,
            "order": null,
            "_view_module_version": "1.2.0",
            "grid_template_areas": null,
            "object_position": null,
            "object_fit": null,
            "grid_auto_columns": null,
            "margin": null,
            "display": null,
            "left": null
          }
        }
      }
    }
  },
  "cells": [
    {
      "cell_type": "markdown",
      "metadata": {
        "id": "view-in-github",
        "colab_type": "text"
      },
      "source": [
        "<a href=\"https://colab.research.google.com/github/BrockDSL/Analyzing_Web_Archives/blob/main/Meme_Web_Archive_Exploration.ipynb\" target=\"_parent\"><img src=\"https://colab.research.google.com/assets/colab-badge.svg\" alt=\"Open In Colab\"/></a>"
      ]
    },
    {
      "cell_type": "markdown",
      "source": [
        "![dsl_logo.png](https://raw.githubusercontent.com/BrockDSL/Analyzing_Web_Archives/main/dsl_logo.png)\n",
        "\n",
        "# Analyzing Web Archives\n",
        "\n",
        "Welcome to the Digital Scholarship Lab Level Analyzing Web Archives workshop. The following notebook provides an investigation into the [Meme Generator dataset](https://www.loc.gov/item/2018655320/)\n",
        "\n",
        "\n",
        "## How this notebook works\n",
        "\n",
        "This webpage is a Google Colab notebook and is comprised of different *cells*. Some are code cells that run Python snippets. To works through these cells simply click on the triangle _run_ button in each cell. Click in the cell below to see the play button, then click on it."
      ],
      "metadata": {
        "id": "7MDVEzH37J1m"
      }
    },
    {
      "cell_type": "code",
      "execution_count": 2,
      "metadata": {
        "colab": {
          "base_uri": "https://localhost:8080/"
        },
        "id": "zUSj3buK7GgK",
        "outputId": "64a1cc2c-b311-44cc-818f-6b6fca582f69"
      },
      "outputs": [
        {
          "output_type": "stream",
          "name": "stdout",
          "text": [
            "Collecting langdetect\n",
            "  Downloading langdetect-1.0.9.tar.gz (981 kB)\n",
            "\u001b[?25l\r\u001b[K     |▍                               | 10 kB 24.3 MB/s eta 0:00:01\r\u001b[K     |▊                               | 20 kB 29.5 MB/s eta 0:00:01\r\u001b[K     |█                               | 30 kB 33.1 MB/s eta 0:00:01\r\u001b[K     |█▍                              | 40 kB 35.2 MB/s eta 0:00:01\r\u001b[K     |█▊                              | 51 kB 37.1 MB/s eta 0:00:01\r\u001b[K     |██                              | 61 kB 25.9 MB/s eta 0:00:01\r\u001b[K     |██▍                             | 71 kB 22.9 MB/s eta 0:00:01\r\u001b[K     |██▊                             | 81 kB 23.9 MB/s eta 0:00:01\r\u001b[K     |███                             | 92 kB 25.7 MB/s eta 0:00:01\r\u001b[K     |███▍                            | 102 kB 25.3 MB/s eta 0:00:01\r\u001b[K     |███▊                            | 112 kB 25.3 MB/s eta 0:00:01\r\u001b[K     |████                            | 122 kB 25.3 MB/s eta 0:00:01\r\u001b[K     |████▍                           | 133 kB 25.3 MB/s eta 0:00:01\r\u001b[K     |████▊                           | 143 kB 25.3 MB/s eta 0:00:01\r\u001b[K     |█████                           | 153 kB 25.3 MB/s eta 0:00:01\r\u001b[K     |█████▍                          | 163 kB 25.3 MB/s eta 0:00:01\r\u001b[K     |█████▊                          | 174 kB 25.3 MB/s eta 0:00:01\r\u001b[K     |██████                          | 184 kB 25.3 MB/s eta 0:00:01\r\u001b[K     |██████▍                         | 194 kB 25.3 MB/s eta 0:00:01\r\u001b[K     |██████▊                         | 204 kB 25.3 MB/s eta 0:00:01\r\u001b[K     |███████                         | 215 kB 25.3 MB/s eta 0:00:01\r\u001b[K     |███████▍                        | 225 kB 25.3 MB/s eta 0:00:01\r\u001b[K     |███████▊                        | 235 kB 25.3 MB/s eta 0:00:01\r\u001b[K     |████████                        | 245 kB 25.3 MB/s eta 0:00:01\r\u001b[K     |████████▍                       | 256 kB 25.3 MB/s eta 0:00:01\r\u001b[K     |████████▊                       | 266 kB 25.3 MB/s eta 0:00:01\r\u001b[K     |█████████                       | 276 kB 25.3 MB/s eta 0:00:01\r\u001b[K     |█████████▍                      | 286 kB 25.3 MB/s eta 0:00:01\r\u001b[K     |█████████▊                      | 296 kB 25.3 MB/s eta 0:00:01\r\u001b[K     |██████████                      | 307 kB 25.3 MB/s eta 0:00:01\r\u001b[K     |██████████▍                     | 317 kB 25.3 MB/s eta 0:00:01\r\u001b[K     |██████████▊                     | 327 kB 25.3 MB/s eta 0:00:01\r\u001b[K     |███████████                     | 337 kB 25.3 MB/s eta 0:00:01\r\u001b[K     |███████████▍                    | 348 kB 25.3 MB/s eta 0:00:01\r\u001b[K     |███████████▊                    | 358 kB 25.3 MB/s eta 0:00:01\r\u001b[K     |████████████                    | 368 kB 25.3 MB/s eta 0:00:01\r\u001b[K     |████████████▍                   | 378 kB 25.3 MB/s eta 0:00:01\r\u001b[K     |████████████▊                   | 389 kB 25.3 MB/s eta 0:00:01\r\u001b[K     |█████████████                   | 399 kB 25.3 MB/s eta 0:00:01\r\u001b[K     |█████████████▍                  | 409 kB 25.3 MB/s eta 0:00:01\r\u001b[K     |█████████████▊                  | 419 kB 25.3 MB/s eta 0:00:01\r\u001b[K     |██████████████                  | 430 kB 25.3 MB/s eta 0:00:01\r\u001b[K     |██████████████▍                 | 440 kB 25.3 MB/s eta 0:00:01\r\u001b[K     |██████████████▊                 | 450 kB 25.3 MB/s eta 0:00:01\r\u001b[K     |███████████████                 | 460 kB 25.3 MB/s eta 0:00:01\r\u001b[K     |███████████████▍                | 471 kB 25.3 MB/s eta 0:00:01\r\u001b[K     |███████████████▊                | 481 kB 25.3 MB/s eta 0:00:01\r\u001b[K     |████████████████                | 491 kB 25.3 MB/s eta 0:00:01\r\u001b[K     |████████████████▍               | 501 kB 25.3 MB/s eta 0:00:01\r\u001b[K     |████████████████▊               | 512 kB 25.3 MB/s eta 0:00:01\r\u001b[K     |█████████████████               | 522 kB 25.3 MB/s eta 0:00:01\r\u001b[K     |█████████████████▍              | 532 kB 25.3 MB/s eta 0:00:01\r\u001b[K     |█████████████████▊              | 542 kB 25.3 MB/s eta 0:00:01\r\u001b[K     |██████████████████              | 552 kB 25.3 MB/s eta 0:00:01\r\u001b[K     |██████████████████▍             | 563 kB 25.3 MB/s eta 0:00:01\r\u001b[K     |██████████████████▊             | 573 kB 25.3 MB/s eta 0:00:01\r\u001b[K     |███████████████████             | 583 kB 25.3 MB/s eta 0:00:01\r\u001b[K     |███████████████████▍            | 593 kB 25.3 MB/s eta 0:00:01\r\u001b[K     |███████████████████▊            | 604 kB 25.3 MB/s eta 0:00:01\r\u001b[K     |████████████████████            | 614 kB 25.3 MB/s eta 0:00:01\r\u001b[K     |████████████████████▍           | 624 kB 25.3 MB/s eta 0:00:01\r\u001b[K     |████████████████████▊           | 634 kB 25.3 MB/s eta 0:00:01\r\u001b[K     |█████████████████████           | 645 kB 25.3 MB/s eta 0:00:01\r\u001b[K     |█████████████████████▍          | 655 kB 25.3 MB/s eta 0:00:01\r\u001b[K     |█████████████████████▊          | 665 kB 25.3 MB/s eta 0:00:01\r\u001b[K     |██████████████████████          | 675 kB 25.3 MB/s eta 0:00:01\r\u001b[K     |██████████████████████▍         | 686 kB 25.3 MB/s eta 0:00:01\r\u001b[K     |██████████████████████▊         | 696 kB 25.3 MB/s eta 0:00:01\r\u001b[K     |███████████████████████         | 706 kB 25.3 MB/s eta 0:00:01\r\u001b[K     |███████████████████████▍        | 716 kB 25.3 MB/s eta 0:00:01\r\u001b[K     |███████████████████████▊        | 727 kB 25.3 MB/s eta 0:00:01\r\u001b[K     |████████████████████████        | 737 kB 25.3 MB/s eta 0:00:01\r\u001b[K     |████████████████████████▍       | 747 kB 25.3 MB/s eta 0:00:01\r\u001b[K     |████████████████████████▊       | 757 kB 25.3 MB/s eta 0:00:01\r\u001b[K     |█████████████████████████       | 768 kB 25.3 MB/s eta 0:00:01\r\u001b[K     |█████████████████████████▍      | 778 kB 25.3 MB/s eta 0:00:01\r\u001b[K     |█████████████████████████▊      | 788 kB 25.3 MB/s eta 0:00:01\r\u001b[K     |██████████████████████████      | 798 kB 25.3 MB/s eta 0:00:01\r\u001b[K     |██████████████████████████▍     | 808 kB 25.3 MB/s eta 0:00:01\r\u001b[K     |██████████████████████████▊     | 819 kB 25.3 MB/s eta 0:00:01\r\u001b[K     |███████████████████████████     | 829 kB 25.3 MB/s eta 0:00:01\r\u001b[K     |███████████████████████████▍    | 839 kB 25.3 MB/s eta 0:00:01\r\u001b[K     |███████████████████████████▊    | 849 kB 25.3 MB/s eta 0:00:01\r\u001b[K     |████████████████████████████    | 860 kB 25.3 MB/s eta 0:00:01\r\u001b[K     |████████████████████████████▍   | 870 kB 25.3 MB/s eta 0:00:01\r\u001b[K     |████████████████████████████▊   | 880 kB 25.3 MB/s eta 0:00:01\r\u001b[K     |█████████████████████████████   | 890 kB 25.3 MB/s eta 0:00:01\r\u001b[K     |█████████████████████████████▍  | 901 kB 25.3 MB/s eta 0:00:01\r\u001b[K     |█████████████████████████████▊  | 911 kB 25.3 MB/s eta 0:00:01\r\u001b[K     |██████████████████████████████  | 921 kB 25.3 MB/s eta 0:00:01\r\u001b[K     |██████████████████████████████▍ | 931 kB 25.3 MB/s eta 0:00:01\r\u001b[K     |██████████████████████████████▊ | 942 kB 25.3 MB/s eta 0:00:01\r\u001b[K     |███████████████████████████████ | 952 kB 25.3 MB/s eta 0:00:01\r\u001b[K     |███████████████████████████████▍| 962 kB 25.3 MB/s eta 0:00:01\r\u001b[K     |███████████████████████████████▊| 972 kB 25.3 MB/s eta 0:00:01\r\u001b[K     |████████████████████████████████| 981 kB 25.3 MB/s \n",
            "\u001b[?25hRequirement already satisfied: six in /usr/local/lib/python3.7/dist-packages (from langdetect) (1.15.0)\n",
            "Building wheels for collected packages: langdetect\n",
            "  Building wheel for langdetect (setup.py) ... \u001b[?25l\u001b[?25hdone\n",
            "  Created wheel for langdetect: filename=langdetect-1.0.9-py3-none-any.whl size=993242 sha256=81796d04af2225ac5bcdf2f1b3d497c264a1a3c7b1414f0de85b32bfd672b32f\n",
            "  Stored in directory: /root/.cache/pip/wheels/c5/96/8a/f90c59ed25d75e50a8c10a1b1c2d4c402e4dacfa87f3aff36a\n",
            "Successfully built langdetect\n",
            "Installing collected packages: langdetect\n",
            "Successfully installed langdetect-1.0.9\n",
            "Requirement already satisfied: pandas in /usr/local/lib/python3.7/dist-packages (1.1.5)\n",
            "Requirement already satisfied: numpy>=1.15.4 in /usr/local/lib/python3.7/dist-packages (from pandas) (1.19.5)\n",
            "Requirement already satisfied: python-dateutil>=2.7.3 in /usr/local/lib/python3.7/dist-packages (from pandas) (2.8.2)\n",
            "Requirement already satisfied: pytz>=2017.2 in /usr/local/lib/python3.7/dist-packages (from pandas) (2018.9)\n",
            "Requirement already satisfied: six>=1.5 in /usr/local/lib/python3.7/dist-packages (from python-dateutil>=2.7.3->pandas) (1.15.0)\n",
            "Libraries loaded, and ready to run!\n"
          ]
        }
      ],
      "source": [
        "!pip install langdetect\n",
        "!pip install pandas\n",
        "\n",
        "import pandas as pd\n",
        "import matplotlib.pyplot as plt\n",
        "from IPython.display import Image,display,IFrame\n",
        "from ipywidgets import widgets,interact,interact_manual\n",
        "from langdetect import detect\n",
        "import matplotlib.pyplot as plt\n",
        "\n",
        "%matplotlib inline\n",
        "print(\"\\nLibraries loaded, and ready to run!\")"
      ]
    },
    {
      "cell_type": "markdown",
      "source": [
        "# Loading our data set\n",
        "\n",
        "The information from this archive is saved in a _CSV_ file. Or put in otherwords, something like a spreadsheet. In the next cell we will load this file into something call a dataframe and we'll look at the first 5 entries by looking at the **head**."
      ],
      "metadata": {
        "id": "KSZ93LCjA8NB"
      }
    },
    {
      "cell_type": "code",
      "source": [
        "meme_data = pd.read_csv(\"https://raw.githubusercontent.com/BrockDSL/Analyzing_Web_Archives/main/memegenerator.csv\", sep=\",\")\n",
        "meme_data[\"Meme ID\"] = meme_data[\"Meme ID\"].astype(str)\n",
        "\n",
        "meme_data.head(5)"
      ],
      "metadata": {
        "id": "pD7R7tpLBXok",
        "colab": {
          "base_uri": "https://localhost:8080/",
          "height": 670
        },
        "outputId": "67fd66bd-c316-4264-b7fc-481021c5ceb2"
      },
      "execution_count": 3,
      "outputs": [
        {
          "output_type": "execute_result",
          "data": {
            "text/html": [
              "\n",
              "  <div id=\"df-f4cd435d-4064-4c99-979f-8fe020b0d135\">\n",
              "    <div class=\"colab-df-container\">\n",
              "      <div>\n",
              "<style scoped>\n",
              "    .dataframe tbody tr th:only-of-type {\n",
              "        vertical-align: middle;\n",
              "    }\n",
              "\n",
              "    .dataframe tbody tr th {\n",
              "        vertical-align: top;\n",
              "    }\n",
              "\n",
              "    .dataframe thead th {\n",
              "        text-align: right;\n",
              "    }\n",
              "</style>\n",
              "<table border=\"1\" class=\"dataframe\">\n",
              "  <thead>\n",
              "    <tr style=\"text-align: right;\">\n",
              "      <th></th>\n",
              "      <th>Meme ID</th>\n",
              "      <th>Archived URL</th>\n",
              "      <th>Base Meme Name</th>\n",
              "      <th>Meme Page URL</th>\n",
              "      <th>MD5 Hash</th>\n",
              "      <th>File Size (In Bytes)</th>\n",
              "      <th>Alternate Text</th>\n",
              "      <th>Display Name</th>\n",
              "      <th>Upper Text</th>\n",
              "      <th>Lower Text</th>\n",
              "    </tr>\n",
              "  </thead>\n",
              "  <tbody>\n",
              "    <tr>\n",
              "      <th>0</th>\n",
              "      <td>10509464</td>\n",
              "      <td>http://webarchive.loc.gov/all/0/http://cdn.mem...</td>\n",
              "      <td>Spiderman Approves</td>\n",
              "      <td>http://memegenerator.net/instance/10509464</td>\n",
              "      <td>91eee1453f2b66b4b0d662476bf630d8</td>\n",
              "      <td>87868</td>\n",
              "      <td>seems legit</td>\n",
              "      <td>Spiderman Approves</td>\n",
              "      <td>seems</td>\n",
              "      <td>legit</td>\n",
              "    </tr>\n",
              "    <tr>\n",
              "      <th>1</th>\n",
              "      <td>12285257</td>\n",
              "      <td>http://webarchive.loc.gov/all/0/http://cdn.mem...</td>\n",
              "      <td>Alright Then Business Kid</td>\n",
              "      <td>http://memegenerator.net/instance/12285257</td>\n",
              "      <td>96a3aa60c0f3a5ffb027e8977f23b2cc</td>\n",
              "      <td>110242</td>\n",
              "      <td>Fret not I stayed at a Holiday Inn Express las...</td>\n",
              "      <td>Alright Then Business Kid</td>\n",
              "      <td>Fret not</td>\n",
              "      <td>I stayed at a Holiday Inn Express last night</td>\n",
              "    </tr>\n",
              "    <tr>\n",
              "      <th>2</th>\n",
              "      <td>20612245</td>\n",
              "      <td>http://webarchive.loc.gov/all/0/https://cdn.me...</td>\n",
              "      <td>Archer</td>\n",
              "      <td>http://memegenerator.net/instance/20612245</td>\n",
              "      <td>1b84704851704a2dc366768a2210d659</td>\n",
              "      <td>125963</td>\n",
              "      <td>hello airplanes? yeah, this is blimps. Yeah, y...</td>\n",
              "      <td>Archer</td>\n",
              "      <td>hello airplanes? yeah, this is blimps.</td>\n",
              "      <td>Yeah, you win.</td>\n",
              "    </tr>\n",
              "    <tr>\n",
              "      <th>3</th>\n",
              "      <td>20614628</td>\n",
              "      <td>http://webarchive.loc.gov/all/0/http://cdn.mem...</td>\n",
              "      <td>Futurama Fry</td>\n",
              "      <td>http://memegenerator.net/instance/20614628</td>\n",
              "      <td>448f5d4a15f5c90ce4d64c75013c8e9a</td>\n",
              "      <td>161623</td>\n",
              "      <td>LEGS IN COVER. TOO HOT. LEGS OUT OF COVER. TOO...</td>\n",
              "      <td>Futurama Fry</td>\n",
              "      <td>LEGS IN COVER. TOO HOT. LEGS OUT OF COVER. TOO...</td>\n",
              "      <td>BUt Scared monster under the bed will eat me</td>\n",
              "    </tr>\n",
              "    <tr>\n",
              "      <th>4</th>\n",
              "      <td>24194267</td>\n",
              "      <td>http://webarchive.loc.gov/all/0/https://cdn.me...</td>\n",
              "      <td>One Does Not Simply</td>\n",
              "      <td>http://memegenerator.net/instance/24194267</td>\n",
              "      <td>37feb180a0e7660e360ed94380b39f60</td>\n",
              "      <td>92866</td>\n",
              "      <td>one does not simply  put toothpaste back in th...</td>\n",
              "      <td>One Does Not Simply</td>\n",
              "      <td>one does not simply</td>\n",
              "      <td>put toothpaste back in the tube</td>\n",
              "    </tr>\n",
              "  </tbody>\n",
              "</table>\n",
              "</div>\n",
              "      <button class=\"colab-df-convert\" onclick=\"convertToInteractive('df-f4cd435d-4064-4c99-979f-8fe020b0d135')\"\n",
              "              title=\"Convert this dataframe to an interactive table.\"\n",
              "              style=\"display:none;\">\n",
              "        \n",
              "  <svg xmlns=\"http://www.w3.org/2000/svg\" height=\"24px\"viewBox=\"0 0 24 24\"\n",
              "       width=\"24px\">\n",
              "    <path d=\"M0 0h24v24H0V0z\" fill=\"none\"/>\n",
              "    <path d=\"M18.56 5.44l.94 2.06.94-2.06 2.06-.94-2.06-.94-.94-2.06-.94 2.06-2.06.94zm-11 1L8.5 8.5l.94-2.06 2.06-.94-2.06-.94L8.5 2.5l-.94 2.06-2.06.94zm10 10l.94 2.06.94-2.06 2.06-.94-2.06-.94-.94-2.06-.94 2.06-2.06.94z\"/><path d=\"M17.41 7.96l-1.37-1.37c-.4-.4-.92-.59-1.43-.59-.52 0-1.04.2-1.43.59L10.3 9.45l-7.72 7.72c-.78.78-.78 2.05 0 2.83L4 21.41c.39.39.9.59 1.41.59.51 0 1.02-.2 1.41-.59l7.78-7.78 2.81-2.81c.8-.78.8-2.07 0-2.86zM5.41 20L4 18.59l7.72-7.72 1.47 1.35L5.41 20z\"/>\n",
              "  </svg>\n",
              "      </button>\n",
              "      \n",
              "  <style>\n",
              "    .colab-df-container {\n",
              "      display:flex;\n",
              "      flex-wrap:wrap;\n",
              "      gap: 12px;\n",
              "    }\n",
              "\n",
              "    .colab-df-convert {\n",
              "      background-color: #E8F0FE;\n",
              "      border: none;\n",
              "      border-radius: 50%;\n",
              "      cursor: pointer;\n",
              "      display: none;\n",
              "      fill: #1967D2;\n",
              "      height: 32px;\n",
              "      padding: 0 0 0 0;\n",
              "      width: 32px;\n",
              "    }\n",
              "\n",
              "    .colab-df-convert:hover {\n",
              "      background-color: #E2EBFA;\n",
              "      box-shadow: 0px 1px 2px rgba(60, 64, 67, 0.3), 0px 1px 3px 1px rgba(60, 64, 67, 0.15);\n",
              "      fill: #174EA6;\n",
              "    }\n",
              "\n",
              "    [theme=dark] .colab-df-convert {\n",
              "      background-color: #3B4455;\n",
              "      fill: #D2E3FC;\n",
              "    }\n",
              "\n",
              "    [theme=dark] .colab-df-convert:hover {\n",
              "      background-color: #434B5C;\n",
              "      box-shadow: 0px 1px 3px 1px rgba(0, 0, 0, 0.15);\n",
              "      filter: drop-shadow(0px 1px 2px rgba(0, 0, 0, 0.3));\n",
              "      fill: #FFFFFF;\n",
              "    }\n",
              "  </style>\n",
              "\n",
              "      <script>\n",
              "        const buttonEl =\n",
              "          document.querySelector('#df-f4cd435d-4064-4c99-979f-8fe020b0d135 button.colab-df-convert');\n",
              "        buttonEl.style.display =\n",
              "          google.colab.kernel.accessAllowed ? 'block' : 'none';\n",
              "\n",
              "        async function convertToInteractive(key) {\n",
              "          const element = document.querySelector('#df-f4cd435d-4064-4c99-979f-8fe020b0d135');\n",
              "          const dataTable =\n",
              "            await google.colab.kernel.invokeFunction('convertToInteractive',\n",
              "                                                     [key], {});\n",
              "          if (!dataTable) return;\n",
              "\n",
              "          const docLinkHtml = 'Like what you see? Visit the ' +\n",
              "            '<a target=\"_blank\" href=https://colab.research.google.com/notebooks/data_table.ipynb>data table notebook</a>'\n",
              "            + ' to learn more about interactive tables.';\n",
              "          element.innerHTML = '';\n",
              "          dataTable['output_type'] = 'display_data';\n",
              "          await google.colab.output.renderOutput(dataTable, element);\n",
              "          const docLink = document.createElement('div');\n",
              "          docLink.innerHTML = docLinkHtml;\n",
              "          element.appendChild(docLink);\n",
              "        }\n",
              "      </script>\n",
              "    </div>\n",
              "  </div>\n",
              "  "
            ],
            "text/plain": [
              "    Meme ID  ...                                    Lower Text\n",
              "0  10509464  ...                                         legit\n",
              "1  12285257  ...  I stayed at a Holiday Inn Express last night\n",
              "2  20612245  ...                                Yeah, you win.\n",
              "3  20614628  ...  BUt Scared monster under the bed will eat me\n",
              "4  24194267  ...               put toothpaste back in the tube\n",
              "\n",
              "[5 rows x 10 columns]"
            ]
          },
          "metadata": {},
          "execution_count": 3
        }
      ]
    },
    {
      "cell_type": "markdown",
      "source": [
        "# Some General Data Exploration\n",
        "\n",
        "\n",
        "\n",
        "\n",
        "---\n",
        "\n"
      ],
      "metadata": {
        "id": "vfrbcPB3G0iS"
      }
    },
    {
      "cell_type": "markdown",
      "source": [
        "### How much data?\n",
        "\n",
        "We can count the **length** of our data frame to see how many entries we have using thing len() function.\n"
      ],
      "metadata": {
        "id": "BJMUZ14FGYdt"
      }
    },
    {
      "cell_type": "markdown",
      "source": [
        ""
      ],
      "metadata": {
        "id": "3zgObrRj-Rtf"
      }
    },
    {
      "cell_type": "code",
      "source": [
        "\n",
        "print(\"We have this many memes to look at: \",len(meme_data))\n"
      ],
      "metadata": {
        "id": "3OzCSdRnGjLT"
      },
      "execution_count": null,
      "outputs": []
    },
    {
      "cell_type": "markdown",
      "source": [
        "### Random Entry\n",
        "\n",
        "To get a better sense of what is in our dataset let's look at a random entry by using **sample** with a value of 1. Click the below button a few times to get a few different options."
      ],
      "metadata": {
        "id": "g9c1piJ1FPPC"
      }
    },
    {
      "cell_type": "code",
      "source": [
        "rando = meme_data.sample(1)\n",
        "display(Image(url=rando['Archived URL'].values[0], format='jpg'))\n",
        "print(\"View on Memegenerator: \\t\",rando['Meme Page URL'].values[0])\n",
        "print(\"View on Archive: \\t\\t\\t\",rando['Archived URL'].values[0])\n",
        "rando"
      ],
      "metadata": {
        "colab": {
          "base_uri": "https://localhost:8080/",
          "height": 593
        },
        "id": "tkAfcLogFYru",
        "outputId": "0cd947c7-7d31-4474-8926-d966591a8a6f"
      },
      "execution_count": 4,
      "outputs": [
        {
          "output_type": "display_data",
          "data": {
            "text/html": [
              "<img src=\"http://webarchive.loc.gov/all/0/http://cdn.meme.am/instances/250x250/22793371.jpg\"/>"
            ],
            "text/plain": [
              "<IPython.core.display.Image object>"
            ]
          },
          "metadata": {}
        },
        {
          "output_type": "stream",
          "name": "stdout",
          "text": [
            "View on Memegenerator: \t http://memegenerator.net/instance/22793371\n",
            "View on Archive: \t\t\t http://webarchive.loc.gov/all/0/http://cdn.meme.am/instances/250x250/22793371.jpg\n"
          ]
        },
        {
          "output_type": "execute_result",
          "data": {
            "text/html": [
              "\n",
              "  <div id=\"df-82eaa00b-5089-40da-a203-1f722ad27716\">\n",
              "    <div class=\"colab-df-container\">\n",
              "      <div>\n",
              "<style scoped>\n",
              "    .dataframe tbody tr th:only-of-type {\n",
              "        vertical-align: middle;\n",
              "    }\n",
              "\n",
              "    .dataframe tbody tr th {\n",
              "        vertical-align: top;\n",
              "    }\n",
              "\n",
              "    .dataframe thead th {\n",
              "        text-align: right;\n",
              "    }\n",
              "</style>\n",
              "<table border=\"1\" class=\"dataframe\">\n",
              "  <thead>\n",
              "    <tr style=\"text-align: right;\">\n",
              "      <th></th>\n",
              "      <th>Meme ID</th>\n",
              "      <th>Archived URL</th>\n",
              "      <th>Base Meme Name</th>\n",
              "      <th>Meme Page URL</th>\n",
              "      <th>MD5 Hash</th>\n",
              "      <th>File Size (In Bytes)</th>\n",
              "      <th>Alternate Text</th>\n",
              "      <th>Display Name</th>\n",
              "      <th>Upper Text</th>\n",
              "      <th>Lower Text</th>\n",
              "    </tr>\n",
              "  </thead>\n",
              "  <tbody>\n",
              "    <tr>\n",
              "      <th>35301</th>\n",
              "      <td>22793371</td>\n",
              "      <td>http://webarchive.loc.gov/all/0/http://cdn.mem...</td>\n",
              "      <td>ProYodaAdvice</td>\n",
              "      <td>http://memegenerator.net/instance/22793371</td>\n",
              "      <td>211a7a64545a51e857770399b4700c57</td>\n",
              "      <td>42530</td>\n",
              "      <td>под метроном не играешь? чувак,ты меня огорчаешь</td>\n",
              "      <td>ProYodaAdvice</td>\n",
              "      <td>под метроном не играешь?</td>\n",
              "      <td>чувак,ты меня огорчаешь</td>\n",
              "    </tr>\n",
              "  </tbody>\n",
              "</table>\n",
              "</div>\n",
              "      <button class=\"colab-df-convert\" onclick=\"convertToInteractive('df-82eaa00b-5089-40da-a203-1f722ad27716')\"\n",
              "              title=\"Convert this dataframe to an interactive table.\"\n",
              "              style=\"display:none;\">\n",
              "        \n",
              "  <svg xmlns=\"http://www.w3.org/2000/svg\" height=\"24px\"viewBox=\"0 0 24 24\"\n",
              "       width=\"24px\">\n",
              "    <path d=\"M0 0h24v24H0V0z\" fill=\"none\"/>\n",
              "    <path d=\"M18.56 5.44l.94 2.06.94-2.06 2.06-.94-2.06-.94-.94-2.06-.94 2.06-2.06.94zm-11 1L8.5 8.5l.94-2.06 2.06-.94-2.06-.94L8.5 2.5l-.94 2.06-2.06.94zm10 10l.94 2.06.94-2.06 2.06-.94-2.06-.94-.94-2.06-.94 2.06-2.06.94z\"/><path d=\"M17.41 7.96l-1.37-1.37c-.4-.4-.92-.59-1.43-.59-.52 0-1.04.2-1.43.59L10.3 9.45l-7.72 7.72c-.78.78-.78 2.05 0 2.83L4 21.41c.39.39.9.59 1.41.59.51 0 1.02-.2 1.41-.59l7.78-7.78 2.81-2.81c.8-.78.8-2.07 0-2.86zM5.41 20L4 18.59l7.72-7.72 1.47 1.35L5.41 20z\"/>\n",
              "  </svg>\n",
              "      </button>\n",
              "      \n",
              "  <style>\n",
              "    .colab-df-container {\n",
              "      display:flex;\n",
              "      flex-wrap:wrap;\n",
              "      gap: 12px;\n",
              "    }\n",
              "\n",
              "    .colab-df-convert {\n",
              "      background-color: #E8F0FE;\n",
              "      border: none;\n",
              "      border-radius: 50%;\n",
              "      cursor: pointer;\n",
              "      display: none;\n",
              "      fill: #1967D2;\n",
              "      height: 32px;\n",
              "      padding: 0 0 0 0;\n",
              "      width: 32px;\n",
              "    }\n",
              "\n",
              "    .colab-df-convert:hover {\n",
              "      background-color: #E2EBFA;\n",
              "      box-shadow: 0px 1px 2px rgba(60, 64, 67, 0.3), 0px 1px 3px 1px rgba(60, 64, 67, 0.15);\n",
              "      fill: #174EA6;\n",
              "    }\n",
              "\n",
              "    [theme=dark] .colab-df-convert {\n",
              "      background-color: #3B4455;\n",
              "      fill: #D2E3FC;\n",
              "    }\n",
              "\n",
              "    [theme=dark] .colab-df-convert:hover {\n",
              "      background-color: #434B5C;\n",
              "      box-shadow: 0px 1px 3px 1px rgba(0, 0, 0, 0.15);\n",
              "      filter: drop-shadow(0px 1px 2px rgba(0, 0, 0, 0.3));\n",
              "      fill: #FFFFFF;\n",
              "    }\n",
              "  </style>\n",
              "\n",
              "      <script>\n",
              "        const buttonEl =\n",
              "          document.querySelector('#df-82eaa00b-5089-40da-a203-1f722ad27716 button.colab-df-convert');\n",
              "        buttonEl.style.display =\n",
              "          google.colab.kernel.accessAllowed ? 'block' : 'none';\n",
              "\n",
              "        async function convertToInteractive(key) {\n",
              "          const element = document.querySelector('#df-82eaa00b-5089-40da-a203-1f722ad27716');\n",
              "          const dataTable =\n",
              "            await google.colab.kernel.invokeFunction('convertToInteractive',\n",
              "                                                     [key], {});\n",
              "          if (!dataTable) return;\n",
              "\n",
              "          const docLinkHtml = 'Like what you see? Visit the ' +\n",
              "            '<a target=\"_blank\" href=https://colab.research.google.com/notebooks/data_table.ipynb>data table notebook</a>'\n",
              "            + ' to learn more about interactive tables.';\n",
              "          element.innerHTML = '';\n",
              "          dataTable['output_type'] = 'display_data';\n",
              "          await google.colab.output.renderOutput(dataTable, element);\n",
              "          const docLink = document.createElement('div');\n",
              "          docLink.innerHTML = docLinkHtml;\n",
              "          element.appendChild(docLink);\n",
              "        }\n",
              "      </script>\n",
              "    </div>\n",
              "  </div>\n",
              "  "
            ],
            "text/plain": [
              "        Meme ID  ...               Lower Text\n",
              "35301  22793371  ...  чувак,ты меня огорчаешь\n",
              "\n",
              "[1 rows x 10 columns]"
            ]
          },
          "metadata": {},
          "execution_count": 4
        }
      ]
    },
    {
      "cell_type": "markdown",
      "source": [
        "**Q1** Have a look at the data that is associated with a random record. In the chat box suggest some things you might want to explore with this data? Share your reponse in the chat box."
      ],
      "metadata": {
        "id": "OA30QAkAfZ0w"
      }
    },
    {
      "cell_type": "markdown",
      "source": [
        ""
      ],
      "metadata": {
        "id": "m69mlazEgFo-"
      }
    },
    {
      "cell_type": "markdown",
      "source": [
        "# Category of memes?\n",
        "\n",
        "As you might know, memes come in many different flavours. Let's see if we can find out how many types there are? We'll do this by **grouping** our _Base Meme Name_ column and **counting** how many entries are in each."
      ],
      "metadata": {
        "id": "D3bk4rXDFBVZ"
      }
    },
    {
      "cell_type": "code",
      "source": [
        "meme_data.groupby([\"Base Meme Name\"]).count()"
      ],
      "metadata": {
        "id": "keJ_eKyaE_SR"
      },
      "execution_count": null,
      "outputs": []
    },
    {
      "cell_type": "markdown",
      "source": [
        "**Q2** Based on the above summary how many different type so memes we have? Share your response in the chat box."
      ],
      "metadata": {
        "id": "Jeh2fR1eHDlc"
      }
    },
    {
      "cell_type": "markdown",
      "source": [
        ""
      ],
      "metadata": {
        "id": "roCbVFJpgKjo"
      }
    },
    {
      "cell_type": "markdown",
      "source": [
        "Yikes! That looks like a lot. Let's just keep the top **25** entries. We'll do this by **sorting**."
      ],
      "metadata": {
        "id": "zubnxndqFuQ-"
      }
    },
    {
      "cell_type": "code",
      "source": [
        "\n",
        "meme_data.groupby([\"Base Meme Name\"]).count().sort_values(by=\"Meme ID\",ascending=False)[0:25]"
      ],
      "metadata": {
        "id": "tl9azoXCF35p"
      },
      "execution_count": null,
      "outputs": []
    },
    {
      "cell_type": "code",
      "source": [
        "#Random Entry Form\n",
        "\n",
        "def show_random(choice):\n",
        "  rando = meme_data[meme_data[\"Base Meme Name\"] == str(choice)].sample(1)\n",
        "  display(Image(url=rando['Archived URL'].values[0], format='jpg'))\n",
        "  print(\"View on Memegenerator: \\t\",rando['Meme Page URL'].values[0])\n",
        "  print(\"View on Archive: \\t\\t\\t\",rando['Archived URL'].values[0])\n",
        "\n",
        "\n",
        "title_textbox = widgets.Text(\n",
        "    value='success baby',\n",
        "    description='Category',\n",
        ")\n",
        "show_random_control = interact_manual.options(manual_name=\"Show Random\")\n",
        "show_random_control(show_random,choice=title_textbox);\n",
        "\n",
        "\n",
        "  \n",
        "\n",
        "\n"
      ],
      "metadata": {
        "colab": {
          "base_uri": "https://localhost:8080/",
          "height": 82,
          "referenced_widgets": [
            "9b833ca642e344748897f394dabd42d2",
            "d4b0ebc608bd44ecb46e69eb5b340974",
            "4580406ef8a74a52b378d6f5fb9dab50",
            "1a50892a17a845c0a848db9e1c004baf",
            "05925c350a0e43228dac3e7613df8eee",
            "e193898f987d4dd3b22585dc07b40b7d",
            "be6dc2391ca34c6dbf66bbe32d406767",
            "ed147d819a7947f79bf0aa828e62c1b4",
            "648c794b9ed4477491409baef2a606ab",
            "0d7ceed18fc04761be9c99869dc73e38"
          ]
        },
        "id": "VgEuYlY6bSqE",
        "outputId": "baa67663-09e9-43dd-ba84-108fbe796a93"
      },
      "execution_count": 5,
      "outputs": [
        {
          "output_type": "display_data",
          "data": {
            "application/vnd.jupyter.widget-view+json": {
              "model_id": "9b833ca642e344748897f394dabd42d2",
              "version_minor": 0,
              "version_major": 2
            },
            "text/plain": [
              "interactive(children=(Text(value='success baby', description='Category'), Button(description='Show Random', st…"
            ]
          },
          "metadata": {}
        }
      ]
    },
    {
      "cell_type": "markdown",
      "source": [
        "Let's know look at how the meme is displayed as a table"
      ],
      "metadata": {
        "id": "RHvToPQC19Yg"
      }
    },
    {
      "cell_type": "code",
      "source": [
        "rando\n"
      ],
      "metadata": {
        "id": "RM8MBxfJ1IxX"
      },
      "execution_count": null,
      "outputs": []
    },
    {
      "cell_type": "markdown",
      "source": [
        "What's the **average** number of memes in each type?\n",
        "\n"
      ],
      "metadata": {
        "id": "b_BrvuMfN8rd"
      }
    },
    {
      "cell_type": "code",
      "source": [
        "meme_type_average = meme_data.groupby([\"Base Meme Name\"])[\"Meme ID\"].count().mean()\n",
        "print(\"Average number of entries per meme category: \",meme_type_average)"
      ],
      "metadata": {
        "id": "x27KK6YLOGpd"
      },
      "execution_count": null,
      "outputs": []
    },
    {
      "cell_type": "markdown",
      "source": [
        "The average might be a little misleading. Let's also check what the median number is for each base meme. The code chunck below is incomplete. Can you resolve the error?"
      ],
      "metadata": {
        "id": "wTSbEZ7zC6SD"
      }
    },
    {
      "cell_type": "code",
      "source": [
        "meme_type_median = meme_data.groupby([\"Base Meme Name\"])[\"Meme ID\"].count().mean()\n",
        "print(\"The median number of entires per base meme is: \",meme_type_median)"
      ],
      "metadata": {
        "id": "6DKeHnnFC5dF"
      },
      "execution_count": null,
      "outputs": []
    },
    {
      "cell_type": "markdown",
      "source": [
        "As you can see, the difference between the mean and the median is significant. This is because there's a skewed distribution in our dataset. Do you have any guesses as to why this might be the case? Share your thoughts in the chat!\n",
        "\n",
        "Let's visualize this skewed distribution by drawing a **histogram**."
      ],
      "metadata": {
        "id": "o3YoM9_scv8I"
      }
    },
    {
      "cell_type": "code",
      "source": [
        "bins = 150\n",
        "\n",
        "plt.hist(meme_data.groupby([\"Base Meme Name\"]).count().sort_values(by=\"Meme ID\",ascending=False)[\"Meme ID\"],bins)\n",
        "\n",
        "plt.title(\"Category Frequency\")\n",
        "plt.xlabel(\"Number of Entries\")\n",
        "plt.ylabel(\"Number of Categories\")\n",
        "plt.show()"
      ],
      "metadata": {
        "id": "IJBzAe84d6y6"
      },
      "execution_count": null,
      "outputs": []
    },
    {
      "cell_type": "markdown",
      "source": [
        "**Q3** Can you describe this graph? What is the biggest value that it is showing?"
      ],
      "metadata": {
        "id": "booB-XZJfvib"
      }
    },
    {
      "cell_type": "markdown",
      "source": [
        ""
      ],
      "metadata": {
        "id": "avhUqg5LgMRT"
      }
    },
    {
      "cell_type": "markdown",
      "source": [
        "data things to do\n",
        "- alt text somehow?\n",
        "- language detection?\n",
        "- pull in scores via API?"
      ],
      "metadata": {
        "id": "3RL3YME9WOac"
      }
    },
    {
      "cell_type": "markdown",
      "source": [
        "## Language info\n",
        "\n",
        "As we've seen in our examples there are many different languages represented in our dataset. Let's see if we can **enrich** our dataset by automatically detecting what language it is and adding that as a new column. We'll us the [langdetect](https://pypi.org/project/langdetect/) library to do this. "
      ],
      "metadata": {
        "id": "XhH97IFLhdoB"
      }
    },
    {
      "cell_type": "code",
      "source": [
        "#Let's look at our random item again\n",
        "rando"
      ],
      "metadata": {
        "id": "ECsGpyPHknSl"
      },
      "execution_count": null,
      "outputs": []
    },
    {
      "cell_type": "code",
      "source": [
        "# Let's the language of the random entry from earlier\n",
        "# We'll get a two letter languge code that represents one of the languages in the list of ISO 639-1 codes (https://en.wikipedia.org/wiki/List_of_ISO_639-1_codes). \n",
        "detect(str(rando[\"Alternate Text\"]))"
      ],
      "metadata": {
        "id": "1ezA2eAbjsAP"
      },
      "execution_count": null,
      "outputs": []
    },
    {
      "cell_type": "markdown",
      "source": [
        "It would take to long to calculate all these values now for all of the entries in the dataset. So the next cell will just add a new column to our dataset of pre-calculated values.\n",
        "\n",
        "\n",
        "(It took 8 minutes for the code to run)"
      ],
      "metadata": {
        "id": "ceDW1-LmvMbl"
      }
    },
    {
      "cell_type": "code",
      "source": [
        "#open CSV to dataframe\n",
        "lang_data = pd.read_csv(\"https://raw.githubusercontent.com/BrockDSL/Analyzing_Web_Archives/main/language_data.csv\")\n",
        "#append to meme_data dataframe\n",
        "meme_data = meme_data.join(lang_data)\n",
        "meme_data.sample(5)"
      ],
      "metadata": {
        "id": "krcyF-bfvnuF"
      },
      "execution_count": null,
      "outputs": []
    },
    {
      "cell_type": "code",
      "source": [
        "language_count = dict()\n",
        "\n",
        "# Go through each row of the data and see what two letter language code\n",
        "# is in the iso_language_code metadata field\n",
        "\n",
        "for row in meme_data.itertuples(index=False):\n",
        "  language_entry = row[-1]\n",
        "  #Create a lookup 'dictionary' of codes\n",
        "  if language_entry in language_count:\n",
        "    language_count[language_entry] += 1\n",
        "  else:\n",
        "    language_count[language_entry] = 1\n",
        "    \n",
        "\n",
        "plt.pie(list(language_count.values()),labels=list(language_count.keys()))\n",
        "plt.title(\"Languages in the Memes\")\n",
        "plt.show()"
      ],
      "metadata": {
        "id": "c50-lZ6E20DK"
      },
      "execution_count": null,
      "outputs": []
    },
    {
      "cell_type": "markdown",
      "source": [
        "## Meme Scores!\n",
        "\n",
        "Memegenerator has voting capability. By clicking the up or down arrow users can increase / descrease this score. Let's see this for our random meme. Run the next cell to generate the preview"
      ],
      "metadata": {
        "id": "FZmcRBx99yiX"
      }
    },
    {
      "cell_type": "code",
      "source": [
        "\n",
        "\n",
        "preview_url = str(rando['Meme Page URL'].values[0])\n",
        "preview_url = preview_url.replace(\"http:\",\"https:\")\n",
        "\n",
        "IFrame(preview_url,width=1000, height=700)"
      ],
      "metadata": {
        "id": "V6jFu3cu-JuJ"
      },
      "execution_count": null,
      "outputs": []
    },
    {
      "cell_type": "markdown",
      "source": [
        "To enrich our dataset even more we found the scores of all of the memes in dataset. We did this by **downloading** all 60000 meme webpages and screen scrapping to find the score that was presented on the page.\n",
        "\n",
        "This took about **4 Hours** so we won't recreate this here. We will however open a CSV file of these scores and add them to our dataset."
      ],
      "metadata": {
        "id": "-YOZ69DHBPoI"
      }
    },
    {
      "cell_type": "code",
      "source": [
        "#Lets open the file and have a peak.\n",
        "meme_scores = pd.read_csv(\"https://raw.githubusercontent.com/BrockDSL/Analyzing_Web_Archives/main/meme_scores.csv\",dtype={'Meme ID': object})\n",
        "meme_scores[\"Meme ID\"] = meme_scores[\"Meme ID\"].astype(str)\n",
        "meme_scores.sample(5)"
      ],
      "metadata": {
        "id": "EwXj1N3uB2tW"
      },
      "execution_count": null,
      "outputs": []
    },
    {
      "cell_type": "markdown",
      "source": [
        "Let's add this data to our original dataset by matching on the **Meme ID** column. Then let's look at a couple of random entries of our newly enriched completed dataset. For memes that we couldn't get a score for, we use a placeholder valued called _NaN_. (We missed some scores because the memes were deleted from the website)\n",
        "\n",
        "##Pumping the brakes\n",
        "\n",
        " Since this is the last time we are going to add to our dataframe let's build it all from scratch again. That way we know all the columns look the way they should. Run the next cell to do this and we can proceed with the final part of our investigation."
      ],
      "metadata": {
        "id": "ft0tgjFmKavX"
      }
    },
    {
      "cell_type": "code",
      "source": [
        "#Original Dataset\n",
        "meme_data = pd.read_csv(\"https://raw.githubusercontent.com/BrockDSL/Analyzing_Web_Archives/main/memegenerator.csv\", sep=\",\")\n",
        "meme_data[\"Meme ID\"] = meme_data[\"Meme ID\"].astype(str)\n",
        "\n",
        "#Language information added\n",
        "lang_data = pd.read_csv(\"https://raw.githubusercontent.com/BrockDSL/Analyzing_Web_Archives/main/language_data.csv\")\n",
        "meme_data = meme_data.join(lang_data)\n",
        "\n",
        "#Meme Score Added\n",
        "meme_scores = pd.read_csv(\"https://raw.githubusercontent.com/BrockDSL/Analyzing_Web_Archives/main/meme_scores.csv\",dtype={'Meme ID': object})\n",
        "meme_scores[\"Meme ID\"] = meme_scores[\"Meme ID\"].astype(str)\n",
        "meme_data = pd.merge(meme_data,meme_scores,on=\"Meme ID\", how = \"outer\")\n",
        "meme_data.dropna(thresh=8,inplace=True)\n",
        "\n",
        "#set our random item to be from our new dataframe\n",
        "rando = meme_data.sample(1)\n",
        "meme_data.sample(5)"
      ],
      "metadata": {
        "id": "cVyweUDGFInr"
      },
      "execution_count": null,
      "outputs": []
    },
    {
      "cell_type": "markdown",
      "source": [
        "## The Final Analysis: Scores\n",
        "\n",
        "\n",
        "Let's take a look at some aspects of our data now that we have enriched it with all the extra pieces:\n",
        "\n",
        "- Language \n",
        "- Scores"
      ],
      "metadata": {
        "id": "4Jo6tagSOFfZ"
      }
    },
    {
      "cell_type": "code",
      "source": [
        "print(\"Average score of memes: \",meme_data[\"Score\"].mean())"
      ],
      "metadata": {
        "id": "7mUKduJiOxod"
      },
      "execution_count": null,
      "outputs": []
    },
    {
      "cell_type": "code",
      "source": [
        "print(\"Average score by languages, top 10 only: \")\n",
        "pd.DataFrame(meme_data.groupby(\"Language\").mean()[\"Score\"].sort_values(ascending=False)[0:10])"
      ],
      "metadata": {
        "id": "QmhQeA8RO_Cp"
      },
      "execution_count": null,
      "outputs": []
    },
    {
      "cell_type": "code",
      "source": [
        "print(\"Average score by base memes, top 25 only: \")\n",
        "#print(meme_data.groupby(\"Base Meme Name\").mean()[\"Score\"].sort_values(ascending=False)[0:25])\n",
        "pd.DataFrame(meme_data.groupby(\"Base Meme Name\").mean()[\"Score\"].sort_values(ascending=False)[0:25])"
      ],
      "metadata": {
        "id": "qLqdB5CMPjCT"
      },
      "execution_count": null,
      "outputs": []
    },
    {
      "cell_type": "markdown",
      "source": [
        "## Highest Scoring Meme in the dataset!"
      ],
      "metadata": {
        "id": "irr39pmDQyIe"
      }
    },
    {
      "cell_type": "code",
      "source": [
        "\n",
        "display(Image(url=meme_data[meme_data['Score'] == meme_data['Score'].max()]['Archived URL'].values[0], format='jpg'))\n",
        "meme_data[meme_data['Score'] == meme_data['Score'].max()]"
      ],
      "metadata": {
        "id": "1JictNgsQBnX"
      },
      "execution_count": null,
      "outputs": []
    },
    {
      "cell_type": "markdown",
      "source": [
        ""
      ],
      "metadata": {
        "id": "EcWm-GOCaE9Q"
      }
    }
  ]
}