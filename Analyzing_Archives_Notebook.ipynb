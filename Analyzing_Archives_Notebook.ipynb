{
  "nbformat": 4,
  "nbformat_minor": 0,
  "metadata": {
    "colab": {
      "name": "Analyzing Archives Notebook",
      "provenance": [],
      "collapsed_sections": [
        "N__nHbMP5pEW"
      ],
      "authorship_tag": "ABX9TyMjqSqXqn9nwEMukyQxb6W3",
      "include_colab_link": true
    },
    "kernelspec": {
      "name": "python3",
      "display_name": "Python 3"
    },
    "language_info": {
      "name": "python"
    }
  },
  "cells": [
    {
      "cell_type": "markdown",
      "metadata": {
        "id": "view-in-github",
        "colab_type": "text"
      },
      "source": [
        "<a href=\"https://colab.research.google.com/github/BrockDSL/Analyzing_Web_Archives/blob/main/Analyzing_Archives_Notebook.ipynb\" target=\"_parent\"><img src=\"https://colab.research.google.com/assets/colab-badge.svg\" alt=\"Open In Colab\"/></a>"
      ]
    },
    {
      "cell_type": "markdown",
      "source": [
        "![dsl_logo.png](https://raw.githubusercontent.com/BrockDSL/Analyzing_Web_Archives/main/dsl_logo.png)\n",
        "\n",
        "# Analyzing Web Archives\n",
        "\n",
        "Welcome to the Digital Scholarship Lab Level Analyzing Web Archives workshop. The following notebook provides an investigation into a subset of the [COVID-19 in Niagara Data set](https://archive-it.org/collections/13781). We'll be loading up a collection of web pages provided by different municipalities in the niagara region:\n",
        "\n",
        "- niagararegion.ca\n",
        "- notl.com\n",
        "- stcatharines.ca\n",
        "- niagarafalls.ca\n",
        "- lincoln.ca\n",
        "- forterie.ca\n",
        "- grimsby.ca\n",
        "- portcolborne.ca\n",
        "- thorold.ca\n",
        "- welland.ca\n",
        "- westlincoln.ca\n",
        "- wainfleet.ca\n",
        "- pelham.ca\n",
        "\n",
        "\n",
        "## How this notebook works\n",
        "\n",
        "This webpage is a Google Colab notebook and is comprised of different *cells*. Some are code cells that run Python snippets. To works through these cells simply click on the triangle _run_ button in each cell.\n"
      ],
      "metadata": {
        "id": "XrUoftm33f0w"
      }
    },
    {
      "cell_type": "code",
      "source": [
        "#Loading Libraries\n",
        "# Click the run button to the left to start up this notebook\n",
        "\n",
        "import pandas as pd\n",
        "import gdown\n",
        "from sklearn.preprocessing import MinMaxScaler\n",
        "%matplotlib inline\n",
        "from google.colab import files\n",
        "\n",
        "\n",
        "print(\"Libraries loaded. Ready to proceed.\")\n"
      ],
      "metadata": {
        "colab": {
          "base_uri": "https://localhost:8080/"
        },
        "id": "JOb2dXGA5ztt",
        "outputId": "3840418c-dfb7-4dc6-887f-653b9d4c25e6"
      },
      "execution_count": 189,
      "outputs": [
        {
          "output_type": "stream",
          "name": "stdout",
          "text": [
            "Libraries loaded. Ready to proceed.\n"
          ]
        }
      ]
    },
    {
      "cell_type": "markdown",
      "source": [
        "## Loading the data\n",
        "\n",
        "We've processed the data by creating a *CSV* file of the webpages from the domains above that are found in the archive. That way we can some text analysis on it directly. Here we read it in and show some basic information about it."
      ],
      "metadata": {
        "id": "N__nHbMP5pEW"
      }
    },
    {
      "cell_type": "code",
      "source": [
        "#File is so big we need to download it as a zip file, then uncompress it\n",
        "\n",
        "gdown.download(\"https://drive.google.com/u/0/uc?id=1oKNphdZkuNfeh-beuTkcIBo_EFLWO9zX&export=download\",\"municipal_data.csv.gz\",quiet=False)\n",
        "!gunzip municipal_data.csv.gz\n",
        "archive_data = pd.read_csv(\"municipal_data.csv\")\n",
        "#get rid of some uneeded cols\n",
        "del(archive_data['Unnamed: 0'])\n",
        "del(archive_data['index'])\n",
        "del(archive_data['mime_type_web_server'])\n",
        "del(archive_data['mime_type_tika'])\n",
        "del(archive_data['language'])\n",
        "archive_data['crawl_date']= pd.to_datetime(archive_data['crawl_date'],format='%Y-%m-%d')"
      ],
      "metadata": {
        "colab": {
          "base_uri": "https://localhost:8080/",
          "height": 109
        },
        "collapsed": true,
        "id": "LbZvbDc85lRM",
        "outputId": "0651d9e7-91fd-4aec-8dc5-947056427a47"
      },
      "execution_count": 4,
      "outputs": [
        {
          "output_type": "stream",
          "name": "stderr",
          "text": [
            "Downloading...\n",
            "From: https://drive.google.com/u/0/uc?id=1oKNphdZkuNfeh-beuTkcIBo_EFLWO9zX&export=download\n",
            "To: /content/municipal_data.csv.gz\n",
            "100%|██████████| 51.3M/51.3M [00:00<00:00, 76.6MB/s]\n"
          ]
        },
        {
          "output_type": "execute_result",
          "data": {
            "application/vnd.google.colaboratory.intrinsic+json": {
              "type": "string"
            },
            "text/plain": [
              "'municipal_data.csv.gz'"
            ]
          },
          "metadata": {},
          "execution_count": 4
        }
      ]
    },
    {
      "cell_type": "markdown",
      "source": [
        "## General information about the dataset"
      ],
      "metadata": {
        "id": "z-YpyuZQrdQ1"
      }
    },
    {
      "cell_type": "markdown",
      "source": [
        "Number of total records in dataset"
      ],
      "metadata": {
        "id": "fhhUrOATrrIo"
      }
    },
    {
      "cell_type": "code",
      "source": [
        "print(len(archive_data))"
      ],
      "metadata": {
        "colab": {
          "base_uri": "https://localhost:8080/"
        },
        "id": "cJj5EXHMnVp2",
        "outputId": "df615059-b7c9-4dde-e8d0-81c0bb593aaa"
      },
      "execution_count": 80,
      "outputs": [
        {
          "output_type": "stream",
          "name": "stdout",
          "text": [
            "61160\n"
          ]
        }
      ]
    },
    {
      "cell_type": "markdown",
      "source": [
        "Domains information captured in dataset:"
      ],
      "metadata": {
        "id": "gmR6HyCArx78"
      }
    },
    {
      "cell_type": "code",
      "source": [
        "ax = archive_data.groupby(\"domain\")[\"url\"].count().sort_values().plot(kind='barh')\n",
        "ax.set_title(\"Domains\")\n",
        "ax.set_label(\"Number of captures\")\n",
        "ax.set_xlabel(\"URLS captured\")\n",
        "plt.xticks(rotation=45)\n",
        "plt.show()"
      ],
      "metadata": {
        "colab": {
          "base_uri": "https://localhost:8080/",
          "height": 315
        },
        "id": "Eza4_Rtot55O",
        "outputId": "e47f02b0-4745-45f3-d754-b2d1824a7245"
      },
      "execution_count": 134,
      "outputs": [
        {
          "output_type": "display_data",
          "data": {
            "image/png": "[encoded data removed]",
            "text/plain": [
              "<Figure size 432x288 with 1 Axes>"
            ]
          },
          "metadata": {
            "needs_background": "light"
          }
        }
      ]
    },
    {
      "cell_type": "markdown",
      "source": [
        "## Specific City\n"
      ],
      "metadata": {
        "id": "2n8d5a9x0b0t"
      }
    },
    {
      "cell_type": "code",
      "source": [
        "#@title Specific City Data\n",
        "#@markdown Pick a city to see data just from it\n",
        "Selected = \"welland.ca\" #@param [\"notl.com\", \"stcatharines.ca\", \"niagarafalls.ca\",\"lincoln.ca\",\"forterie.ca\",\"grimsby.ca\",\"portcolborne.ca\",\"thorold.ca\",\"welland.ca\",\"westlincoln.ca\",\"wainfleet.ca\", \"pelham.ca\"] {allow-input: true}\n",
        "#@markdown How many URLs to show\n",
        "Count = 10  #@param {type: \"slider\", min: 1, max: 50}\n",
        "\n",
        "#@markdown Be sure to hit the *run* button to confirm your selection\n",
        "\n",
        "city_data = archive_data[archive_data.domain == Selected]\n",
        "city_data.groupby(\"url\").count().sort_values(by=\"crawl_date\",ascending=False)[0:Count]"
      ],
      "metadata": {
        "colab": {
          "base_uri": "https://localhost:8080/",
          "height": 394
        },
        "cellView": "form",
        "id": "T5_OJBG72Tfb",
        "outputId": "6211210b-7fa4-4fad-cfd2-451b94c94cad"
      },
      "execution_count": 220,
      "outputs": [
        {
          "output_type": "execute_result",
          "data": {
            "text/html": [
              "\n",
              "  <div id=\"df-645d7253-4b9f-48a8-b0c3-57773466bd5a\">\n",
              "    <div class=\"colab-df-container\">\n",
              "      <div>\n",
              "<style scoped>\n",
              "    .dataframe tbody tr th:only-of-type {\n",
              "        vertical-align: middle;\n",
              "    }\n",
              "\n",
              "    .dataframe tbody tr th {\n",
              "        vertical-align: top;\n",
              "    }\n",
              "\n",
              "    .dataframe thead th {\n",
              "        text-align: right;\n",
              "    }\n",
              "</style>\n",
              "<table border=\"1\" class=\"dataframe\">\n",
              "  <thead>\n",
              "    <tr style=\"text-align: right;\">\n",
              "      <th></th>\n",
              "      <th>crawl_date</th>\n",
              "      <th>domain</th>\n",
              "      <th>content</th>\n",
              "      <th>length</th>\n",
              "      <th>v_pos</th>\n",
              "      <th>v_neg</th>\n",
              "      <th>v_neu</th>\n",
              "      <th>v_comp</th>\n",
              "    </tr>\n",
              "    <tr>\n",
              "      <th>url</th>\n",
              "      <th></th>\n",
              "      <th></th>\n",
              "      <th></th>\n",
              "      <th></th>\n",
              "      <th></th>\n",
              "      <th></th>\n",
              "      <th></th>\n",
              "      <th></th>\n",
              "    </tr>\n",
              "  </thead>\n",
              "  <tbody>\n",
              "    <tr>\n",
              "      <th>https://www.welland.ca/hottopics/COVID-19.asp</th>\n",
              "      <td>54</td>\n",
              "      <td>54</td>\n",
              "      <td>54</td>\n",
              "      <td>54</td>\n",
              "      <td>54</td>\n",
              "      <td>54</td>\n",
              "      <td>54</td>\n",
              "      <td>54</td>\n",
              "    </tr>\n",
              "    <tr>\n",
              "      <th>https://www.welland.ca/ddmenu-source.html</th>\n",
              "      <td>42</td>\n",
              "      <td>42</td>\n",
              "      <td>42</td>\n",
              "      <td>42</td>\n",
              "      <td>42</td>\n",
              "      <td>42</td>\n",
              "      <td>42</td>\n",
              "      <td>42</td>\n",
              "    </tr>\n",
              "    <tr>\n",
              "      <th>https://www.welland.ca//transit</th>\n",
              "      <td>8</td>\n",
              "      <td>8</td>\n",
              "      <td>8</td>\n",
              "      <td>8</td>\n",
              "      <td>8</td>\n",
              "      <td>8</td>\n",
              "      <td>8</td>\n",
              "      <td>8</td>\n",
              "    </tr>\n",
              "    <tr>\n",
              "      <th>https://www.welland.ca/Templates/footer.asp</th>\n",
              "      <td>8</td>\n",
              "      <td>8</td>\n",
              "      <td>8</td>\n",
              "      <td>8</td>\n",
              "      <td>8</td>\n",
              "      <td>8</td>\n",
              "      <td>8</td>\n",
              "      <td>8</td>\n",
              "    </tr>\n",
              "    <tr>\n",
              "      <th>https://www.welland.ca/Transit/TransitNotices.asp</th>\n",
              "      <td>5</td>\n",
              "      <td>5</td>\n",
              "      <td>5</td>\n",
              "      <td>5</td>\n",
              "      <td>5</td>\n",
              "      <td>5</td>\n",
              "      <td>5</td>\n",
              "      <td>5</td>\n",
              "    </tr>\n",
              "    <tr>\n",
              "      <th>https://yourchannel.welland.ca/</th>\n",
              "      <td>5</td>\n",
              "      <td>5</td>\n",
              "      <td>5</td>\n",
              "      <td>5</td>\n",
              "      <td>5</td>\n",
              "      <td>5</td>\n",
              "      <td>5</td>\n",
              "      <td>5</td>\n",
              "    </tr>\n",
              "    <tr>\n",
              "      <th>https://www.welland.ca/TLmenu/TransitMenu.asp</th>\n",
              "      <td>4</td>\n",
              "      <td>4</td>\n",
              "      <td>4</td>\n",
              "      <td>4</td>\n",
              "      <td>4</td>\n",
              "      <td>4</td>\n",
              "      <td>4</td>\n",
              "      <td>4</td>\n",
              "    </tr>\n",
              "    <tr>\n",
              "      <th>https://www.welland.ca/TLmenu/CommonMenu.asp</th>\n",
              "      <td>3</td>\n",
              "      <td>3</td>\n",
              "      <td>3</td>\n",
              "      <td>3</td>\n",
              "      <td>3</td>\n",
              "      <td>3</td>\n",
              "      <td>3</td>\n",
              "      <td>3</td>\n",
              "    </tr>\n",
              "    <tr>\n",
              "      <th>https://www.welland.ca//</th>\n",
              "      <td>2</td>\n",
              "      <td>2</td>\n",
              "      <td>2</td>\n",
              "      <td>2</td>\n",
              "      <td>2</td>\n",
              "      <td>2</td>\n",
              "      <td>2</td>\n",
              "      <td>2</td>\n",
              "    </tr>\n",
              "    <tr>\n",
              "      <th>https://yourchannel.welland.ca/welland-wards-councillors-review</th>\n",
              "      <td>2</td>\n",
              "      <td>2</td>\n",
              "      <td>2</td>\n",
              "      <td>2</td>\n",
              "      <td>2</td>\n",
              "      <td>2</td>\n",
              "      <td>2</td>\n",
              "      <td>2</td>\n",
              "    </tr>\n",
              "  </tbody>\n",
              "</table>\n",
              "</div>\n",
              "      <button class=\"colab-df-convert\" onclick=\"convertToInteractive('df-645d7253-4b9f-48a8-b0c3-57773466bd5a')\"\n",
              "              title=\"Convert this dataframe to an interactive table.\"\n",
              "              style=\"display:none;\">\n",
              "        \n",
              "  <svg xmlns=\"http://www.w3.org/2000/svg\" height=\"24px\"viewBox=\"0 0 24 24\"\n",
              "       width=\"24px\">\n",
              "    <path d=\"M0 0h24v24H0V0z\" fill=\"none\"/>\n",
              "    <path d=\"M18.56 5.44l.94 2.06.94-2.06 2.06-.94-2.06-.94-.94-2.06-.94 2.06-2.06.94zm-11 1L8.5 8.5l.94-2.06 2.06-.94-2.06-.94L8.5 2.5l-.94 2.06-2.06.94zm10 10l.94 2.06.94-2.06 2.06-.94-2.06-.94-.94-2.06-.94 2.06-2.06.94z\"/><path d=\"M17.41 7.96l-1.37-1.37c-.4-.4-.92-.59-1.43-.59-.52 0-1.04.2-1.43.59L10.3 9.45l-7.72 7.72c-.78.78-.78 2.05 0 2.83L4 21.41c.39.39.9.59 1.41.59.51 0 1.02-.2 1.41-.59l7.78-7.78 2.81-2.81c.8-.78.8-2.07 0-2.86zM5.41 20L4 18.59l7.72-7.72 1.47 1.35L5.41 20z\"/>\n",
              "  </svg>\n",
              "      </button>\n",
              "      \n",
              "  <style>\n",
              "    .colab-df-container {\n",
              "      display:flex;\n",
              "      flex-wrap:wrap;\n",
              "      gap: 12px;\n",
              "    }\n",
              "\n",
              "    .colab-df-convert {\n",
              "      background-color: #E8F0FE;\n",
              "      border: none;\n",
              "      border-radius: 50%;\n",
              "      cursor: pointer;\n",
              "      display: none;\n",
              "      fill: #1967D2;\n",
              "      height: 32px;\n",
              "      padding: 0 0 0 0;\n",
              "      width: 32px;\n",
              "    }\n",
              "\n",
              "    .colab-df-convert:hover {\n",
              "      background-color: #E2EBFA;\n",
              "      box-shadow: 0px 1px 2px rgba(60, 64, 67, 0.3), 0px 1px 3px 1px rgba(60, 64, 67, 0.15);\n",
              "      fill: #174EA6;\n",
              "    }\n",
              "\n",
              "    [theme=dark] .colab-df-convert {\n",
              "      background-color: #3B4455;\n",
              "      fill: #D2E3FC;\n",
              "    }\n",
              "\n",
              "    [theme=dark] .colab-df-convert:hover {\n",
              "      background-color: #434B5C;\n",
              "      box-shadow: 0px 1px 3px 1px rgba(0, 0, 0, 0.15);\n",
              "      filter: drop-shadow(0px 1px 2px rgba(0, 0, 0, 0.3));\n",
              "      fill: #FFFFFF;\n",
              "    }\n",
              "  </style>\n",
              "\n",
              "      <script>\n",
              "        const buttonEl =\n",
              "          document.querySelector('#df-645d7253-4b9f-48a8-b0c3-57773466bd5a button.colab-df-convert');\n",
              "        buttonEl.style.display =\n",
              "          google.colab.kernel.accessAllowed ? 'block' : 'none';\n",
              "\n",
              "        async function convertToInteractive(key) {\n",
              "          const element = document.querySelector('#df-645d7253-4b9f-48a8-b0c3-57773466bd5a');\n",
              "          const dataTable =\n",
              "            await google.colab.kernel.invokeFunction('convertToInteractive',\n",
              "                                                     [key], {});\n",
              "          if (!dataTable) return;\n",
              "\n",
              "          const docLinkHtml = 'Like what you see? Visit the ' +\n",
              "            '<a target=\"_blank\" href=https://colab.research.google.com/notebooks/data_table.ipynb>data table notebook</a>'\n",
              "            + ' to learn more about interactive tables.';\n",
              "          element.innerHTML = '';\n",
              "          dataTable['output_type'] = 'display_data';\n",
              "          await google.colab.output.renderOutput(dataTable, element);\n",
              "          const docLink = document.createElement('div');\n",
              "          docLink.innerHTML = docLinkHtml;\n",
              "          element.appendChild(docLink);\n",
              "        }\n",
              "      </script>\n",
              "    </div>\n",
              "  </div>\n",
              "  "
            ],
            "text/plain": [
              "                                                    crawl_date  ...  v_comp\n",
              "url                                                             ...        \n",
              "https://www.welland.ca/hottopics/COVID-19.asp               54  ...      54\n",
              "https://www.welland.ca/ddmenu-source.html                   42  ...      42\n",
              "https://www.welland.ca//transit                              8  ...       8\n",
              "https://www.welland.ca/Templates/footer.asp                  8  ...       8\n",
              "https://www.welland.ca/Transit/TransitNotices.asp            5  ...       5\n",
              "https://yourchannel.welland.ca/                              5  ...       5\n",
              "https://www.welland.ca/TLmenu/TransitMenu.asp                4  ...       4\n",
              "https://www.welland.ca/TLmenu/CommonMenu.asp                 3  ...       3\n",
              "https://www.welland.ca//                                     2  ...       2\n",
              "https://yourchannel.welland.ca/welland-wards-co...           2  ...       2\n",
              "\n",
              "[10 rows x 8 columns]"
            ]
          },
          "metadata": {},
          "execution_count": 220
        }
      ]
    },
    {
      "cell_type": "markdown",
      "source": [
        "## Specific URL Data"
      ],
      "metadata": {
        "id": "AnJQH9V5HXur"
      }
    },
    {
      "cell_type": "code",
      "source": [
        "#@title Specific URL Data\n",
        "url = \"https://www.welland.ca/hottopics/COVID-19.asp\" #@param {type:\"string\"}\n",
        "\n",
        "#@markdown Be sure to hit the *run* button to confirm your selection\n",
        "\n",
        "url_data = archive_data[archive_data.url == url]\n",
        "url_data = url_data.sort_values(by=\"crawl_date\")\n",
        "\n",
        "#line plot of crawl date with length and v_comp\n",
        "\n",
        "url_data = archive_data[archive_data.url == url]\n",
        "url_data = url_data.sort_values(by=\"crawl_date\")\n",
        "\n",
        "plt.plot(url_data['crawl_date'],url_data['length'])\n",
        "plt.xticks(rotation=45)\n",
        "plt.title(\"Word count variation by crawl for: \" + url)\n",
        "plt.show()\n",
        "\n",
        "\n",
        "plt.plot(url_data['crawl_date'],url_data['v_comp'],color=\"red\")\n",
        "plt.xticks(rotation=45)\n",
        "plt.title(\"Sentiment Score Changes for: \" + url)\n",
        "plt.show()\n",
        "\n",
        "\n",
        "\n"
      ],
      "metadata": {
        "colab": {
          "base_uri": "https://localhost:8080/",
          "height": 599
        },
        "id": "uKYfvrR65jAb",
        "outputId": "4faf6de9-0499-4300-d655-a8d8892a813d"
      },
      "execution_count": 225,
      "outputs": [
        {
          "output_type": "display_data",
          "data": {
            "image/png": "[encoded data removed]",
            "text/plain": [
              "<Figure size 432x288 with 1 Axes>"
            ]
          },
          "metadata": {
            "needs_background": "light"
          }
        },
        {
          "output_type": "display_data",
          "data": {
            "image/png": "[encoded data removed]",
            "text/plain": [
              "<Figure size 432x288 with 1 Axes>"
            ]
          },
          "metadata": {
            "needs_background": "light"
          }
        }
      ]
    },
    {
      "cell_type": "markdown",
      "source": [
        "## View url history at Internet Archive"
      ],
      "metadata": {
        "id": "pXw_0PI9H-lJ"
      }
    },
    {
      "cell_type": "code",
      "source": [
        "unique_days = url_data.groupby(\"length\").first().sort_values(by='crawl_date')\n",
        "#url_map = pd.DataFrame(columns=[\"crawl_date\",\"length\",\"score\",\"link\"])\n",
        "url_map = pd.DataFrame(columns=[\"crawl_date\",\"length\",\"score\",\"link\"])\n",
        "for row in unique_days.itertuples():\n",
        "    date = row.crawl_date\n",
        "    date =  str(date).split(' ')[0].replace('-','')\n",
        "    length = len(row.content)\n",
        "    score = row.v_comp\n",
        "    line = []\n",
        "    line.append(date)\n",
        "    line.append(length)\n",
        "    line.append(score)\n",
        "    line.append(str(\"https://web.archive.org/web/\" + date + \"/\" + url))\n",
        "    line = pd.Series(line, index = url_map.columns)\n",
        "    #print(line,\"\\n\")\n",
        "    url_map.append(line, ignore_index=True)\n",
        "\n",
        "url_map\n"
      ],
      "metadata": {
        "colab": {
          "base_uri": "https://localhost:8080/",
          "height": 49
        },
        "id": "uSq7Zg-hIG0l",
        "outputId": "0aac4944-6e99-43e8-8838-e332874e7365"
      },
      "execution_count": 263,
      "outputs": [
        {
          "output_type": "execute_result",
          "data": {
            "text/html": [
              "\n",
              "  <div id=\"df-36b5bdc1-f6a5-4540-a054-c3ba97aa21a8\">\n",
              "    <div class=\"colab-df-container\">\n",
              "      <div>\n",
              "<style scoped>\n",
              "    .dataframe tbody tr th:only-of-type {\n",
              "        vertical-align: middle;\n",
              "    }\n",
              "\n",
              "    .dataframe tbody tr th {\n",
              "        vertical-align: top;\n",
              "    }\n",
              "\n",
              "    .dataframe thead th {\n",
              "        text-align: right;\n",
              "    }\n",
              "</style>\n",
              "<table border=\"1\" class=\"dataframe\">\n",
              "  <thead>\n",
              "    <tr style=\"text-align: right;\">\n",
              "      <th></th>\n",
              "      <th>crawl_date</th>\n",
              "      <th>length</th>\n",
              "      <th>score</th>\n",
              "      <th>link</th>\n",
              "    </tr>\n",
              "  </thead>\n",
              "  <tbody>\n",
              "  </tbody>\n",
              "</table>\n",
              "</div>\n",
              "      <button class=\"colab-df-convert\" onclick=\"convertToInteractive('df-36b5bdc1-f6a5-4540-a054-c3ba97aa21a8')\"\n",
              "              title=\"Convert this dataframe to an interactive table.\"\n",
              "              style=\"display:none;\">\n",
              "        \n",
              "  <svg xmlns=\"http://www.w3.org/2000/svg\" height=\"24px\"viewBox=\"0 0 24 24\"\n",
              "       width=\"24px\">\n",
              "    <path d=\"M0 0h24v24H0V0z\" fill=\"none\"/>\n",
              "    <path d=\"M18.56 5.44l.94 2.06.94-2.06 2.06-.94-2.06-.94-.94-2.06-.94 2.06-2.06.94zm-11 1L8.5 8.5l.94-2.06 2.06-.94-2.06-.94L8.5 2.5l-.94 2.06-2.06.94zm10 10l.94 2.06.94-2.06 2.06-.94-2.06-.94-.94-2.06-.94 2.06-2.06.94z\"/><path d=\"M17.41 7.96l-1.37-1.37c-.4-.4-.92-.59-1.43-.59-.52 0-1.04.2-1.43.59L10.3 9.45l-7.72 7.72c-.78.78-.78 2.05 0 2.83L4 21.41c.39.39.9.59 1.41.59.51 0 1.02-.2 1.41-.59l7.78-7.78 2.81-2.81c.8-.78.8-2.07 0-2.86zM5.41 20L4 18.59l7.72-7.72 1.47 1.35L5.41 20z\"/>\n",
              "  </svg>\n",
              "      </button>\n",
              "      \n",
              "  <style>\n",
              "    .colab-df-container {\n",
              "      display:flex;\n",
              "      flex-wrap:wrap;\n",
              "      gap: 12px;\n",
              "    }\n",
              "\n",
              "    .colab-df-convert {\n",
              "      background-color: #E8F0FE;\n",
              "      border: none;\n",
              "      border-radius: 50%;\n",
              "      cursor: pointer;\n",
              "      display: none;\n",
              "      fill: #1967D2;\n",
              "      height: 32px;\n",
              "      padding: 0 0 0 0;\n",
              "      width: 32px;\n",
              "    }\n",
              "\n",
              "    .colab-df-convert:hover {\n",
              "      background-color: #E2EBFA;\n",
              "      box-shadow: 0px 1px 2px rgba(60, 64, 67, 0.3), 0px 1px 3px 1px rgba(60, 64, 67, 0.15);\n",
              "      fill: #174EA6;\n",
              "    }\n",
              "\n",
              "    [theme=dark] .colab-df-convert {\n",
              "      background-color: #3B4455;\n",
              "      fill: #D2E3FC;\n",
              "    }\n",
              "\n",
              "    [theme=dark] .colab-df-convert:hover {\n",
              "      background-color: #434B5C;\n",
              "      box-shadow: 0px 1px 3px 1px rgba(0, 0, 0, 0.15);\n",
              "      filter: drop-shadow(0px 1px 2px rgba(0, 0, 0, 0.3));\n",
              "      fill: #FFFFFF;\n",
              "    }\n",
              "  </style>\n",
              "\n",
              "      <script>\n",
              "        const buttonEl =\n",
              "          document.querySelector('#df-36b5bdc1-f6a5-4540-a054-c3ba97aa21a8 button.colab-df-convert');\n",
              "        buttonEl.style.display =\n",
              "          google.colab.kernel.accessAllowed ? 'block' : 'none';\n",
              "\n",
              "        async function convertToInteractive(key) {\n",
              "          const element = document.querySelector('#df-36b5bdc1-f6a5-4540-a054-c3ba97aa21a8');\n",
              "          const dataTable =\n",
              "            await google.colab.kernel.invokeFunction('convertToInteractive',\n",
              "                                                     [key], {});\n",
              "          if (!dataTable) return;\n",
              "\n",
              "          const docLinkHtml = 'Like what you see? Visit the ' +\n",
              "            '<a target=\"_blank\" href=https://colab.research.google.com/notebooks/data_table.ipynb>data table notebook</a>'\n",
              "            + ' to learn more about interactive tables.';\n",
              "          element.innerHTML = '';\n",
              "          dataTable['output_type'] = 'display_data';\n",
              "          await google.colab.output.renderOutput(dataTable, element);\n",
              "          const docLink = document.createElement('div');\n",
              "          docLink.innerHTML = docLinkHtml;\n",
              "          element.appendChild(docLink);\n",
              "        }\n",
              "      </script>\n",
              "    </div>\n",
              "  </div>\n",
              "  "
            ],
            "text/plain": [
              "Empty DataFrame\n",
              "Columns: [crawl_date, length, score, link]\n",
              "Index: []"
            ]
          },
          "metadata": {},
          "execution_count": 263
        }
      ]
    }
  ]
}