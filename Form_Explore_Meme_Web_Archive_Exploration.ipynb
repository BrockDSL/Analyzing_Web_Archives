{
  "nbformat": 4,
  "nbformat_minor": 0,
  "metadata": {
    "colab": {
      "name": "Form Explore: Meme Web Archive Exploration",
      "provenance": [],
      "collapsed_sections": [],
      "include_colab_link": true
    },
    "kernelspec": {
      "name": "python3",
      "display_name": "Python 3"
    },
    "language_info": {
      "name": "python"
    }
  },
  "cells": [
    {
      "cell_type": "markdown",
      "metadata": {
        "id": "view-in-github",
        "colab_type": "text"
      },
      "source": [
        "<a href=\"https://colab.research.google.com/github/BrockDSL/Analyzing_Web_Archives/blob/main/Form_Explore_Meme_Web_Archive_Exploration.ipynb\" target=\"_parent\"><img src=\"https://colab.research.google.com/assets/colab-badge.svg\" alt=\"Open In Colab\"/></a>"
      ]
    },
    {
      "cell_type": "markdown",
      "source": [
        "![dsl_logo.png](https://raw.githubusercontent.com/BrockDSL/Analyzing_Web_Archives/main/dsl_logo.png)\n",
        "\n",
        "# Analyzing Web Archives\n",
        "\n",
        "Welcome to the Digital Scholarship Lab Level Analyzing Web Archives workshop. The following notebook provides an investigation into the [Meme Generator dataset](https://www.loc.gov/item/2018655320/)\n",
        "\n",
        "\n",
        "## How this notebook works\n",
        "\n",
        "This webpage is a Google Colab notebook and is comprised of different *cells*. Some are code cells that run Python snippets. To works through these cells simply click on the triangle _run_ button in each cell. Click in the cell below to see the play button, then click on it."
      ],
      "metadata": {
        "id": "7MDVEzH37J1m"
      }
    },
    {
      "cell_type": "code",
      "execution_count": null,
      "metadata": {
        "id": "zUSj3buK7GgK"
      },
      "outputs": [],
      "source": [
        "!pip install langdetect\n",
        "!pip install pandas\n",
        "\n",
        "import pandas as pd\n",
        "import matplotlib.pyplot as plt\n",
        "from IPython.display import Image,display,IFrame\n",
        "from ipywidgets import widgets,interact,interact_manual\n",
        "from langdetect import detect\n",
        "import matplotlib.pyplot as plt\n",
        "\n",
        "global rando\n",
        "\n",
        "%matplotlib inline\n",
        "print(\"\\nLibraries loaded, and ready to run!\")"
      ]
    },
    {
      "cell_type": "markdown",
      "source": [
        "# Loading our data set\n",
        "\n",
        "The information from this archive is saved in a _CSV_ file. Or put in otherwords, something like a spreadsheet. In the next cell we will load this file into something call a dataframe and we'll look at the first 5 entries by looking at the **head**."
      ],
      "metadata": {
        "id": "KSZ93LCjA8NB"
      }
    },
    {
      "cell_type": "code",
      "source": [
        "meme_data = pd.read_csv(\"https://raw.githubusercontent.com/BrockDSL/Analyzing_Web_Archives/main/memegenerator.csv\", sep=\",\")\n",
        "meme_data[\"Meme ID\"] = meme_data[\"Meme ID\"].astype(str)\n",
        "\n",
        "meme_data.head(5)"
      ],
      "metadata": {
        "id": "pD7R7tpLBXok"
      },
      "execution_count": null,
      "outputs": []
    },
    {
      "cell_type": "markdown",
      "source": [
        "\n",
        "\n",
        "---\n",
        "\n",
        "\n",
        "# Some General Data Exploration\n"
      ],
      "metadata": {
        "id": "vfrbcPB3G0iS"
      }
    },
    {
      "cell_type": "markdown",
      "source": [
        "### How much data?\n",
        "\n",
        "We can count the **length** of our data frame to see how many entries we have using thing len() function.\n"
      ],
      "metadata": {
        "id": "BJMUZ14FGYdt"
      }
    },
    {
      "cell_type": "markdown",
      "source": [
        ""
      ],
      "metadata": {
        "id": "3zgObrRj-Rtf"
      }
    },
    {
      "cell_type": "code",
      "source": [
        "\n",
        "print(\"We have this many memes to look at: \",len(meme_data))\n"
      ],
      "metadata": {
        "id": "3OzCSdRnGjLT"
      },
      "execution_count": null,
      "outputs": []
    },
    {
      "cell_type": "markdown",
      "source": [
        "### Random Entry\n",
        "\n",
        "To get a better sense of what is in our dataset let's look at a random entry by using **sample** with a value of 1. Click the below button a few times to get a few different options."
      ],
      "metadata": {
        "id": "g9c1piJ1FPPC"
      }
    },
    {
      "cell_type": "code",
      "source": [
        "rando = meme_data.sample(1)\n",
        "display(Image(url=rando['Archived URL'].values[0], format='jpg'))\n",
        "print(\"View on Memegenerator: \\t\",rando['Meme Page URL'].values[0])\n",
        "print(\"View on Archive: \\t\\t\\t\",rando['Archived URL'].values[0])\n",
        "rando"
      ],
      "metadata": {
        "id": "tkAfcLogFYru"
      },
      "execution_count": null,
      "outputs": []
    },
    {
      "cell_type": "markdown",
      "source": [
        "**Q1** Have a look at the data that is associated with a random record. In the chat box suggest some things you might want to explore with this data? Share your reponse in the chat box."
      ],
      "metadata": {
        "id": "OA30QAkAfZ0w"
      }
    },
    {
      "cell_type": "markdown",
      "source": [
        ""
      ],
      "metadata": {
        "id": "m69mlazEgFo-"
      }
    },
    {
      "cell_type": "markdown",
      "source": [
        "## Category of memes?\n",
        "\n",
        "As you might know, memes come in many different flavours. Let's see if we can find out how many types there are? We'll do this by **grouping** our _Base Meme Name_ column and **counting** how many entries are in each."
      ],
      "metadata": {
        "id": "D3bk4rXDFBVZ"
      }
    },
    {
      "cell_type": "code",
      "source": [
        "meme_data.groupby([\"Base Meme Name\"]).count()"
      ],
      "metadata": {
        "id": "keJ_eKyaE_SR"
      },
      "execution_count": null,
      "outputs": []
    },
    {
      "cell_type": "markdown",
      "source": [
        "**Q2** Based on the above summary how many different type so memes we have? Share your response in the chat box."
      ],
      "metadata": {
        "id": "Jeh2fR1eHDlc"
      }
    },
    {
      "cell_type": "markdown",
      "source": [
        ""
      ],
      "metadata": {
        "id": "roCbVFJpgKjo"
      }
    },
    {
      "cell_type": "markdown",
      "source": [
        "Yikes! That looks like a lot. Let's just keep the top **25** entries. We'll do this by **sorting**."
      ],
      "metadata": {
        "id": "zubnxndqFuQ-"
      }
    },
    {
      "cell_type": "code",
      "source": [
        "\n",
        "meme_data.groupby([\"Base Meme Name\"]).count().sort_values(by=\"Meme ID\",ascending=False)[0:25]"
      ],
      "metadata": {
        "id": "tl9azoXCF35p"
      },
      "execution_count": null,
      "outputs": []
    },
    {
      "cell_type": "code",
      "source": [
        "#Random Entry Form\n",
        "def show_random(choice):\n",
        "  rando = meme_data[meme_data[\"Base Meme Name\"] == str(choice)].sample(1)\n",
        "  print(\"View on Memegenerator: \\t\",rando['Meme Page URL'].values[0])\n",
        "  print(\"View on Archive: \\t\\t\\t\",rando['Archived URL'].values[0])\n",
        "  display(Image(url=rando['Archived URL'].values[0], format='jpg'))\n",
        "  display(rando)\n",
        "\n",
        "\n",
        "title_textbox = widgets.Text(\n",
        "    value='Me Gusta',\n",
        "    description='Category',\n",
        ")\n",
        "print(\"Enter a meme category from the list above to see a random entry in that category\")\n",
        "print(\"Click 'Show' to display\\n\")\n",
        "show_random_control = interact_manual.options(manual_name=\"Show\")\n",
        "show_random_control(show_random,choice=title_textbox);"
      ],
      "metadata": {
        "id": "VgEuYlY6bSqE"
      },
      "execution_count": null,
      "outputs": []
    },
    {
      "cell_type": "markdown",
      "source": [
        "Let's know look at how the meme is displayed as a table"
      ],
      "metadata": {
        "id": "RHvToPQC19Yg"
      }
    },
    {
      "cell_type": "markdown",
      "source": [
        "What's the **average** number of memes in each type?\n",
        "\n"
      ],
      "metadata": {
        "id": "b_BrvuMfN8rd"
      }
    },
    {
      "cell_type": "code",
      "source": [
        "meme_type_average = meme_data.groupby([\"Base Meme Name\"])[\"Meme ID\"].count().mean()\n",
        "print(\"Average number of entries per meme category: \",meme_type_average)"
      ],
      "metadata": {
        "id": "x27KK6YLOGpd"
      },
      "execution_count": null,
      "outputs": []
    },
    {
      "cell_type": "markdown",
      "source": [
        "The average might be a little misleading. Let's also check what the median number is for each base meme. The code chunk below is incomplete. Can you resolve the error?"
      ],
      "metadata": {
        "id": "wTSbEZ7zC6SD"
      }
    },
    {
      "cell_type": "code",
      "source": [
        "meme_type_median = meme_data.groupby([\"Base Meme Name\"])[\"Meme ID\"].count().()\n",
        "print(\"The median number of entires per base meme is: \",meme_type_median)"
      ],
      "metadata": {
        "id": "6DKeHnnFC5dF"
      },
      "execution_count": null,
      "outputs": []
    },
    {
      "cell_type": "markdown",
      "source": [
        "As you can see, the difference between the mean and the median is significant. This is because there's a skewed distribution in our dataset. Do you have any guesses as to why this might be the case? Share your thoughts in the chat!\n",
        "\n",
        "Let's visualize this skewed distribution by drawing a **histogram**."
      ],
      "metadata": {
        "id": "o3YoM9_scv8I"
      }
    },
    {
      "cell_type": "code",
      "source": [
        "bins = 150\n",
        "\n",
        "plt.hist(meme_data.groupby([\"Base Meme Name\"]).count().sort_values(by=\"Meme ID\",ascending=False)[\"Meme ID\"],bins)\n",
        "\n",
        "plt.title(\"Category Frequency\")\n",
        "plt.xlabel(\"Number of Entries\")\n",
        "plt.ylabel(\"Number of Categories\")\n",
        "plt.show()"
      ],
      "metadata": {
        "id": "IJBzAe84d6y6"
      },
      "execution_count": null,
      "outputs": []
    },
    {
      "cell_type": "markdown",
      "source": [
        "**Q3** Can you describe this graph? What is the biggest value that it is showing?"
      ],
      "metadata": {
        "id": "booB-XZJfvib"
      }
    },
    {
      "cell_type": "markdown",
      "source": [
        "\n",
        "\n",
        "---\n",
        "\n",
        "\n",
        "# Enriching the Data\n",
        "\n",
        "We've had some fun looking at different components of the data, but let's see if we an **enrich** the data by adding more columns of information to it."
      ],
      "metadata": {
        "id": "QyQjKP6cKY9H"
      }
    },
    {
      "cell_type": "markdown",
      "source": [
        "## Language info\n",
        "\n",
        "As we've seen in our examples there are many different languages represented in our dataset. Let's see if we can **enrich** our dataset by automatically detecting what language it is and adding that as a new column. We'll use the [langdetect](https://pypi.org/project/langdetect/) library to do this. We can use the text in the _Alternate Text_ column."
      ],
      "metadata": {
        "id": "XhH97IFLhdoB"
      }
    },
    {
      "cell_type": "code",
      "source": [
        "#Let's look at our random item again\n",
        "rando"
      ],
      "metadata": {
        "id": "ECsGpyPHknSl"
      },
      "execution_count": null,
      "outputs": []
    },
    {
      "cell_type": "code",
      "source": [
        "# Let's the language of the random entry from earlier\n",
        "# We'll get a two letter languge code that represents one of the languages in the list of ISO 639-1 codes (https://en.wikipedia.org/wiki/List_of_ISO_639-1_codes). \n",
        "print(detect(str(rando[\"Alternate Text\"])))"
      ],
      "metadata": {
        "colab": {
          "base_uri": "https://localhost:8080/"
        },
        "id": "1ezA2eAbjsAP",
        "outputId": "697e4020-8278-4e79-b963-a880529c3db4"
      },
      "execution_count": null,
      "outputs": [
        {
          "output_type": "stream",
          "name": "stdout",
          "text": [
            "en\n"
          ]
        }
      ]
    },
    {
      "cell_type": "markdown",
      "source": [
        "It would take to long to calculate all these values now for all of the entries in the dataset. So the next cell will just add a new column to our dataset of pre-calculated values. (It took 8 minutes for language detection code to run on the original dataset)\n",
        "\n",
        "Have a look at the new column _Language_ that was added."
      ],
      "metadata": {
        "id": "ceDW1-LmvMbl"
      }
    },
    {
      "cell_type": "code",
      "source": [
        "#reload original dataset\n",
        "meme_data = pd.read_csv(\"https://raw.githubusercontent.com/BrockDSL/Analyzing_Web_Archives/main/memegenerator.csv\", sep=\",\")\n",
        "meme_data[\"Meme ID\"] = meme_data[\"Meme ID\"].astype(str)\n",
        "\n",
        "#open CSV of language info and create a dataframe\n",
        "lang_data = pd.read_csv(\"https://raw.githubusercontent.com/BrockDSL/Analyzing_Web_Archives/main/language_data.csv\")\n",
        "\n",
        "#language data from to meme_data dataframe\n",
        "meme_data = meme_data.join(lang_data)\n",
        "meme_data.sample(5)"
      ],
      "metadata": {
        "id": "krcyF-bfvnuF"
      },
      "execution_count": null,
      "outputs": []
    },
    {
      "cell_type": "markdown",
      "source": [
        "\n",
        "## Summary of Language Information\n",
        "\n",
        "Run the next cell to generate a pie graph of the language count in the meme."
      ],
      "metadata": {
        "id": "ADzD1K2H-Kmi"
      }
    },
    {
      "cell_type": "code",
      "source": [
        "language_count = dict()\n",
        "\n",
        "# Go through each row of the data and see what two letter language code\n",
        "# is in the iso_language_code metadata field\n",
        "\n",
        "for row in meme_data.itertuples(index=False):\n",
        "  language_entry = row[-1]\n",
        "  #Create a lookup 'dictionary' of codes\n",
        "  if language_entry in language_count:\n",
        "    language_count[language_entry] += 1\n",
        "  else:\n",
        "    language_count[language_entry] = 1\n",
        "    \n",
        "\n",
        "plt.pie(list(language_count.values()),labels=list(language_count.keys()))\n",
        "plt.title(\"Languages in the Memes\")\n",
        "plt.show()"
      ],
      "metadata": {
        "id": "c50-lZ6E20DK"
      },
      "execution_count": null,
      "outputs": []
    },
    {
      "cell_type": "markdown",
      "source": [
        "That's a lot of languages!"
      ],
      "metadata": {
        "id": "um-YP0h7-eaY"
      }
    },
    {
      "cell_type": "markdown",
      "source": [
        "## Meme Scores!\n",
        "\n",
        "Memegenerator has voting capability. By clicking the up or down arrow users can increase / descrease this score. Let's see this for our random meme. Run the next cell to generate the preview"
      ],
      "metadata": {
        "id": "FZmcRBx99yiX"
      }
    },
    {
      "cell_type": "code",
      "source": [
        "preview_url = str(rando['Meme Page URL'].values[0])\n",
        "preview_url = preview_url.replace(\"http:\",\"https:\")\n",
        "\n",
        "IFrame(preview_url,width=1000, height=700)"
      ],
      "metadata": {
        "id": "V6jFu3cu-JuJ"
      },
      "execution_count": null,
      "outputs": []
    },
    {
      "cell_type": "markdown",
      "source": [
        "To enrich our dataset even more we found the scores of all of the memes in dataset. We did this by **downloading** all 60000 meme webpages and screen scrapping to find the score that was presented on the page. This took about **4 Hours** so we won't recreate this here. We will however open a CSV file of these scores and add them to our dataset, just like we did with the language information. Run the next cell to do this and preview a few random scores."
      ],
      "metadata": {
        "id": "-YOZ69DHBPoI"
      }
    },
    {
      "cell_type": "code",
      "source": [
        "#Lets open the file and have a peak.\n",
        "meme_scores = pd.read_csv(\"https://raw.githubusercontent.com/BrockDSL/Analyzing_Web_Archives/main/meme_scores.csv\",dtype={'Meme ID': object})\n",
        "meme_scores[\"Meme ID\"] = meme_scores[\"Meme ID\"].astype(str)\n",
        "meme_scores.sample(5)"
      ],
      "metadata": {
        "id": "EwXj1N3uB2tW"
      },
      "execution_count": null,
      "outputs": []
    },
    {
      "cell_type": "markdown",
      "source": [
        "## Constructing the Final Data Set"
      ],
      "metadata": {
        "id": "d_DhgAOQKyUd"
      }
    },
    {
      "cell_type": "markdown",
      "source": [
        "Let's add this data to our original dataset by matching on the **Meme ID** column. Then let's look at a couple of random entries of our newly enriched completed dataset. For memes that we couldn't get a score for, we use a placeholder valued called _NaN_. (We missed some scores because the memes were deleted from the website) Run the next cell to create our final version of the dataset with all of enriched data and display a few random entries. Notice how we add a column called _Score_.\n"
      ],
      "metadata": {
        "id": "ft0tgjFmKavX"
      }
    },
    {
      "cell_type": "code",
      "source": [
        "#Original Dataset\n",
        "meme_data = pd.read_csv(\"https://raw.githubusercontent.com/BrockDSL/Analyzing_Web_Archives/main/memegenerator.csv\", sep=\",\")\n",
        "meme_data[\"Meme ID\"] = meme_data[\"Meme ID\"].astype(str)\n",
        "\n",
        "#Language information added\n",
        "lang_data = pd.read_csv(\"https://raw.githubusercontent.com/BrockDSL/Analyzing_Web_Archives/main/language_data.csv\")\n",
        "meme_data = meme_data.join(lang_data)\n",
        "\n",
        "#Meme Score Added\n",
        "meme_scores = pd.read_csv(\"https://raw.githubusercontent.com/BrockDSL/Analyzing_Web_Archives/main/meme_scores.csv\",dtype={'Meme ID': object})\n",
        "meme_scores[\"Meme ID\"] = meme_scores[\"Meme ID\"].astype(str)\n",
        "meme_data = pd.merge(meme_data,meme_scores,on=\"Meme ID\", how = \"outer\")\n",
        "meme_data.dropna(thresh=8,inplace=True)\n",
        "\n",
        "#set our random item to be from our new dataframe\n",
        "rando = meme_data.sample(1)\n",
        "meme_data.sample(5)"
      ],
      "metadata": {
        "id": "cVyweUDGFInr"
      },
      "execution_count": null,
      "outputs": []
    },
    {
      "cell_type": "markdown",
      "source": [
        "\n",
        "\n",
        "---\n",
        "\n",
        "\n",
        "# The Final Analysis: Scores\n",
        "\n",
        "\n",
        "Let's take a look at some aspects of our data now that we have enriched it with all the extra pieces:\n",
        "\n",
        "- Language \n",
        "- Scores\n",
        "\n",
        "First our average score..."
      ],
      "metadata": {
        "id": "4Jo6tagSOFfZ"
      }
    },
    {
      "cell_type": "code",
      "source": [
        "print(\"Average score of memes: \",meme_data[\"Score\"].mean())"
      ],
      "metadata": {
        "colab": {
          "base_uri": "https://localhost:8080/"
        },
        "id": "7mUKduJiOxod",
        "outputId": "194a0780-23e8-439d-92d9-ad7e781b8b6d"
      },
      "execution_count": null,
      "outputs": [
        {
          "output_type": "stream",
          "name": "stdout",
          "text": [
            "Average score of memes:  10.576686894303052\n"
          ]
        }
      ]
    },
    {
      "cell_type": "markdown",
      "source": [
        "## Average Scores by Language\n",
        "\n",
        "Let's see what our averages scores are for the top 10 languages in our dataset."
      ],
      "metadata": {
        "id": "8lna3w2OAk5y"
      }
    },
    {
      "cell_type": "code",
      "source": [
        "print(\"Average score by languages, top 10 only: \")\n",
        "top_by_language = pd.DataFrame(meme_data.groupby(\"Language\").mean()[\"Score\"].sort_values(ascending=False)[0:10])\n",
        "top_by_language"
      ],
      "metadata": {
        "id": "QmhQeA8RO_Cp"
      },
      "execution_count": null,
      "outputs": []
    },
    {
      "cell_type": "markdown",
      "source": [
        "\n",
        "## Top Score by Language\n",
        "\n",
        "Run the cell below and add the two letter code of a _Language_ in the box below to see the highest scoring meme in that category. Click the **Show** button to retrieve the top meme."
      ],
      "metadata": {
        "id": "Uy5gaYE-H_Pk"
      }
    },
    {
      "cell_type": "code",
      "source": [
        "def show_top_by_language(language_choice):\n",
        "  top_lang_score = meme_data[meme_data[\"Language\"] == language_choice]\n",
        "  top_lang_score = pd.DataFrame(top_lang_score.max()).T\n",
        "  display(Image(url=top_lang_score['Archived URL'].values[0], format='jpg'))\n",
        "  display(top_lang_score)\n",
        "\n",
        "language_textbox = widgets.Text(\n",
        "    value = 'de',\n",
        "    description = 'Language'\n",
        "\n",
        ")\n",
        "show_top_lang_control = interact_manual.options(manual_name=\"Show\")\n",
        "show_top_lang_control(show_top_by_language,language_choice=language_textbox);"
      ],
      "metadata": {
        "id": "w8fomuG5IZam"
      },
      "execution_count": null,
      "outputs": []
    },
    {
      "cell_type": "markdown",
      "source": [
        "## Average Score by Base Meme\n",
        "\n",
        "Let's see what our averages scores are for the top 25 Base Memes in our dataset."
      ],
      "metadata": {
        "id": "YoNvQoXiIUdA"
      }
    },
    {
      "cell_type": "code",
      "source": [
        "print(\"Average score by base memes, top 25 only: \")\n",
        "top_by_category = pd.DataFrame(meme_data.groupby(\"Base Meme Name\").mean()[\"Score\"].sort_values(ascending=False)[0:25])\n",
        "top_by_category"
      ],
      "metadata": {
        "id": "qLqdB5CMPjCT"
      },
      "execution_count": null,
      "outputs": []
    },
    {
      "cell_type": "markdown",
      "source": [
        "## Highest Scoring Meme by Meme Catgory\n",
        "\n",
        "Run the cell below and dd the name of a _Base Meme Name_ in the box below to see the highest scoring meme in that category. Click the **Show** button to retrieve the top meme."
      ],
      "metadata": {
        "id": "5DCMw8ta_50t"
      }
    },
    {
      "cell_type": "code",
      "source": [
        "def show_top_by_category(category_choice):\n",
        "  top_cat_score = meme_data[meme_data[\"Base Meme Name\"] == category_choice]\n",
        "  top_cat_score = pd.DataFrame(top_cat_score.max()).T\n",
        "  display(Image(url=top_cat_score['Archived URL'].values[0], format='jpg'))\n",
        "  display(top_cat_score)\n",
        " \n",
        "category_textbox = widgets.Text(\n",
        "    value = 'Sudden Clarity Clarence',\n",
        "    description = 'Category'\n",
        "\n",
        ")\n",
        "show_top_cat_control = interact_manual.options(manual_name=\"Show\")\n",
        "show_top_cat_control(show_top_by_category,category_choice=category_textbox);"
      ],
      "metadata": {
        "id": "c85Eu4flBTNU"
      },
      "execution_count": null,
      "outputs": []
    },
    {
      "cell_type": "markdown",
      "source": [
        "## Highest Scoring Meme in the dataset!\n",
        "\n",
        "\n",
        "Now that we've explored some different dimensions of the data let's take a look at the hightest scoring meme in the whole data set. Run the final code cell below to find out what it is."
      ],
      "metadata": {
        "id": "irr39pmDQyIe"
      }
    },
    {
      "cell_type": "code",
      "source": [
        "display(Image(url=meme_data[meme_data['Score'] == meme_data['Score'].max()]['Archived URL'].values[0], format='jpg'))\n",
        "meme_data[meme_data['Score'] == meme_data['Score'].max()]"
      ],
      "metadata": {
        "id": "1JictNgsQBnX"
      },
      "execution_count": null,
      "outputs": []
    },
    {
      "cell_type": "markdown",
      "source": [
        "\n",
        "# Congratulations\n",
        "\n",
        "You've now had a tour of the Memegenerator dataset and found some interesting results."
      ],
      "metadata": {
        "id": "EcWm-GOCaE9Q"
      }
    }
  ]
}